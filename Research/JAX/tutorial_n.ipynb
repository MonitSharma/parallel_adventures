{
 "cells": [
  {
   "cell_type": "markdown",
   "id": "c3eac998",
   "metadata": {},
   "source": [
    "## **JAX**"
   ]
  },
  {
   "cell_type": "markdown",
   "id": "9104994a",
   "metadata": {},
   "source": [
    "JAX is a library for array-oriented numerical computation, with automatic differentiation and JIT compilation to enable high-performance machine learning research"
   ]
  },
  {
   "cell_type": "markdown",
   "id": "dc076bbb",
   "metadata": {},
   "source": [
    "1. JAX provide a unified NumPy-like interface to computations that run on CPU, GPU or TPI, in local or distributed settings,\n",
    "2. JAX features built-in Jut-in-Time (JIT) compilation, and open source machine learning compiler ecosystem.\n",
    "3. JAX functions support efficient evalution of gradients via its automatic differentiation transformations.\n",
    "4. JAX functions can be automatically vectorized to efficiently map them over arrays representing batches of inputs"
   ]
  },
  {
   "cell_type": "code",
   "execution_count": 1,
   "id": "c2cd165d",
   "metadata": {},
   "outputs": [],
   "source": [
    "import jax.numpy as jnp"
   ]
  },
  {
   "cell_type": "markdown",
   "id": "c506a418",
   "metadata": {},
   "source": [
    "With the above import, we can immediately start using JAX in a similar manner to NumPy"
   ]
  },
  {
   "cell_type": "code",
   "execution_count": 2,
   "id": "9d981350",
   "metadata": {},
   "outputs": [
    {
     "name": "stdout",
     "output_type": "stream",
     "text": [
      "[0.        1.05      2.1       3.1499999 4.2      ]\n"
     ]
    }
   ],
   "source": [
    "def selu(x, alpha=1.67, lmbda=1.05):\n",
    "  return lmbda * jnp.where(x > 0, x, alpha * jnp.exp(x) - alpha)\n",
    "\n",
    "x = jnp.arange(5.0)\n",
    "print(selu(x))"
   ]
  },
  {
   "cell_type": "markdown",
   "id": "b184d162",
   "metadata": {},
   "source": [
    "JAX works great for many numerical and scientific programs, but only if they are written with certain constraints, as explained below:"
   ]
  },
  {
   "cell_type": "code",
   "execution_count": 3,
   "id": "674d5dff",
   "metadata": {},
   "outputs": [],
   "source": [
    "import numpy as np\n",
    "from jax import jit\n",
    "from jax import random\n",
    "from jax import lax\n",
    "import jax\n",
    "import jax.numpy as jnp"
   ]
  },
  {
   "cell_type": "markdown",
   "id": "270b9da2",
   "metadata": {},
   "source": [
    "### Pure Functions"
   ]
  },
  {
   "cell_type": "markdown",
   "id": "36ec2a32",
   "metadata": {},
   "source": [
    "JAX transformation and compilation are designed to work only on Python functions that are **functionally pure**, i.e all the input data is passed through the function parameters, all the results are output through the function results. A pure function will always return the same result if invoked with the same inputs."
   ]
  },
  {
   "cell_type": "markdown",
   "id": "8e7f7704",
   "metadata": {},
   "source": [
    "Let's see an impure function"
   ]
  },
  {
   "cell_type": "code",
   "execution_count": 4,
   "id": "dad55f1d",
   "metadata": {},
   "outputs": [],
   "source": [
    "def impure_print_side_effect(x):\n",
    "    print(\"This is a side effect\")\n",
    "    return x + 1"
   ]
  },
  {
   "cell_type": "code",
   "execution_count": 5,
   "id": "72200980",
   "metadata": {},
   "outputs": [
    {
     "name": "stdout",
     "output_type": "stream",
     "text": [
      "This is a side effect\n",
      " First call: 5.0\n"
     ]
    }
   ],
   "source": [
    "print(f\" First call: {jit(impure_print_side_effect)(4.)}\")"
   ]
  },
  {
   "cell_type": "code",
   "execution_count": 6,
   "id": "c129d0c7",
   "metadata": {},
   "outputs": [
    {
     "name": "stdout",
     "output_type": "stream",
     "text": [
      "Second call: 6.0\n"
     ]
    }
   ],
   "source": [
    "print(f\"Second call: {jit(impure_print_side_effect)(5.)}\")"
   ]
  },
  {
   "cell_type": "code",
   "execution_count": 9,
   "id": "a0af8c23",
   "metadata": {},
   "outputs": [
    {
     "name": "stdout",
     "output_type": "stream",
     "text": [
      "This is a side effect\n",
      "Third call, different type :  [7.]\n"
     ]
    }
   ],
   "source": [
    "print(\"Third call, different type : \", jit(impure_print_side_effect)(jnp.array([6.])))"
   ]
  },
  {
   "cell_type": "markdown",
   "id": "ede72bc7",
   "metadata": {},
   "source": [
    "A Pure function is one L\n",
    "- Only depends on its inputs\n",
    "- Returns the same output every time for the same inputs\n",
    "- Does not produce side effects (like printing, writing files, modifying global state)\n",
    "\n",
    "\n",
    "Example of a Pure function :\n",
    "\n",
    "```python\n",
    "def add(x,y):\n",
    "    return x+y\n",
    "```\n",
    "\n",
    "This is pure, same result every time, no print, not file writing"
   ]
  },
  {
   "cell_type": "markdown",
   "id": "963581f9",
   "metadata": {},
   "source": [
    "An impure function is one that \n",
    "- Depends on external/global state or randomness\n",
    "- Produces side effects (like printing, logging, writing to disk)\n",
    "- Might return different outputs for the same inputs\n",
    "\n",
    "\n",
    "You can see the example above "
   ]
  },
  {
   "cell_type": "markdown",
   "id": "d9138f81",
   "metadata": {},
   "source": [
    "#### **Why Does it Happen?**\n",
    "\n",
    "\n"
   ]
  },
  {
   "cell_type": "markdown",
   "id": "15fd13f4",
   "metadata": {},
   "source": [
    "1. JAX uses tracing to compile functions, when we use `jit` like \n",
    "```python\n",
    "@jit\n",
    "def f(x):\n",
    "    return x+1\n",
    "```\n",
    "\n",
    "JAX doesn't just execute `f`, it \n",
    "- traces the function with placeholder values (called tracers)\n",
    "- builds a computation gaph (like XLA IR)\n",
    "- compiles it into efficient machine code\n",
    "\n",
    "During this tracing phase, JAX runs your python function once with fake inputs to \"record\" its operations\n",
    "\n",
    "\n",
    "2. JAX caches compiled functions\n",
    "\n",
    "Once it compiles a function for a specific input shape and dtype, it reuses the compiled version next time, this is where functional purity matters.\n",
    " - If your function had side effects, they'd only happen once during the trace\n",
    " - Later calls (using cached compiled code) would skip them , breaking the logic"
   ]
  },
  {
   "cell_type": "code",
   "execution_count": 10,
   "id": "2938d0fb",
   "metadata": {},
   "outputs": [
    {
     "name": "stdout",
     "output_type": "stream",
     "text": [
      "This only prints once — during tracing!\n",
      "First call: 5.0\n",
      "Second call: 6.0\n",
      "This only prints once — during tracing!\n",
      "Third call (with array): [7.]\n"
     ]
    }
   ],
   "source": [
    "def impure_fn(x):\n",
    "    print(\"This only prints once — during tracing!\")\n",
    "    return x + 1\n",
    "\n",
    "# Apply JAX's jit (just-in-time compiler)\n",
    "fast_fn = jit(impure_fn)\n",
    "\n",
    "# First call — triggers tracing and compilation\n",
    "print(\"First call:\", fast_fn(4.0))\n",
    "\n",
    "# Second call — uses cached compiled version (no tracing)\n",
    "print(\"Second call:\", fast_fn(5.0))\n",
    "\n",
    "# Third call — with different type/shape triggers retracing\n",
    "print(\"Third call (with array):\", fast_fn(jnp.array([6.0])))"
   ]
  },
  {
   "cell_type": "markdown",
   "id": "7bf1bc7c",
   "metadata": {},
   "source": [
    "It's best to keep any `print` or other things outside the `@jit` function"
   ]
  },
  {
   "cell_type": "markdown",
   "id": "8b6044af",
   "metadata": {},
   "source": [
    "Even for the global values:"
   ]
  },
  {
   "cell_type": "code",
   "execution_count": 12,
   "id": "2ab31172",
   "metadata": {},
   "outputs": [
    {
     "name": "stdout",
     "output_type": "stream",
     "text": [
      "This only prints once — during tracing!\n",
      "First call with global: 4.0\n",
      "Second call with changed global: 5.0\n",
      "This only prints once — during tracing!\n",
      "Third call with array input: [7.]\n"
     ]
    }
   ],
   "source": [
    "g = 0 \n",
    "def impure_fn_with_global(x):\n",
    "    print(\"This only prints once — during tracing!\")\n",
    "    return x + g\n",
    "\n",
    "\n",
    "print(\"First call with global:\", jit(impure_fn_with_global)(4.0))\n",
    "g = 1  # Change the global variable\n",
    "print(\"Second call with changed global:\", jit(impure_fn_with_global)(5.0)) # here technically I should see 6 as the result, but I see 5 instead\n",
    "\n",
    "# now when we change the type of the input, it retraces\n",
    "print(\"Third call with array input:\", jit(impure_fn_with_global)(jnp.array([6.0])))\n",
    "# This will print \"This only prints once — during tracing!\" again,\n",
    "# because the input type has changed, so JAX needs to trace the function again.\"\""
   ]
  },
  {
   "cell_type": "markdown",
   "id": "6ed04e51",
   "metadata": {},
   "source": [
    "A python function can be functionally pure even if it actually uses stateful objects internally, as long as it does not read or write external state"
   ]
  },
  {
   "cell_type": "code",
   "execution_count": 13,
   "id": "38c65728",
   "metadata": {},
   "outputs": [
    {
     "name": "stdout",
     "output_type": "stream",
     "text": [
      "40.0\n"
     ]
    }
   ],
   "source": [
    "def pure_uses_internal_state(x):\n",
    "    # This function is pure because it does not read or write external state\n",
    "    state = dict(even=0, odd=0)\n",
    "    for _ in range(10):\n",
    "        state['even' if _ % 2 == 0 else 'odd'] += x\n",
    "    return state['even'] + state['odd']\n",
    "\n",
    "\n",
    "print(jit(pure_uses_internal_state)(4.0))  # Should work fine, no side effects"
   ]
  },
  {
   "cell_type": "markdown",
   "id": "02dd50f6",
   "metadata": {},
   "source": [
    "It is recommended to not use iterators in any JAX function you want to `jit` or in any control-flow primitive. The reason is that an iterator is a python object which introduces state to retrieve the next element, therefore it is incompatible with JAX's functional programming model. \n",
    "\n",
    "\n",
    "Ther are some examples of incorrect attempts to use use iterators with JAX. Most return errors, some give unexpected results"
   ]
  },
  {
   "cell_type": "code",
   "execution_count": 14,
   "id": "043fb874",
   "metadata": {},
   "outputs": [
    {
     "name": "stdout",
     "output_type": "stream",
     "text": [
      "45\n",
      "0\n"
     ]
    }
   ],
   "source": [
    "import jax.numpy as jnp\n",
    "from jax import make_jaxpr\n",
    "\n",
    "# lax.fori_loop\n",
    "array = jnp.arange(10)\n",
    "print(lax.fori_loop(0, 10, lambda i,x: x+array[i], 0)) # expected result 45\n",
    "iterator = iter(range(10))\n",
    "print(lax.fori_loop(0, 10, lambda i,x: x+next(iterator), 0)) # unexpected result 0\n",
    "\n",
    "# lax.scan\n",
    "def func11(arr, extra):\n",
    "    ones = jnp.ones(arr.shape)\n",
    "    def body(carry, aelems):\n",
    "        ae1, ae2 = aelems\n",
    "        return (carry + ae1 * ae2 + extra, carry)\n",
    "    return lax.scan(body, 0., (arr, ones))\n",
    "make_jaxpr(func11)(jnp.arange(16), 5.)\n",
    "# make_jaxpr(func11)(iter(range(16)), 5.) # throws error\n",
    "\n",
    "# lax.cond\n",
    "array_operand = jnp.array([0.])\n",
    "lax.cond(True, lambda x: x+1, lambda x: x-1, array_operand)\n",
    "iter_operand = iter(range(10))\n",
    "# lax.cond(True, lambda x: next(x)+1, lambda x: next(x)-1, iter_operand) # throws error"
   ]
  },
  {
   "cell_type": "code",
   "execution_count": null,
   "id": "8ec0c26f",
   "metadata": {},
   "outputs": [],
   "source": []
  }
 ],
 "metadata": {
  "kernelspec": {
   "display_name": ".venv",
   "language": "python",
   "name": "python3"
  },
  "language_info": {
   "codemirror_mode": {
    "name": "ipython",
    "version": 3
   },
   "file_extension": ".py",
   "mimetype": "text/x-python",
   "name": "python",
   "nbconvert_exporter": "python",
   "pygments_lexer": "ipython3",
   "version": "3.11.5"
  }
 },
 "nbformat": 4,
 "nbformat_minor": 5
}
