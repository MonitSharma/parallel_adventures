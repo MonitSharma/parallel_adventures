{
 "cells": [
  {
   "cell_type": "markdown",
   "id": "1ccf5abe",
   "metadata": {},
   "source": [
    "## **Introduction to parallel programming**"
   ]
  },
  {
   "cell_type": "markdown",
   "id": "1c1b21c9",
   "metadata": {},
   "source": [
    "This tutorial serves as an introduction to device parallelism for single program multi data (SPMD) code in JAX. SPMD is a parallelism technique where the same computation, such as the forward pass of a neural network, can be run on different input data in parallel on different devices, such as several GPUs or TPUs"
   ]
  },
  {
   "cell_type": "markdown",
   "id": "3975dd73",
   "metadata": {},
   "source": [
    "SPMD stands for Single-Program Multiple-Data. It's a common parallel computing model where:\n",
    "\n",
    "1. Single Program : The same code is executed across multiple devices\n",
    "2. Multiple Data : Each device runs that code on a different piece of data.\n",
    "\n",
    "So, if you have a batch of 64 images, and 8 GPUs, SPMD allows you to split the bathc so each GPU processes 8 images simultaneoulsy using the same model code."
   ]
  },
  {
   "cell_type": "markdown",
   "id": "47806c11",
   "metadata": {},
   "source": [
    "- Automatic Sharding : The compiler chosses the optimal computation strategy\n",
    "- Explicit Sharding : Is similar to automatic sharding, in which we write a global view program\n",
    "- Fully Manual Sharding : `shard_map` enables per-device code and explicit communication collecitves"
   ]
  },
  {
   "cell_type": "markdown",
   "id": "c70b57a7",
   "metadata": {},
   "source": [
    "Using these schools of thoughts for SPMD, we can transform a function written for one device into a function that can run in parallel on multiple devices."
   ]
  },
  {
   "cell_type": "code",
   "execution_count": 3,
   "id": "a8341b2d",
   "metadata": {},
   "outputs": [],
   "source": [
    "import jax\n",
    "\n"
   ]
  },
  {
   "cell_type": "code",
   "execution_count": 4,
   "id": "4f5f4234",
   "metadata": {},
   "outputs": [
    {
     "data": {
      "text/plain": [
       "[CudaDevice(id=0)]"
      ]
     },
     "execution_count": 4,
     "metadata": {},
     "output_type": "execute_result"
    }
   ],
   "source": [
    "jax.devices()"
   ]
  },
  {
   "cell_type": "markdown",
   "id": "9bb44d17",
   "metadata": {},
   "source": [
    "## **Data Sharding**"
   ]
  },
  {
   "cell_type": "markdown",
   "id": "710be47c",
   "metadata": {},
   "source": [
    "JAX's datattype, the `jax.Array` immutable array data structure, represents arrays with physical storage"
   ]
  },
  {
   "cell_type": "code",
   "execution_count": null,
   "id": "6a5e9eb1",
   "metadata": {},
   "outputs": [],
   "source": []
  },
  {
   "cell_type": "code",
   "execution_count": null,
   "id": "9e91b4d4",
   "metadata": {},
   "outputs": [],
   "source": []
  },
  {
   "cell_type": "code",
   "execution_count": null,
   "id": "e2e05e16",
   "metadata": {},
   "outputs": [],
   "source": []
  },
  {
   "cell_type": "code",
   "execution_count": null,
   "id": "06eef114",
   "metadata": {},
   "outputs": [],
   "source": []
  }
 ],
 "metadata": {
  "kernelspec": {
   "display_name": "parallel_adventures",
   "language": "python",
   "name": "python3"
  },
  "language_info": {
   "codemirror_mode": {
    "name": "ipython",
    "version": 3
   },
   "file_extension": ".py",
   "mimetype": "text/x-python",
   "name": "python",
   "nbconvert_exporter": "python",
   "pygments_lexer": "ipython3",
   "version": "3.12.10"
  }
 },
 "nbformat": 4,
 "nbformat_minor": 5
}
