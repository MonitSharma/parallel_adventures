{
 "cells": [
  {
   "cell_type": "markdown",
   "id": "1ccf5abe",
   "metadata": {},
   "source": [
    "## **Introduction to parallel programming**"
   ]
  },
  {
   "cell_type": "markdown",
   "id": "47806c11",
   "metadata": {},
   "source": []
  }
 ],
 "metadata": {
  "language_info": {
   "name": "python"
  }
 },
 "nbformat": 4,
 "nbformat_minor": 5
}
