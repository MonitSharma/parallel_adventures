{
  "nbformat": 4,
  "nbformat_minor": 0,
  "metadata": {
    "colab": {
      "provenance": [],
      "collapsed_sections": [
        "Jwnv4qf5v8Uf"
      ],
      "gpuType": "T4"
    },
    "kernelspec": {
      "name": "python3",
      "display_name": "Python 3"
    },
    "language_info": {
      "name": "python"
    },
    "widgets": {
      "application/vnd.jupyter.widget-state+json": {
        "68f4a34925ad4e88b064a3c84756d573": {
          "model_module": "@jupyter-widgets/controls",
          "model_name": "HBoxModel",
          "model_module_version": "1.5.0",
          "state": {
            "_dom_classes": [],
            "_model_module": "@jupyter-widgets/controls",
            "_model_module_version": "1.5.0",
            "_model_name": "HBoxModel",
            "_view_count": null,
            "_view_module": "@jupyter-widgets/controls",
            "_view_module_version": "1.5.0",
            "_view_name": "HBoxView",
            "box_style": "",
            "children": [
              "IPY_MODEL_c1d0a4b504f9483caa10c1c30801af0f",
              "IPY_MODEL_39ecc142675446229ce0a9434598f1af",
              "IPY_MODEL_e871846b64fd42abbfed629c43529d18"
            ],
            "layout": "IPY_MODEL_3b8a4f61baf040f6a5042f0a741d3490"
          }
        },
        "c1d0a4b504f9483caa10c1c30801af0f": {
          "model_module": "@jupyter-widgets/controls",
          "model_name": "HTMLModel",
          "model_module_version": "1.5.0",
          "state": {
            "_dom_classes": [],
            "_model_module": "@jupyter-widgets/controls",
            "_model_module_version": "1.5.0",
            "_model_name": "HTMLModel",
            "_view_count": null,
            "_view_module": "@jupyter-widgets/controls",
            "_view_module_version": "1.5.0",
            "_view_name": "HTMLView",
            "description": "",
            "description_tooltip": null,
            "layout": "IPY_MODEL_b2a9a2b2f8db408a80567b16aa73ce5c",
            "placeholder": "​",
            "style": "IPY_MODEL_1f6b474f8c0742efbe02c9448db2e9d4",
            "value": "100%"
          }
        },
        "39ecc142675446229ce0a9434598f1af": {
          "model_module": "@jupyter-widgets/controls",
          "model_name": "FloatProgressModel",
          "model_module_version": "1.5.0",
          "state": {
            "_dom_classes": [],
            "_model_module": "@jupyter-widgets/controls",
            "_model_module_version": "1.5.0",
            "_model_name": "FloatProgressModel",
            "_view_count": null,
            "_view_module": "@jupyter-widgets/controls",
            "_view_module_version": "1.5.0",
            "_view_name": "ProgressView",
            "bar_style": "success",
            "description": "",
            "description_tooltip": null,
            "layout": "IPY_MODEL_4ad35cbe6adf47d1b3d74d645a08af8b",
            "max": 5,
            "min": 0,
            "orientation": "horizontal",
            "style": "IPY_MODEL_c0869063ba2b41c3b73e6e9683011329",
            "value": 5
          }
        },
        "e871846b64fd42abbfed629c43529d18": {
          "model_module": "@jupyter-widgets/controls",
          "model_name": "HTMLModel",
          "model_module_version": "1.5.0",
          "state": {
            "_dom_classes": [],
            "_model_module": "@jupyter-widgets/controls",
            "_model_module_version": "1.5.0",
            "_model_name": "HTMLModel",
            "_view_count": null,
            "_view_module": "@jupyter-widgets/controls",
            "_view_module_version": "1.5.0",
            "_view_name": "HTMLView",
            "description": "",
            "description_tooltip": null,
            "layout": "IPY_MODEL_8b5667a08a6e4d1eaef2ac4e9d242e5c",
            "placeholder": "​",
            "style": "IPY_MODEL_66fcbbb3c327450dba81712995dbea5f",
            "value": " 5/5 [00:42&lt;00:00,  8.58s/it]"
          }
        },
        "3b8a4f61baf040f6a5042f0a741d3490": {
          "model_module": "@jupyter-widgets/base",
          "model_name": "LayoutModel",
          "model_module_version": "1.2.0",
          "state": {
            "_model_module": "@jupyter-widgets/base",
            "_model_module_version": "1.2.0",
            "_model_name": "LayoutModel",
            "_view_count": null,
            "_view_module": "@jupyter-widgets/base",
            "_view_module_version": "1.2.0",
            "_view_name": "LayoutView",
            "align_content": null,
            "align_items": null,
            "align_self": null,
            "border": null,
            "bottom": null,
            "display": null,
            "flex": null,
            "flex_flow": null,
            "grid_area": null,
            "grid_auto_columns": null,
            "grid_auto_flow": null,
            "grid_auto_rows": null,
            "grid_column": null,
            "grid_gap": null,
            "grid_row": null,
            "grid_template_areas": null,
            "grid_template_columns": null,
            "grid_template_rows": null,
            "height": null,
            "justify_content": null,
            "justify_items": null,
            "left": null,
            "margin": null,
            "max_height": null,
            "max_width": null,
            "min_height": null,
            "min_width": null,
            "object_fit": null,
            "object_position": null,
            "order": null,
            "overflow": null,
            "overflow_x": null,
            "overflow_y": null,
            "padding": null,
            "right": null,
            "top": null,
            "visibility": null,
            "width": null
          }
        },
        "b2a9a2b2f8db408a80567b16aa73ce5c": {
          "model_module": "@jupyter-widgets/base",
          "model_name": "LayoutModel",
          "model_module_version": "1.2.0",
          "state": {
            "_model_module": "@jupyter-widgets/base",
            "_model_module_version": "1.2.0",
            "_model_name": "LayoutModel",
            "_view_count": null,
            "_view_module": "@jupyter-widgets/base",
            "_view_module_version": "1.2.0",
            "_view_name": "LayoutView",
            "align_content": null,
            "align_items": null,
            "align_self": null,
            "border": null,
            "bottom": null,
            "display": null,
            "flex": null,
            "flex_flow": null,
            "grid_area": null,
            "grid_auto_columns": null,
            "grid_auto_flow": null,
            "grid_auto_rows": null,
            "grid_column": null,
            "grid_gap": null,
            "grid_row": null,
            "grid_template_areas": null,
            "grid_template_columns": null,
            "grid_template_rows": null,
            "height": null,
            "justify_content": null,
            "justify_items": null,
            "left": null,
            "margin": null,
            "max_height": null,
            "max_width": null,
            "min_height": null,
            "min_width": null,
            "object_fit": null,
            "object_position": null,
            "order": null,
            "overflow": null,
            "overflow_x": null,
            "overflow_y": null,
            "padding": null,
            "right": null,
            "top": null,
            "visibility": null,
            "width": null
          }
        },
        "1f6b474f8c0742efbe02c9448db2e9d4": {
          "model_module": "@jupyter-widgets/controls",
          "model_name": "DescriptionStyleModel",
          "model_module_version": "1.5.0",
          "state": {
            "_model_module": "@jupyter-widgets/controls",
            "_model_module_version": "1.5.0",
            "_model_name": "DescriptionStyleModel",
            "_view_count": null,
            "_view_module": "@jupyter-widgets/base",
            "_view_module_version": "1.2.0",
            "_view_name": "StyleView",
            "description_width": ""
          }
        },
        "4ad35cbe6adf47d1b3d74d645a08af8b": {
          "model_module": "@jupyter-widgets/base",
          "model_name": "LayoutModel",
          "model_module_version": "1.2.0",
          "state": {
            "_model_module": "@jupyter-widgets/base",
            "_model_module_version": "1.2.0",
            "_model_name": "LayoutModel",
            "_view_count": null,
            "_view_module": "@jupyter-widgets/base",
            "_view_module_version": "1.2.0",
            "_view_name": "LayoutView",
            "align_content": null,
            "align_items": null,
            "align_self": null,
            "border": null,
            "bottom": null,
            "display": null,
            "flex": null,
            "flex_flow": null,
            "grid_area": null,
            "grid_auto_columns": null,
            "grid_auto_flow": null,
            "grid_auto_rows": null,
            "grid_column": null,
            "grid_gap": null,
            "grid_row": null,
            "grid_template_areas": null,
            "grid_template_columns": null,
            "grid_template_rows": null,
            "height": null,
            "justify_content": null,
            "justify_items": null,
            "left": null,
            "margin": null,
            "max_height": null,
            "max_width": null,
            "min_height": null,
            "min_width": null,
            "object_fit": null,
            "object_position": null,
            "order": null,
            "overflow": null,
            "overflow_x": null,
            "overflow_y": null,
            "padding": null,
            "right": null,
            "top": null,
            "visibility": null,
            "width": null
          }
        },
        "c0869063ba2b41c3b73e6e9683011329": {
          "model_module": "@jupyter-widgets/controls",
          "model_name": "ProgressStyleModel",
          "model_module_version": "1.5.0",
          "state": {
            "_model_module": "@jupyter-widgets/controls",
            "_model_module_version": "1.5.0",
            "_model_name": "ProgressStyleModel",
            "_view_count": null,
            "_view_module": "@jupyter-widgets/base",
            "_view_module_version": "1.2.0",
            "_view_name": "StyleView",
            "bar_color": null,
            "description_width": ""
          }
        },
        "8b5667a08a6e4d1eaef2ac4e9d242e5c": {
          "model_module": "@jupyter-widgets/base",
          "model_name": "LayoutModel",
          "model_module_version": "1.2.0",
          "state": {
            "_model_module": "@jupyter-widgets/base",
            "_model_module_version": "1.2.0",
            "_model_name": "LayoutModel",
            "_view_count": null,
            "_view_module": "@jupyter-widgets/base",
            "_view_module_version": "1.2.0",
            "_view_name": "LayoutView",
            "align_content": null,
            "align_items": null,
            "align_self": null,
            "border": null,
            "bottom": null,
            "display": null,
            "flex": null,
            "flex_flow": null,
            "grid_area": null,
            "grid_auto_columns": null,
            "grid_auto_flow": null,
            "grid_auto_rows": null,
            "grid_column": null,
            "grid_gap": null,
            "grid_row": null,
            "grid_template_areas": null,
            "grid_template_columns": null,
            "grid_template_rows": null,
            "height": null,
            "justify_content": null,
            "justify_items": null,
            "left": null,
            "margin": null,
            "max_height": null,
            "max_width": null,
            "min_height": null,
            "min_width": null,
            "object_fit": null,
            "object_position": null,
            "order": null,
            "overflow": null,
            "overflow_x": null,
            "overflow_y": null,
            "padding": null,
            "right": null,
            "top": null,
            "visibility": null,
            "width": null
          }
        },
        "66fcbbb3c327450dba81712995dbea5f": {
          "model_module": "@jupyter-widgets/controls",
          "model_name": "DescriptionStyleModel",
          "model_module_version": "1.5.0",
          "state": {
            "_model_module": "@jupyter-widgets/controls",
            "_model_module_version": "1.5.0",
            "_model_name": "DescriptionStyleModel",
            "_view_count": null,
            "_view_module": "@jupyter-widgets/base",
            "_view_module_version": "1.2.0",
            "_view_name": "StyleView",
            "description_width": ""
          }
        },
        "67429615769249f6893ac80203cc134a": {
          "model_module": "@jupyter-widgets/controls",
          "model_name": "HBoxModel",
          "model_module_version": "1.5.0",
          "state": {
            "_dom_classes": [],
            "_model_module": "@jupyter-widgets/controls",
            "_model_module_version": "1.5.0",
            "_model_name": "HBoxModel",
            "_view_count": null,
            "_view_module": "@jupyter-widgets/controls",
            "_view_module_version": "1.5.0",
            "_view_name": "HBoxView",
            "box_style": "",
            "children": [
              "IPY_MODEL_4f560a0e71364986bdb471720ac8ab31",
              "IPY_MODEL_e9ee770495de4026bbc9e131bbdce1e8",
              "IPY_MODEL_4b846b0bc152421ca8fa8733ea4c9ff4"
            ],
            "layout": "IPY_MODEL_21843cd45a0c47d38a7190cd613d41ac"
          }
        },
        "4f560a0e71364986bdb471720ac8ab31": {
          "model_module": "@jupyter-widgets/controls",
          "model_name": "HTMLModel",
          "model_module_version": "1.5.0",
          "state": {
            "_dom_classes": [],
            "_model_module": "@jupyter-widgets/controls",
            "_model_module_version": "1.5.0",
            "_model_name": "HTMLModel",
            "_view_count": null,
            "_view_module": "@jupyter-widgets/controls",
            "_view_module_version": "1.5.0",
            "_view_name": "HTMLView",
            "description": "",
            "description_tooltip": null,
            "layout": "IPY_MODEL_e37b577b819e450ca62f4a3e84bc0b3a",
            "placeholder": "​",
            "style": "IPY_MODEL_5158a7bb974a46ffb485c9b3e5cb13d9",
            "value": "100%"
          }
        },
        "e9ee770495de4026bbc9e131bbdce1e8": {
          "model_module": "@jupyter-widgets/controls",
          "model_name": "FloatProgressModel",
          "model_module_version": "1.5.0",
          "state": {
            "_dom_classes": [],
            "_model_module": "@jupyter-widgets/controls",
            "_model_module_version": "1.5.0",
            "_model_name": "FloatProgressModel",
            "_view_count": null,
            "_view_module": "@jupyter-widgets/controls",
            "_view_module_version": "1.5.0",
            "_view_name": "ProgressView",
            "bar_style": "success",
            "description": "",
            "description_tooltip": null,
            "layout": "IPY_MODEL_2558e39a726544548a4d5fce35f9586e",
            "max": 5,
            "min": 0,
            "orientation": "horizontal",
            "style": "IPY_MODEL_b808be9d04534d93b31d12243344c8b8",
            "value": 5
          }
        },
        "4b846b0bc152421ca8fa8733ea4c9ff4": {
          "model_module": "@jupyter-widgets/controls",
          "model_name": "HTMLModel",
          "model_module_version": "1.5.0",
          "state": {
            "_dom_classes": [],
            "_model_module": "@jupyter-widgets/controls",
            "_model_module_version": "1.5.0",
            "_model_name": "HTMLModel",
            "_view_count": null,
            "_view_module": "@jupyter-widgets/controls",
            "_view_module_version": "1.5.0",
            "_view_name": "HTMLView",
            "description": "",
            "description_tooltip": null,
            "layout": "IPY_MODEL_c2adef89de224d47bc92087ab128e722",
            "placeholder": "​",
            "style": "IPY_MODEL_b2b749b4f31f4240ad31f7676950cb28",
            "value": " 5/5 [00:47&lt;00:00,  9.39s/it]"
          }
        },
        "21843cd45a0c47d38a7190cd613d41ac": {
          "model_module": "@jupyter-widgets/base",
          "model_name": "LayoutModel",
          "model_module_version": "1.2.0",
          "state": {
            "_model_module": "@jupyter-widgets/base",
            "_model_module_version": "1.2.0",
            "_model_name": "LayoutModel",
            "_view_count": null,
            "_view_module": "@jupyter-widgets/base",
            "_view_module_version": "1.2.0",
            "_view_name": "LayoutView",
            "align_content": null,
            "align_items": null,
            "align_self": null,
            "border": null,
            "bottom": null,
            "display": null,
            "flex": null,
            "flex_flow": null,
            "grid_area": null,
            "grid_auto_columns": null,
            "grid_auto_flow": null,
            "grid_auto_rows": null,
            "grid_column": null,
            "grid_gap": null,
            "grid_row": null,
            "grid_template_areas": null,
            "grid_template_columns": null,
            "grid_template_rows": null,
            "height": null,
            "justify_content": null,
            "justify_items": null,
            "left": null,
            "margin": null,
            "max_height": null,
            "max_width": null,
            "min_height": null,
            "min_width": null,
            "object_fit": null,
            "object_position": null,
            "order": null,
            "overflow": null,
            "overflow_x": null,
            "overflow_y": null,
            "padding": null,
            "right": null,
            "top": null,
            "visibility": null,
            "width": null
          }
        },
        "e37b577b819e450ca62f4a3e84bc0b3a": {
          "model_module": "@jupyter-widgets/base",
          "model_name": "LayoutModel",
          "model_module_version": "1.2.0",
          "state": {
            "_model_module": "@jupyter-widgets/base",
            "_model_module_version": "1.2.0",
            "_model_name": "LayoutModel",
            "_view_count": null,
            "_view_module": "@jupyter-widgets/base",
            "_view_module_version": "1.2.0",
            "_view_name": "LayoutView",
            "align_content": null,
            "align_items": null,
            "align_self": null,
            "border": null,
            "bottom": null,
            "display": null,
            "flex": null,
            "flex_flow": null,
            "grid_area": null,
            "grid_auto_columns": null,
            "grid_auto_flow": null,
            "grid_auto_rows": null,
            "grid_column": null,
            "grid_gap": null,
            "grid_row": null,
            "grid_template_areas": null,
            "grid_template_columns": null,
            "grid_template_rows": null,
            "height": null,
            "justify_content": null,
            "justify_items": null,
            "left": null,
            "margin": null,
            "max_height": null,
            "max_width": null,
            "min_height": null,
            "min_width": null,
            "object_fit": null,
            "object_position": null,
            "order": null,
            "overflow": null,
            "overflow_x": null,
            "overflow_y": null,
            "padding": null,
            "right": null,
            "top": null,
            "visibility": null,
            "width": null
          }
        },
        "5158a7bb974a46ffb485c9b3e5cb13d9": {
          "model_module": "@jupyter-widgets/controls",
          "model_name": "DescriptionStyleModel",
          "model_module_version": "1.5.0",
          "state": {
            "_model_module": "@jupyter-widgets/controls",
            "_model_module_version": "1.5.0",
            "_model_name": "DescriptionStyleModel",
            "_view_count": null,
            "_view_module": "@jupyter-widgets/base",
            "_view_module_version": "1.2.0",
            "_view_name": "StyleView",
            "description_width": ""
          }
        },
        "2558e39a726544548a4d5fce35f9586e": {
          "model_module": "@jupyter-widgets/base",
          "model_name": "LayoutModel",
          "model_module_version": "1.2.0",
          "state": {
            "_model_module": "@jupyter-widgets/base",
            "_model_module_version": "1.2.0",
            "_model_name": "LayoutModel",
            "_view_count": null,
            "_view_module": "@jupyter-widgets/base",
            "_view_module_version": "1.2.0",
            "_view_name": "LayoutView",
            "align_content": null,
            "align_items": null,
            "align_self": null,
            "border": null,
            "bottom": null,
            "display": null,
            "flex": null,
            "flex_flow": null,
            "grid_area": null,
            "grid_auto_columns": null,
            "grid_auto_flow": null,
            "grid_auto_rows": null,
            "grid_column": null,
            "grid_gap": null,
            "grid_row": null,
            "grid_template_areas": null,
            "grid_template_columns": null,
            "grid_template_rows": null,
            "height": null,
            "justify_content": null,
            "justify_items": null,
            "left": null,
            "margin": null,
            "max_height": null,
            "max_width": null,
            "min_height": null,
            "min_width": null,
            "object_fit": null,
            "object_position": null,
            "order": null,
            "overflow": null,
            "overflow_x": null,
            "overflow_y": null,
            "padding": null,
            "right": null,
            "top": null,
            "visibility": null,
            "width": null
          }
        },
        "b808be9d04534d93b31d12243344c8b8": {
          "model_module": "@jupyter-widgets/controls",
          "model_name": "ProgressStyleModel",
          "model_module_version": "1.5.0",
          "state": {
            "_model_module": "@jupyter-widgets/controls",
            "_model_module_version": "1.5.0",
            "_model_name": "ProgressStyleModel",
            "_view_count": null,
            "_view_module": "@jupyter-widgets/base",
            "_view_module_version": "1.2.0",
            "_view_name": "StyleView",
            "bar_color": null,
            "description_width": ""
          }
        },
        "c2adef89de224d47bc92087ab128e722": {
          "model_module": "@jupyter-widgets/base",
          "model_name": "LayoutModel",
          "model_module_version": "1.2.0",
          "state": {
            "_model_module": "@jupyter-widgets/base",
            "_model_module_version": "1.2.0",
            "_model_name": "LayoutModel",
            "_view_count": null,
            "_view_module": "@jupyter-widgets/base",
            "_view_module_version": "1.2.0",
            "_view_name": "LayoutView",
            "align_content": null,
            "align_items": null,
            "align_self": null,
            "border": null,
            "bottom": null,
            "display": null,
            "flex": null,
            "flex_flow": null,
            "grid_area": null,
            "grid_auto_columns": null,
            "grid_auto_flow": null,
            "grid_auto_rows": null,
            "grid_column": null,
            "grid_gap": null,
            "grid_row": null,
            "grid_template_areas": null,
            "grid_template_columns": null,
            "grid_template_rows": null,
            "height": null,
            "justify_content": null,
            "justify_items": null,
            "left": null,
            "margin": null,
            "max_height": null,
            "max_width": null,
            "min_height": null,
            "min_width": null,
            "object_fit": null,
            "object_position": null,
            "order": null,
            "overflow": null,
            "overflow_x": null,
            "overflow_y": null,
            "padding": null,
            "right": null,
            "top": null,
            "visibility": null,
            "width": null
          }
        },
        "b2b749b4f31f4240ad31f7676950cb28": {
          "model_module": "@jupyter-widgets/controls",
          "model_name": "DescriptionStyleModel",
          "model_module_version": "1.5.0",
          "state": {
            "_model_module": "@jupyter-widgets/controls",
            "_model_module_version": "1.5.0",
            "_model_name": "DescriptionStyleModel",
            "_view_count": null,
            "_view_module": "@jupyter-widgets/base",
            "_view_module_version": "1.2.0",
            "_view_name": "StyleView",
            "description_width": ""
          }
        },
        "8c75da49a8e04178b729d70927247cd8": {
          "model_module": "@jupyter-widgets/controls",
          "model_name": "HBoxModel",
          "model_module_version": "1.5.0",
          "state": {
            "_dom_classes": [],
            "_model_module": "@jupyter-widgets/controls",
            "_model_module_version": "1.5.0",
            "_model_name": "HBoxModel",
            "_view_count": null,
            "_view_module": "@jupyter-widgets/controls",
            "_view_module_version": "1.5.0",
            "_view_name": "HBoxView",
            "box_style": "",
            "children": [
              "IPY_MODEL_3cb130cf420845ed960051380ff54c46",
              "IPY_MODEL_bae8fec329e440588e52910e9d099361",
              "IPY_MODEL_e67db17066c24b5297268d7cf416edea"
            ],
            "layout": "IPY_MODEL_1ffe94dfd1c04c9aa5b9350872996899"
          }
        },
        "3cb130cf420845ed960051380ff54c46": {
          "model_module": "@jupyter-widgets/controls",
          "model_name": "HTMLModel",
          "model_module_version": "1.5.0",
          "state": {
            "_dom_classes": [],
            "_model_module": "@jupyter-widgets/controls",
            "_model_module_version": "1.5.0",
            "_model_name": "HTMLModel",
            "_view_count": null,
            "_view_module": "@jupyter-widgets/controls",
            "_view_module_version": "1.5.0",
            "_view_name": "HTMLView",
            "description": "",
            "description_tooltip": null,
            "layout": "IPY_MODEL_b1e5bffd3cf848d1b3c58e6bda55c19c",
            "placeholder": "​",
            "style": "IPY_MODEL_96665c93fdc244e399fb505c349fcfa4",
            "value": "100%"
          }
        },
        "bae8fec329e440588e52910e9d099361": {
          "model_module": "@jupyter-widgets/controls",
          "model_name": "FloatProgressModel",
          "model_module_version": "1.5.0",
          "state": {
            "_dom_classes": [],
            "_model_module": "@jupyter-widgets/controls",
            "_model_module_version": "1.5.0",
            "_model_name": "FloatProgressModel",
            "_view_count": null,
            "_view_module": "@jupyter-widgets/controls",
            "_view_module_version": "1.5.0",
            "_view_name": "ProgressView",
            "bar_style": "success",
            "description": "",
            "description_tooltip": null,
            "layout": "IPY_MODEL_50fc8b12ea6d4b8e95f783df6ed13a2d",
            "max": 5,
            "min": 0,
            "orientation": "horizontal",
            "style": "IPY_MODEL_31cea56a8d5c482f83595212458a07b2",
            "value": 5
          }
        },
        "e67db17066c24b5297268d7cf416edea": {
          "model_module": "@jupyter-widgets/controls",
          "model_name": "HTMLModel",
          "model_module_version": "1.5.0",
          "state": {
            "_dom_classes": [],
            "_model_module": "@jupyter-widgets/controls",
            "_model_module_version": "1.5.0",
            "_model_name": "HTMLModel",
            "_view_count": null,
            "_view_module": "@jupyter-widgets/controls",
            "_view_module_version": "1.5.0",
            "_view_name": "HTMLView",
            "description": "",
            "description_tooltip": null,
            "layout": "IPY_MODEL_63865ed53f8e4fcf97a4c5c1789523cd",
            "placeholder": "​",
            "style": "IPY_MODEL_16ebfd8b260946109ce2a17e6624e12b",
            "value": " 5/5 [00:54&lt;00:00, 10.97s/it]"
          }
        },
        "1ffe94dfd1c04c9aa5b9350872996899": {
          "model_module": "@jupyter-widgets/base",
          "model_name": "LayoutModel",
          "model_module_version": "1.2.0",
          "state": {
            "_model_module": "@jupyter-widgets/base",
            "_model_module_version": "1.2.0",
            "_model_name": "LayoutModel",
            "_view_count": null,
            "_view_module": "@jupyter-widgets/base",
            "_view_module_version": "1.2.0",
            "_view_name": "LayoutView",
            "align_content": null,
            "align_items": null,
            "align_self": null,
            "border": null,
            "bottom": null,
            "display": null,
            "flex": null,
            "flex_flow": null,
            "grid_area": null,
            "grid_auto_columns": null,
            "grid_auto_flow": null,
            "grid_auto_rows": null,
            "grid_column": null,
            "grid_gap": null,
            "grid_row": null,
            "grid_template_areas": null,
            "grid_template_columns": null,
            "grid_template_rows": null,
            "height": null,
            "justify_content": null,
            "justify_items": null,
            "left": null,
            "margin": null,
            "max_height": null,
            "max_width": null,
            "min_height": null,
            "min_width": null,
            "object_fit": null,
            "object_position": null,
            "order": null,
            "overflow": null,
            "overflow_x": null,
            "overflow_y": null,
            "padding": null,
            "right": null,
            "top": null,
            "visibility": null,
            "width": null
          }
        },
        "b1e5bffd3cf848d1b3c58e6bda55c19c": {
          "model_module": "@jupyter-widgets/base",
          "model_name": "LayoutModel",
          "model_module_version": "1.2.0",
          "state": {
            "_model_module": "@jupyter-widgets/base",
            "_model_module_version": "1.2.0",
            "_model_name": "LayoutModel",
            "_view_count": null,
            "_view_module": "@jupyter-widgets/base",
            "_view_module_version": "1.2.0",
            "_view_name": "LayoutView",
            "align_content": null,
            "align_items": null,
            "align_self": null,
            "border": null,
            "bottom": null,
            "display": null,
            "flex": null,
            "flex_flow": null,
            "grid_area": null,
            "grid_auto_columns": null,
            "grid_auto_flow": null,
            "grid_auto_rows": null,
            "grid_column": null,
            "grid_gap": null,
            "grid_row": null,
            "grid_template_areas": null,
            "grid_template_columns": null,
            "grid_template_rows": null,
            "height": null,
            "justify_content": null,
            "justify_items": null,
            "left": null,
            "margin": null,
            "max_height": null,
            "max_width": null,
            "min_height": null,
            "min_width": null,
            "object_fit": null,
            "object_position": null,
            "order": null,
            "overflow": null,
            "overflow_x": null,
            "overflow_y": null,
            "padding": null,
            "right": null,
            "top": null,
            "visibility": null,
            "width": null
          }
        },
        "96665c93fdc244e399fb505c349fcfa4": {
          "model_module": "@jupyter-widgets/controls",
          "model_name": "DescriptionStyleModel",
          "model_module_version": "1.5.0",
          "state": {
            "_model_module": "@jupyter-widgets/controls",
            "_model_module_version": "1.5.0",
            "_model_name": "DescriptionStyleModel",
            "_view_count": null,
            "_view_module": "@jupyter-widgets/base",
            "_view_module_version": "1.2.0",
            "_view_name": "StyleView",
            "description_width": ""
          }
        },
        "50fc8b12ea6d4b8e95f783df6ed13a2d": {
          "model_module": "@jupyter-widgets/base",
          "model_name": "LayoutModel",
          "model_module_version": "1.2.0",
          "state": {
            "_model_module": "@jupyter-widgets/base",
            "_model_module_version": "1.2.0",
            "_model_name": "LayoutModel",
            "_view_count": null,
            "_view_module": "@jupyter-widgets/base",
            "_view_module_version": "1.2.0",
            "_view_name": "LayoutView",
            "align_content": null,
            "align_items": null,
            "align_self": null,
            "border": null,
            "bottom": null,
            "display": null,
            "flex": null,
            "flex_flow": null,
            "grid_area": null,
            "grid_auto_columns": null,
            "grid_auto_flow": null,
            "grid_auto_rows": null,
            "grid_column": null,
            "grid_gap": null,
            "grid_row": null,
            "grid_template_areas": null,
            "grid_template_columns": null,
            "grid_template_rows": null,
            "height": null,
            "justify_content": null,
            "justify_items": null,
            "left": null,
            "margin": null,
            "max_height": null,
            "max_width": null,
            "min_height": null,
            "min_width": null,
            "object_fit": null,
            "object_position": null,
            "order": null,
            "overflow": null,
            "overflow_x": null,
            "overflow_y": null,
            "padding": null,
            "right": null,
            "top": null,
            "visibility": null,
            "width": null
          }
        },
        "31cea56a8d5c482f83595212458a07b2": {
          "model_module": "@jupyter-widgets/controls",
          "model_name": "ProgressStyleModel",
          "model_module_version": "1.5.0",
          "state": {
            "_model_module": "@jupyter-widgets/controls",
            "_model_module_version": "1.5.0",
            "_model_name": "ProgressStyleModel",
            "_view_count": null,
            "_view_module": "@jupyter-widgets/base",
            "_view_module_version": "1.2.0",
            "_view_name": "StyleView",
            "bar_color": null,
            "description_width": ""
          }
        },
        "63865ed53f8e4fcf97a4c5c1789523cd": {
          "model_module": "@jupyter-widgets/base",
          "model_name": "LayoutModel",
          "model_module_version": "1.2.0",
          "state": {
            "_model_module": "@jupyter-widgets/base",
            "_model_module_version": "1.2.0",
            "_model_name": "LayoutModel",
            "_view_count": null,
            "_view_module": "@jupyter-widgets/base",
            "_view_module_version": "1.2.0",
            "_view_name": "LayoutView",
            "align_content": null,
            "align_items": null,
            "align_self": null,
            "border": null,
            "bottom": null,
            "display": null,
            "flex": null,
            "flex_flow": null,
            "grid_area": null,
            "grid_auto_columns": null,
            "grid_auto_flow": null,
            "grid_auto_rows": null,
            "grid_column": null,
            "grid_gap": null,
            "grid_row": null,
            "grid_template_areas": null,
            "grid_template_columns": null,
            "grid_template_rows": null,
            "height": null,
            "justify_content": null,
            "justify_items": null,
            "left": null,
            "margin": null,
            "max_height": null,
            "max_width": null,
            "min_height": null,
            "min_width": null,
            "object_fit": null,
            "object_position": null,
            "order": null,
            "overflow": null,
            "overflow_x": null,
            "overflow_y": null,
            "padding": null,
            "right": null,
            "top": null,
            "visibility": null,
            "width": null
          }
        },
        "16ebfd8b260946109ce2a17e6624e12b": {
          "model_module": "@jupyter-widgets/controls",
          "model_name": "DescriptionStyleModel",
          "model_module_version": "1.5.0",
          "state": {
            "_model_module": "@jupyter-widgets/controls",
            "_model_module_version": "1.5.0",
            "_model_name": "DescriptionStyleModel",
            "_view_count": null,
            "_view_module": "@jupyter-widgets/base",
            "_view_module_version": "1.2.0",
            "_view_name": "StyleView",
            "description_width": ""
          }
        },
        "118a2821fd06445a8b7163f4b9e3e3cd": {
          "model_module": "@jupyter-widgets/controls",
          "model_name": "HBoxModel",
          "model_module_version": "1.5.0",
          "state": {
            "_dom_classes": [],
            "_model_module": "@jupyter-widgets/controls",
            "_model_module_version": "1.5.0",
            "_model_name": "HBoxModel",
            "_view_count": null,
            "_view_module": "@jupyter-widgets/controls",
            "_view_module_version": "1.5.0",
            "_view_name": "HBoxView",
            "box_style": "",
            "children": [
              "IPY_MODEL_2f0fdafc9f8c4c60a46887526b1a11db",
              "IPY_MODEL_2afe9b526a6d46c990923b598b3dda2d",
              "IPY_MODEL_43964131f69f45c8b58658a55839f588"
            ],
            "layout": "IPY_MODEL_cdc9fe4e61b84d00b5b9a277fd1ca4d1"
          }
        },
        "2f0fdafc9f8c4c60a46887526b1a11db": {
          "model_module": "@jupyter-widgets/controls",
          "model_name": "HTMLModel",
          "model_module_version": "1.5.0",
          "state": {
            "_dom_classes": [],
            "_model_module": "@jupyter-widgets/controls",
            "_model_module_version": "1.5.0",
            "_model_name": "HTMLModel",
            "_view_count": null,
            "_view_module": "@jupyter-widgets/controls",
            "_view_module_version": "1.5.0",
            "_view_name": "HTMLView",
            "description": "",
            "description_tooltip": null,
            "layout": "IPY_MODEL_182b8d527ed5429bb53a16563f72fe8a",
            "placeholder": "​",
            "style": "IPY_MODEL_b11be3f0784b46c9838d280f2c64a0e8",
            "value": "Making predictions: 100%"
          }
        },
        "2afe9b526a6d46c990923b598b3dda2d": {
          "model_module": "@jupyter-widgets/controls",
          "model_name": "FloatProgressModel",
          "model_module_version": "1.5.0",
          "state": {
            "_dom_classes": [],
            "_model_module": "@jupyter-widgets/controls",
            "_model_module_version": "1.5.0",
            "_model_name": "FloatProgressModel",
            "_view_count": null,
            "_view_module": "@jupyter-widgets/controls",
            "_view_module_version": "1.5.0",
            "_view_name": "ProgressView",
            "bar_style": "success",
            "description": "",
            "description_tooltip": null,
            "layout": "IPY_MODEL_cf87659f330f4ac1a1c6664311df0a45",
            "max": 313,
            "min": 0,
            "orientation": "horizontal",
            "style": "IPY_MODEL_3b247170b2b84c45ac04e2edcfefc754",
            "value": 313
          }
        },
        "43964131f69f45c8b58658a55839f588": {
          "model_module": "@jupyter-widgets/controls",
          "model_name": "HTMLModel",
          "model_module_version": "1.5.0",
          "state": {
            "_dom_classes": [],
            "_model_module": "@jupyter-widgets/controls",
            "_model_module_version": "1.5.0",
            "_model_name": "HTMLModel",
            "_view_count": null,
            "_view_module": "@jupyter-widgets/controls",
            "_view_module_version": "1.5.0",
            "_view_name": "HTMLView",
            "description": "",
            "description_tooltip": null,
            "layout": "IPY_MODEL_87e5909390a34e50906b2a115929685d",
            "placeholder": "​",
            "style": "IPY_MODEL_ddcbb52c9ec54d7fa3398426efed4bb2",
            "value": " 313/313 [00:01&lt;00:00, 216.62it/s]"
          }
        },
        "cdc9fe4e61b84d00b5b9a277fd1ca4d1": {
          "model_module": "@jupyter-widgets/base",
          "model_name": "LayoutModel",
          "model_module_version": "1.2.0",
          "state": {
            "_model_module": "@jupyter-widgets/base",
            "_model_module_version": "1.2.0",
            "_model_name": "LayoutModel",
            "_view_count": null,
            "_view_module": "@jupyter-widgets/base",
            "_view_module_version": "1.2.0",
            "_view_name": "LayoutView",
            "align_content": null,
            "align_items": null,
            "align_self": null,
            "border": null,
            "bottom": null,
            "display": null,
            "flex": null,
            "flex_flow": null,
            "grid_area": null,
            "grid_auto_columns": null,
            "grid_auto_flow": null,
            "grid_auto_rows": null,
            "grid_column": null,
            "grid_gap": null,
            "grid_row": null,
            "grid_template_areas": null,
            "grid_template_columns": null,
            "grid_template_rows": null,
            "height": null,
            "justify_content": null,
            "justify_items": null,
            "left": null,
            "margin": null,
            "max_height": null,
            "max_width": null,
            "min_height": null,
            "min_width": null,
            "object_fit": null,
            "object_position": null,
            "order": null,
            "overflow": null,
            "overflow_x": null,
            "overflow_y": null,
            "padding": null,
            "right": null,
            "top": null,
            "visibility": null,
            "width": null
          }
        },
        "182b8d527ed5429bb53a16563f72fe8a": {
          "model_module": "@jupyter-widgets/base",
          "model_name": "LayoutModel",
          "model_module_version": "1.2.0",
          "state": {
            "_model_module": "@jupyter-widgets/base",
            "_model_module_version": "1.2.0",
            "_model_name": "LayoutModel",
            "_view_count": null,
            "_view_module": "@jupyter-widgets/base",
            "_view_module_version": "1.2.0",
            "_view_name": "LayoutView",
            "align_content": null,
            "align_items": null,
            "align_self": null,
            "border": null,
            "bottom": null,
            "display": null,
            "flex": null,
            "flex_flow": null,
            "grid_area": null,
            "grid_auto_columns": null,
            "grid_auto_flow": null,
            "grid_auto_rows": null,
            "grid_column": null,
            "grid_gap": null,
            "grid_row": null,
            "grid_template_areas": null,
            "grid_template_columns": null,
            "grid_template_rows": null,
            "height": null,
            "justify_content": null,
            "justify_items": null,
            "left": null,
            "margin": null,
            "max_height": null,
            "max_width": null,
            "min_height": null,
            "min_width": null,
            "object_fit": null,
            "object_position": null,
            "order": null,
            "overflow": null,
            "overflow_x": null,
            "overflow_y": null,
            "padding": null,
            "right": null,
            "top": null,
            "visibility": null,
            "width": null
          }
        },
        "b11be3f0784b46c9838d280f2c64a0e8": {
          "model_module": "@jupyter-widgets/controls",
          "model_name": "DescriptionStyleModel",
          "model_module_version": "1.5.0",
          "state": {
            "_model_module": "@jupyter-widgets/controls",
            "_model_module_version": "1.5.0",
            "_model_name": "DescriptionStyleModel",
            "_view_count": null,
            "_view_module": "@jupyter-widgets/base",
            "_view_module_version": "1.2.0",
            "_view_name": "StyleView",
            "description_width": ""
          }
        },
        "cf87659f330f4ac1a1c6664311df0a45": {
          "model_module": "@jupyter-widgets/base",
          "model_name": "LayoutModel",
          "model_module_version": "1.2.0",
          "state": {
            "_model_module": "@jupyter-widgets/base",
            "_model_module_version": "1.2.0",
            "_model_name": "LayoutModel",
            "_view_count": null,
            "_view_module": "@jupyter-widgets/base",
            "_view_module_version": "1.2.0",
            "_view_name": "LayoutView",
            "align_content": null,
            "align_items": null,
            "align_self": null,
            "border": null,
            "bottom": null,
            "display": null,
            "flex": null,
            "flex_flow": null,
            "grid_area": null,
            "grid_auto_columns": null,
            "grid_auto_flow": null,
            "grid_auto_rows": null,
            "grid_column": null,
            "grid_gap": null,
            "grid_row": null,
            "grid_template_areas": null,
            "grid_template_columns": null,
            "grid_template_rows": null,
            "height": null,
            "justify_content": null,
            "justify_items": null,
            "left": null,
            "margin": null,
            "max_height": null,
            "max_width": null,
            "min_height": null,
            "min_width": null,
            "object_fit": null,
            "object_position": null,
            "order": null,
            "overflow": null,
            "overflow_x": null,
            "overflow_y": null,
            "padding": null,
            "right": null,
            "top": null,
            "visibility": null,
            "width": null
          }
        },
        "3b247170b2b84c45ac04e2edcfefc754": {
          "model_module": "@jupyter-widgets/controls",
          "model_name": "ProgressStyleModel",
          "model_module_version": "1.5.0",
          "state": {
            "_model_module": "@jupyter-widgets/controls",
            "_model_module_version": "1.5.0",
            "_model_name": "ProgressStyleModel",
            "_view_count": null,
            "_view_module": "@jupyter-widgets/base",
            "_view_module_version": "1.2.0",
            "_view_name": "StyleView",
            "bar_color": null,
            "description_width": ""
          }
        },
        "87e5909390a34e50906b2a115929685d": {
          "model_module": "@jupyter-widgets/base",
          "model_name": "LayoutModel",
          "model_module_version": "1.2.0",
          "state": {
            "_model_module": "@jupyter-widgets/base",
            "_model_module_version": "1.2.0",
            "_model_name": "LayoutModel",
            "_view_count": null,
            "_view_module": "@jupyter-widgets/base",
            "_view_module_version": "1.2.0",
            "_view_name": "LayoutView",
            "align_content": null,
            "align_items": null,
            "align_self": null,
            "border": null,
            "bottom": null,
            "display": null,
            "flex": null,
            "flex_flow": null,
            "grid_area": null,
            "grid_auto_columns": null,
            "grid_auto_flow": null,
            "grid_auto_rows": null,
            "grid_column": null,
            "grid_gap": null,
            "grid_row": null,
            "grid_template_areas": null,
            "grid_template_columns": null,
            "grid_template_rows": null,
            "height": null,
            "justify_content": null,
            "justify_items": null,
            "left": null,
            "margin": null,
            "max_height": null,
            "max_width": null,
            "min_height": null,
            "min_width": null,
            "object_fit": null,
            "object_position": null,
            "order": null,
            "overflow": null,
            "overflow_x": null,
            "overflow_y": null,
            "padding": null,
            "right": null,
            "top": null,
            "visibility": null,
            "width": null
          }
        },
        "ddcbb52c9ec54d7fa3398426efed4bb2": {
          "model_module": "@jupyter-widgets/controls",
          "model_name": "DescriptionStyleModel",
          "model_module_version": "1.5.0",
          "state": {
            "_model_module": "@jupyter-widgets/controls",
            "_model_module_version": "1.5.0",
            "_model_name": "DescriptionStyleModel",
            "_view_count": null,
            "_view_module": "@jupyter-widgets/base",
            "_view_module_version": "1.2.0",
            "_view_name": "StyleView",
            "description_width": ""
          }
        }
      }
    },
    "accelerator": "GPU"
  },
  "cells": [
    {
      "cell_type": "markdown",
      "source": [
        "### **PyTorch Computer Vision**"
      ],
      "metadata": {
        "id": "zdixl8OaX9fx"
      }
    },
    {
      "cell_type": "code",
      "execution_count": 1,
      "metadata": {
        "colab": {
          "base_uri": "https://localhost:8080/"
        },
        "id": "iL8oJvEQXv18",
        "outputId": "61277f96-f4ff-4ef5-8cfc-3896c96b6b8e"
      },
      "outputs": [
        {
          "output_type": "stream",
          "name": "stdout",
          "text": [
            "Requirement already satisfied: torch in /usr/local/lib/python3.11/dist-packages (2.6.0+cu124)\n",
            "Requirement already satisfied: torchvision in /usr/local/lib/python3.11/dist-packages (0.21.0+cu124)\n",
            "Requirement already satisfied: torchaudio in /usr/local/lib/python3.11/dist-packages (2.6.0+cu124)\n",
            "Requirement already satisfied: filelock in /usr/local/lib/python3.11/dist-packages (from torch) (3.18.0)\n",
            "Requirement already satisfied: typing-extensions>=4.10.0 in /usr/local/lib/python3.11/dist-packages (from torch) (4.14.0)\n",
            "Requirement already satisfied: networkx in /usr/local/lib/python3.11/dist-packages (from torch) (3.5)\n",
            "Requirement already satisfied: jinja2 in /usr/local/lib/python3.11/dist-packages (from torch) (3.1.6)\n",
            "Requirement already satisfied: fsspec in /usr/local/lib/python3.11/dist-packages (from torch) (2025.3.2)\n",
            "Collecting nvidia-cuda-nvrtc-cu12==12.4.127 (from torch)\n",
            "  Downloading nvidia_cuda_nvrtc_cu12-12.4.127-py3-none-manylinux2014_x86_64.whl.metadata (1.5 kB)\n",
            "Collecting nvidia-cuda-runtime-cu12==12.4.127 (from torch)\n",
            "  Downloading nvidia_cuda_runtime_cu12-12.4.127-py3-none-manylinux2014_x86_64.whl.metadata (1.5 kB)\n",
            "Collecting nvidia-cuda-cupti-cu12==12.4.127 (from torch)\n",
            "  Downloading nvidia_cuda_cupti_cu12-12.4.127-py3-none-manylinux2014_x86_64.whl.metadata (1.6 kB)\n",
            "Collecting nvidia-cudnn-cu12==9.1.0.70 (from torch)\n",
            "  Downloading nvidia_cudnn_cu12-9.1.0.70-py3-none-manylinux2014_x86_64.whl.metadata (1.6 kB)\n",
            "Collecting nvidia-cublas-cu12==12.4.5.8 (from torch)\n",
            "  Downloading nvidia_cublas_cu12-12.4.5.8-py3-none-manylinux2014_x86_64.whl.metadata (1.5 kB)\n",
            "Collecting nvidia-cufft-cu12==11.2.1.3 (from torch)\n",
            "  Downloading nvidia_cufft_cu12-11.2.1.3-py3-none-manylinux2014_x86_64.whl.metadata (1.5 kB)\n",
            "Collecting nvidia-curand-cu12==10.3.5.147 (from torch)\n",
            "  Downloading nvidia_curand_cu12-10.3.5.147-py3-none-manylinux2014_x86_64.whl.metadata (1.5 kB)\n",
            "Collecting nvidia-cusolver-cu12==11.6.1.9 (from torch)\n",
            "  Downloading nvidia_cusolver_cu12-11.6.1.9-py3-none-manylinux2014_x86_64.whl.metadata (1.6 kB)\n",
            "Collecting nvidia-cusparse-cu12==12.3.1.170 (from torch)\n",
            "  Downloading nvidia_cusparse_cu12-12.3.1.170-py3-none-manylinux2014_x86_64.whl.metadata (1.6 kB)\n",
            "Requirement already satisfied: nvidia-cusparselt-cu12==0.6.2 in /usr/local/lib/python3.11/dist-packages (from torch) (0.6.2)\n",
            "Requirement already satisfied: nvidia-nccl-cu12==2.21.5 in /usr/local/lib/python3.11/dist-packages (from torch) (2.21.5)\n",
            "Requirement already satisfied: nvidia-nvtx-cu12==12.4.127 in /usr/local/lib/python3.11/dist-packages (from torch) (12.4.127)\n",
            "Collecting nvidia-nvjitlink-cu12==12.4.127 (from torch)\n",
            "  Downloading nvidia_nvjitlink_cu12-12.4.127-py3-none-manylinux2014_x86_64.whl.metadata (1.5 kB)\n",
            "Requirement already satisfied: triton==3.2.0 in /usr/local/lib/python3.11/dist-packages (from torch) (3.2.0)\n",
            "Requirement already satisfied: sympy==1.13.1 in /usr/local/lib/python3.11/dist-packages (from torch) (1.13.1)\n",
            "Requirement already satisfied: mpmath<1.4,>=1.1.0 in /usr/local/lib/python3.11/dist-packages (from sympy==1.13.1->torch) (1.3.0)\n",
            "Requirement already satisfied: numpy in /usr/local/lib/python3.11/dist-packages (from torchvision) (2.0.2)\n",
            "Requirement already satisfied: pillow!=8.3.*,>=5.3.0 in /usr/local/lib/python3.11/dist-packages (from torchvision) (11.2.1)\n",
            "Requirement already satisfied: MarkupSafe>=2.0 in /usr/local/lib/python3.11/dist-packages (from jinja2->torch) (3.0.2)\n",
            "Downloading nvidia_cublas_cu12-12.4.5.8-py3-none-manylinux2014_x86_64.whl (363.4 MB)\n",
            "\u001b[2K   \u001b[90m━━━━━━━━━━━━━━━━━━━━━━━━━━━━━━━━━━━━━━━━\u001b[0m \u001b[32m363.4/363.4 MB\u001b[0m \u001b[31m4.3 MB/s\u001b[0m eta \u001b[36m0:00:00\u001b[0m\n",
            "\u001b[?25hDownloading nvidia_cuda_cupti_cu12-12.4.127-py3-none-manylinux2014_x86_64.whl (13.8 MB)\n",
            "\u001b[2K   \u001b[90m━━━━━━━━━━━━━━━━━━━━━━━━━━━━━━━━━━━━━━━━\u001b[0m \u001b[32m13.8/13.8 MB\u001b[0m \u001b[31m85.1 MB/s\u001b[0m eta \u001b[36m0:00:00\u001b[0m\n",
            "\u001b[?25hDownloading nvidia_cuda_nvrtc_cu12-12.4.127-py3-none-manylinux2014_x86_64.whl (24.6 MB)\n",
            "\u001b[2K   \u001b[90m━━━━━━━━━━━━━━━━━━━━━━━━━━━━━━━━━━━━━━━━\u001b[0m \u001b[32m24.6/24.6 MB\u001b[0m \u001b[31m67.9 MB/s\u001b[0m eta \u001b[36m0:00:00\u001b[0m\n",
            "\u001b[?25hDownloading nvidia_cuda_runtime_cu12-12.4.127-py3-none-manylinux2014_x86_64.whl (883 kB)\n",
            "\u001b[2K   \u001b[90m━━━━━━━━━━━━━━━━━━━━━━━━━━━━━━━━━━━━━━━━\u001b[0m \u001b[32m883.7/883.7 kB\u001b[0m \u001b[31m35.6 MB/s\u001b[0m eta \u001b[36m0:00:00\u001b[0m\n",
            "\u001b[?25hDownloading nvidia_cudnn_cu12-9.1.0.70-py3-none-manylinux2014_x86_64.whl (664.8 MB)\n",
            "\u001b[2K   \u001b[90m━━━━━━━━━━━━━━━━━━━━━━━━━━━━━━━━━━━━━━━━\u001b[0m \u001b[32m664.8/664.8 MB\u001b[0m \u001b[31m1.3 MB/s\u001b[0m eta \u001b[36m0:00:00\u001b[0m\n",
            "\u001b[?25hDownloading nvidia_cufft_cu12-11.2.1.3-py3-none-manylinux2014_x86_64.whl (211.5 MB)\n",
            "\u001b[2K   \u001b[90m━━━━━━━━━━━━━━━━━━━━━━━━━━━━━━━━━━━━━━━━\u001b[0m \u001b[32m211.5/211.5 MB\u001b[0m \u001b[31m6.0 MB/s\u001b[0m eta \u001b[36m0:00:00\u001b[0m\n",
            "\u001b[?25hDownloading nvidia_curand_cu12-10.3.5.147-py3-none-manylinux2014_x86_64.whl (56.3 MB)\n",
            "\u001b[2K   \u001b[90m━━━━━━━━━━━━━━━━━━━━━━━━━━━━━━━━━━━━━━━━\u001b[0m \u001b[32m56.3/56.3 MB\u001b[0m \u001b[31m12.6 MB/s\u001b[0m eta \u001b[36m0:00:00\u001b[0m\n",
            "\u001b[?25hDownloading nvidia_cusolver_cu12-11.6.1.9-py3-none-manylinux2014_x86_64.whl (127.9 MB)\n",
            "\u001b[2K   \u001b[90m━━━━━━━━━━━━━━━━━━━━━━━━━━━━━━━━━━━━━━━━\u001b[0m \u001b[32m127.9/127.9 MB\u001b[0m \u001b[31m7.6 MB/s\u001b[0m eta \u001b[36m0:00:00\u001b[0m\n",
            "\u001b[?25hDownloading nvidia_cusparse_cu12-12.3.1.170-py3-none-manylinux2014_x86_64.whl (207.5 MB)\n",
            "\u001b[2K   \u001b[90m━━━━━━━━━━━━━━━━━━━━━━━━━━━━━━━━━━━━━━━━\u001b[0m \u001b[32m207.5/207.5 MB\u001b[0m \u001b[31m5.6 MB/s\u001b[0m eta \u001b[36m0:00:00\u001b[0m\n",
            "\u001b[?25hDownloading nvidia_nvjitlink_cu12-12.4.127-py3-none-manylinux2014_x86_64.whl (21.1 MB)\n",
            "\u001b[2K   \u001b[90m━━━━━━━━━━━━━━━━━━━━━━━━━━━━━━━━━━━━━━━━\u001b[0m \u001b[32m21.1/21.1 MB\u001b[0m \u001b[31m108.4 MB/s\u001b[0m eta \u001b[36m0:00:00\u001b[0m\n",
            "\u001b[?25hInstalling collected packages: nvidia-nvjitlink-cu12, nvidia-curand-cu12, nvidia-cufft-cu12, nvidia-cuda-runtime-cu12, nvidia-cuda-nvrtc-cu12, nvidia-cuda-cupti-cu12, nvidia-cublas-cu12, nvidia-cusparse-cu12, nvidia-cudnn-cu12, nvidia-cusolver-cu12\n",
            "  Attempting uninstall: nvidia-nvjitlink-cu12\n",
            "    Found existing installation: nvidia-nvjitlink-cu12 12.5.82\n",
            "    Uninstalling nvidia-nvjitlink-cu12-12.5.82:\n",
            "      Successfully uninstalled nvidia-nvjitlink-cu12-12.5.82\n",
            "  Attempting uninstall: nvidia-curand-cu12\n",
            "    Found existing installation: nvidia-curand-cu12 10.3.6.82\n",
            "    Uninstalling nvidia-curand-cu12-10.3.6.82:\n",
            "      Successfully uninstalled nvidia-curand-cu12-10.3.6.82\n",
            "  Attempting uninstall: nvidia-cufft-cu12\n",
            "    Found existing installation: nvidia-cufft-cu12 11.2.3.61\n",
            "    Uninstalling nvidia-cufft-cu12-11.2.3.61:\n",
            "      Successfully uninstalled nvidia-cufft-cu12-11.2.3.61\n",
            "  Attempting uninstall: nvidia-cuda-runtime-cu12\n",
            "    Found existing installation: nvidia-cuda-runtime-cu12 12.5.82\n",
            "    Uninstalling nvidia-cuda-runtime-cu12-12.5.82:\n",
            "      Successfully uninstalled nvidia-cuda-runtime-cu12-12.5.82\n",
            "  Attempting uninstall: nvidia-cuda-nvrtc-cu12\n",
            "    Found existing installation: nvidia-cuda-nvrtc-cu12 12.5.82\n",
            "    Uninstalling nvidia-cuda-nvrtc-cu12-12.5.82:\n",
            "      Successfully uninstalled nvidia-cuda-nvrtc-cu12-12.5.82\n",
            "  Attempting uninstall: nvidia-cuda-cupti-cu12\n",
            "    Found existing installation: nvidia-cuda-cupti-cu12 12.5.82\n",
            "    Uninstalling nvidia-cuda-cupti-cu12-12.5.82:\n",
            "      Successfully uninstalled nvidia-cuda-cupti-cu12-12.5.82\n",
            "  Attempting uninstall: nvidia-cublas-cu12\n",
            "    Found existing installation: nvidia-cublas-cu12 12.5.3.2\n",
            "    Uninstalling nvidia-cublas-cu12-12.5.3.2:\n",
            "      Successfully uninstalled nvidia-cublas-cu12-12.5.3.2\n",
            "  Attempting uninstall: nvidia-cusparse-cu12\n",
            "    Found existing installation: nvidia-cusparse-cu12 12.5.1.3\n",
            "    Uninstalling nvidia-cusparse-cu12-12.5.1.3:\n",
            "      Successfully uninstalled nvidia-cusparse-cu12-12.5.1.3\n",
            "  Attempting uninstall: nvidia-cudnn-cu12\n",
            "    Found existing installation: nvidia-cudnn-cu12 9.3.0.75\n",
            "    Uninstalling nvidia-cudnn-cu12-9.3.0.75:\n",
            "      Successfully uninstalled nvidia-cudnn-cu12-9.3.0.75\n",
            "  Attempting uninstall: nvidia-cusolver-cu12\n",
            "    Found existing installation: nvidia-cusolver-cu12 11.6.3.83\n",
            "    Uninstalling nvidia-cusolver-cu12-11.6.3.83:\n",
            "      Successfully uninstalled nvidia-cusolver-cu12-11.6.3.83\n",
            "Successfully installed nvidia-cublas-cu12-12.4.5.8 nvidia-cuda-cupti-cu12-12.4.127 nvidia-cuda-nvrtc-cu12-12.4.127 nvidia-cuda-runtime-cu12-12.4.127 nvidia-cudnn-cu12-9.1.0.70 nvidia-cufft-cu12-11.2.1.3 nvidia-curand-cu12-10.3.5.147 nvidia-cusolver-cu12-11.6.1.9 nvidia-cusparse-cu12-12.3.1.170 nvidia-nvjitlink-cu12-12.4.127\n"
          ]
        }
      ],
      "source": [
        "%pip install torch torchvision torchaudio"
      ]
    },
    {
      "cell_type": "code",
      "source": [
        "\n",
        "\n",
        "import torch\n",
        "from torch import nn\n",
        "import matplotlib.pyplot as plt\n",
        "\n",
        "# let's see the pytorch version\n",
        "torch.__version__"
      ],
      "metadata": {
        "colab": {
          "base_uri": "https://localhost:8080/",
          "height": 35
        },
        "id": "HF_9j5wvX4PB",
        "outputId": "a5a8148d-088d-4566-d0f0-51c40c0b72c9"
      },
      "execution_count": 2,
      "outputs": [
        {
          "output_type": "execute_result",
          "data": {
            "text/plain": [
              "'2.6.0+cu124'"
            ],
            "application/vnd.google.colaboratory.intrinsic+json": {
              "type": "string"
            }
          },
          "metadata": {},
          "execution_count": 2
        }
      ]
    },
    {
      "cell_type": "markdown",
      "source": [
        "Computer Vision is the art of teaching a computer to see, like building a model to classify whether a photo is of a cat or a dog."
      ],
      "metadata": {
        "id": "Sas6-bGzYPZT"
      }
    },
    {
      "cell_type": "markdown",
      "source": [
        "#### What we will learn?\n",
        "\n",
        "\n",
        "| Topic                                           | Contents                                                                                                               |\n",
        "|------------------------------------------------|------------------------------------------------------------------------------------------------------------------------|\n",
        "| 0. Computer vision libraries in PyTorch        | PyTorch has a bunch of built-in helpful computer vision libraries, let's check them out.                              |\n",
        "| 1. Load data                                   | To practice computer vision, we'll start with some images of different pieces of clothing from [FashionMNIST](https://github.com/zalandoresearch/fashion-mnist). |\n",
        "| 2. Prepare data                                | We've got some images, let's load them in with a PyTorch `DataLoader` so we can use them with our training loop.      |\n",
        "| 3. Model 0: Building a baseline model          | Here we'll create a multi-class classification model to learn patterns in the data, we'll also choose a **loss function**, **optimizer** and build a **training loop**. |\n",
        "| 4. Making predictions and evaluating model 0   | Let's make some predictions with our baseline model and evaluate them.                                                |\n",
        "| 5. Setup device agnostic code for future models| It's best practice to write device-agnostic code, so let's set it up.                                                 |\n",
        "| 6. Model 1: Adding non-linearity               | Experimenting is a large part of machine learning, let's try and improve upon our baseline model by adding non-linear layers. |\n",
        "| 7. Model 2: Convolutional Neural Network (CNN) | Time to get computer vision specific and introduce the powerful convolutional neural network architecture.            |\n",
        "| 8. Comparing our models                        | We've built three different models, let's compare them.                                                               |\n",
        "| 9. Evaluating our best model                   | Let's make some predictions on random images and evaluate our best model.                                             |\n",
        "| 10. Making a confusion matrix                  | A confusion matrix is a great way to evaluate a classification model, let's see how we can make one.                  |\n",
        "| 11. Saving and loading the best performing model| Since we might want to use our model for later, let's save it and make sure it loads back in correctly.               |\n",
        "\n",
        "\n"
      ],
      "metadata": {
        "id": "xtgfIJJdYffa"
      }
    },
    {
      "cell_type": "markdown",
      "source": [
        "### **Computer vision libraries in PyTorch**\n",
        "\n",
        "There are some computer vision libraries we should be aware of:\n",
        "\n",
        "- `torchvision` - Contains datasets, model architectures and image transformation often used for computer vision problems.\n",
        "\n",
        "- `torchvision.datasets` - Here you'll find many example computer vision datatsets for a range of problems from image classification, object detection, image captioning, video classification and more.\n",
        "\n",
        "- `torchvision.models` - This module contains well-performing and commonly used computer vision model architectures implemented in PyTorch.\n",
        "\n",
        "- `torchvision.transforms` - Often images need to be transformed (into numbers) before being used with a model, common image transformations are here.\n",
        "\n",
        "- `torch.utils.data.Dataset` - Base dataset class of PyTorch\n",
        "\n",
        "- `torch.utils.data.DataLoader` - Creates a python iterable over a dataset"
      ],
      "metadata": {
        "id": "cuv9fVAKbf93"
      }
    },
    {
      "cell_type": "code",
      "source": [
        "import torchvision\n",
        "from torchvision import datasets\n",
        "from torchvision.transforms import ToTensor\n",
        "\n",
        "\n",
        "import matplotlib.pyplot as plt\n",
        "\n",
        "\n",
        "# check the versions\n",
        "\n",
        "print(f\"PyTorch version: {torch.__version__}\")\n",
        "print(f\"torchvision version: {torchvision.__version__}\")"
      ],
      "metadata": {
        "colab": {
          "base_uri": "https://localhost:8080/"
        },
        "id": "bGDfSSxOX6Pg",
        "outputId": "9c20ba2a-929c-4b33-d633-467b0581bcc8"
      },
      "execution_count": 3,
      "outputs": [
        {
          "output_type": "stream",
          "name": "stdout",
          "text": [
            "PyTorch version: 2.6.0+cu124\n",
            "torchvision version: 0.21.0+cu124\n"
          ]
        }
      ]
    },
    {
      "cell_type": "markdown",
      "source": [
        "### **Getting a dataset**\n"
      ],
      "metadata": {
        "id": "mns2ITPTdxRh"
      }
    },
    {
      "cell_type": "markdown",
      "source": [
        "To begin working with it, we need to get a computer vision dataset, we will be going to use `FashionMNIST` dataset. Where MNIST stands for Modified Institute of Standards and Technology.\n",
        "\n",
        "\n",
        "`torchvision.datasets` contains a lot of example datasets that we can make use of while testing our computer vision knowledge. FashionMNIST is one of those instances, and since it has 10 different image classes, it is a multi-class classification problem\n",
        "\n",
        "\n",
        "\n",
        "To make use of the FashionMNIST dataset from PyTorch, we will load this data:"
      ],
      "metadata": {
        "id": "pUa6lQbHdzPS"
      }
    },
    {
      "cell_type": "code",
      "source": [
        "# load training data\n",
        "train_data = datasets.FashionMNIST(\n",
        "    root='data', # name of the folder where you want to save or download the data to\n",
        "    train = True, # Boolean, which basically asks you want the training or test split\n",
        "    download=True, # again a bool, asking whether the data should be downloaded\n",
        "    transform=ToTensor(), # the images come as a PIL format, we want to convert them to Torch.Tensor\n",
        "    target_transform=None # do wwe want to transform the target labels as well?\n",
        ")\n",
        "\n",
        "\n",
        "# now the testing data\n",
        "\n",
        "test_data = datasets.FashionMNIST(\n",
        "    root = 'data', # as mentioned above\n",
        "    train = False, # this will be false, since this is the training data\n",
        "    download = True , # yes since we are downloading\n",
        "    transform=ToTensor() # as mentioned above\n",
        ")"
      ],
      "metadata": {
        "id": "w7fLbL2RdsZ6",
        "colab": {
          "base_uri": "https://localhost:8080/"
        },
        "outputId": "a8d99552-fb88-42c8-daca-fd5a81c16f83"
      },
      "execution_count": 4,
      "outputs": [
        {
          "output_type": "stream",
          "name": "stderr",
          "text": [
            "100%|██████████| 26.4M/26.4M [00:02<00:00, 10.4MB/s]\n",
            "100%|██████████| 29.5k/29.5k [00:00<00:00, 172kB/s]\n",
            "100%|██████████| 4.42M/4.42M [00:01<00:00, 3.19MB/s]\n",
            "100%|██████████| 5.15k/5.15k [00:00<00:00, 12.1MB/s]\n"
          ]
        }
      ]
    },
    {
      "cell_type": "markdown",
      "source": [
        "The data is downloaded, we can take a look at it"
      ],
      "metadata": {
        "id": "buqwW_Ckfw1Q"
      }
    },
    {
      "cell_type": "code",
      "source": [
        "image, label = train_data[0]\n",
        "print(f\"Image shape: {image.shape}\")\n",
        "print(f\"Label: {label}\")"
      ],
      "metadata": {
        "colab": {
          "base_uri": "https://localhost:8080/"
        },
        "id": "3ldqPLwGfpuS",
        "outputId": "e946667e-5c31-4998-e9e5-a7f6bf4cda54"
      },
      "execution_count": 5,
      "outputs": [
        {
          "output_type": "stream",
          "name": "stdout",
          "text": [
            "Image shape: torch.Size([1, 28, 28])\n",
            "Label: 9\n"
          ]
        }
      ]
    },
    {
      "cell_type": "code",
      "source": [
        "image"
      ],
      "metadata": {
        "colab": {
          "base_uri": "https://localhost:8080/"
        },
        "id": "NUZbQxUJf3i-",
        "outputId": "b3478759-60d7-4d0c-c54d-ade910811f06"
      },
      "execution_count": 6,
      "outputs": [
        {
          "output_type": "execute_result",
          "data": {
            "text/plain": [
              "tensor([[[0.0000, 0.0000, 0.0000, 0.0000, 0.0000, 0.0000, 0.0000, 0.0000,\n",
              "          0.0000, 0.0000, 0.0000, 0.0000, 0.0000, 0.0000, 0.0000, 0.0000,\n",
              "          0.0000, 0.0000, 0.0000, 0.0000, 0.0000, 0.0000, 0.0000, 0.0000,\n",
              "          0.0000, 0.0000, 0.0000, 0.0000],\n",
              "         [0.0000, 0.0000, 0.0000, 0.0000, 0.0000, 0.0000, 0.0000, 0.0000,\n",
              "          0.0000, 0.0000, 0.0000, 0.0000, 0.0000, 0.0000, 0.0000, 0.0000,\n",
              "          0.0000, 0.0000, 0.0000, 0.0000, 0.0000, 0.0000, 0.0000, 0.0000,\n",
              "          0.0000, 0.0000, 0.0000, 0.0000],\n",
              "         [0.0000, 0.0000, 0.0000, 0.0000, 0.0000, 0.0000, 0.0000, 0.0000,\n",
              "          0.0000, 0.0000, 0.0000, 0.0000, 0.0000, 0.0000, 0.0000, 0.0000,\n",
              "          0.0000, 0.0000, 0.0000, 0.0000, 0.0000, 0.0000, 0.0000, 0.0000,\n",
              "          0.0000, 0.0000, 0.0000, 0.0000],\n",
              "         [0.0000, 0.0000, 0.0000, 0.0000, 0.0000, 0.0000, 0.0000, 0.0000,\n",
              "          0.0000, 0.0000, 0.0000, 0.0000, 0.0039, 0.0000, 0.0000, 0.0510,\n",
              "          0.2863, 0.0000, 0.0000, 0.0039, 0.0157, 0.0000, 0.0000, 0.0000,\n",
              "          0.0000, 0.0039, 0.0039, 0.0000],\n",
              "         [0.0000, 0.0000, 0.0000, 0.0000, 0.0000, 0.0000, 0.0000, 0.0000,\n",
              "          0.0000, 0.0000, 0.0000, 0.0000, 0.0118, 0.0000, 0.1412, 0.5333,\n",
              "          0.4980, 0.2431, 0.2118, 0.0000, 0.0000, 0.0000, 0.0039, 0.0118,\n",
              "          0.0157, 0.0000, 0.0000, 0.0118],\n",
              "         [0.0000, 0.0000, 0.0000, 0.0000, 0.0000, 0.0000, 0.0000, 0.0000,\n",
              "          0.0000, 0.0000, 0.0000, 0.0000, 0.0235, 0.0000, 0.4000, 0.8000,\n",
              "          0.6902, 0.5255, 0.5647, 0.4824, 0.0902, 0.0000, 0.0000, 0.0000,\n",
              "          0.0000, 0.0471, 0.0392, 0.0000],\n",
              "         [0.0000, 0.0000, 0.0000, 0.0000, 0.0000, 0.0000, 0.0000, 0.0000,\n",
              "          0.0000, 0.0000, 0.0000, 0.0000, 0.0000, 0.0000, 0.6078, 0.9255,\n",
              "          0.8118, 0.6980, 0.4196, 0.6118, 0.6314, 0.4275, 0.2510, 0.0902,\n",
              "          0.3020, 0.5098, 0.2824, 0.0588],\n",
              "         [0.0000, 0.0000, 0.0000, 0.0000, 0.0000, 0.0000, 0.0000, 0.0000,\n",
              "          0.0000, 0.0000, 0.0000, 0.0039, 0.0000, 0.2706, 0.8118, 0.8745,\n",
              "          0.8549, 0.8471, 0.8471, 0.6392, 0.4980, 0.4745, 0.4784, 0.5725,\n",
              "          0.5529, 0.3451, 0.6745, 0.2588],\n",
              "         [0.0000, 0.0000, 0.0000, 0.0000, 0.0000, 0.0000, 0.0000, 0.0000,\n",
              "          0.0000, 0.0039, 0.0039, 0.0039, 0.0000, 0.7843, 0.9098, 0.9098,\n",
              "          0.9137, 0.8980, 0.8745, 0.8745, 0.8431, 0.8353, 0.6431, 0.4980,\n",
              "          0.4824, 0.7686, 0.8980, 0.0000],\n",
              "         [0.0000, 0.0000, 0.0000, 0.0000, 0.0000, 0.0000, 0.0000, 0.0000,\n",
              "          0.0000, 0.0000, 0.0000, 0.0000, 0.0000, 0.7176, 0.8824, 0.8471,\n",
              "          0.8745, 0.8941, 0.9216, 0.8902, 0.8784, 0.8706, 0.8784, 0.8667,\n",
              "          0.8745, 0.9608, 0.6784, 0.0000],\n",
              "         [0.0000, 0.0000, 0.0000, 0.0000, 0.0000, 0.0000, 0.0000, 0.0000,\n",
              "          0.0000, 0.0000, 0.0000, 0.0000, 0.0000, 0.7569, 0.8941, 0.8549,\n",
              "          0.8353, 0.7765, 0.7059, 0.8314, 0.8235, 0.8275, 0.8353, 0.8745,\n",
              "          0.8627, 0.9529, 0.7922, 0.0000],\n",
              "         [0.0000, 0.0000, 0.0000, 0.0000, 0.0000, 0.0000, 0.0000, 0.0000,\n",
              "          0.0000, 0.0039, 0.0118, 0.0000, 0.0471, 0.8588, 0.8627, 0.8314,\n",
              "          0.8549, 0.7529, 0.6627, 0.8902, 0.8157, 0.8549, 0.8784, 0.8314,\n",
              "          0.8863, 0.7725, 0.8196, 0.2039],\n",
              "         [0.0000, 0.0000, 0.0000, 0.0000, 0.0000, 0.0000, 0.0000, 0.0000,\n",
              "          0.0000, 0.0000, 0.0235, 0.0000, 0.3882, 0.9569, 0.8706, 0.8627,\n",
              "          0.8549, 0.7961, 0.7765, 0.8667, 0.8431, 0.8353, 0.8706, 0.8627,\n",
              "          0.9608, 0.4667, 0.6549, 0.2196],\n",
              "         [0.0000, 0.0000, 0.0000, 0.0000, 0.0000, 0.0000, 0.0000, 0.0000,\n",
              "          0.0000, 0.0157, 0.0000, 0.0000, 0.2157, 0.9255, 0.8941, 0.9020,\n",
              "          0.8941, 0.9412, 0.9098, 0.8353, 0.8549, 0.8745, 0.9176, 0.8510,\n",
              "          0.8510, 0.8196, 0.3608, 0.0000],\n",
              "         [0.0000, 0.0000, 0.0039, 0.0157, 0.0235, 0.0275, 0.0078, 0.0000,\n",
              "          0.0000, 0.0000, 0.0000, 0.0000, 0.9294, 0.8863, 0.8510, 0.8745,\n",
              "          0.8706, 0.8588, 0.8706, 0.8667, 0.8471, 0.8745, 0.8980, 0.8431,\n",
              "          0.8549, 1.0000, 0.3020, 0.0000],\n",
              "         [0.0000, 0.0118, 0.0000, 0.0000, 0.0000, 0.0000, 0.0000, 0.0000,\n",
              "          0.0000, 0.2431, 0.5686, 0.8000, 0.8941, 0.8118, 0.8353, 0.8667,\n",
              "          0.8549, 0.8157, 0.8275, 0.8549, 0.8784, 0.8745, 0.8588, 0.8431,\n",
              "          0.8784, 0.9569, 0.6235, 0.0000],\n",
              "         [0.0000, 0.0000, 0.0000, 0.0000, 0.0706, 0.1725, 0.3216, 0.4196,\n",
              "          0.7412, 0.8941, 0.8627, 0.8706, 0.8510, 0.8863, 0.7843, 0.8039,\n",
              "          0.8275, 0.9020, 0.8784, 0.9176, 0.6902, 0.7373, 0.9804, 0.9725,\n",
              "          0.9137, 0.9333, 0.8431, 0.0000],\n",
              "         [0.0000, 0.2235, 0.7333, 0.8157, 0.8784, 0.8667, 0.8784, 0.8157,\n",
              "          0.8000, 0.8392, 0.8157, 0.8196, 0.7843, 0.6235, 0.9608, 0.7569,\n",
              "          0.8078, 0.8745, 1.0000, 1.0000, 0.8667, 0.9176, 0.8667, 0.8275,\n",
              "          0.8627, 0.9098, 0.9647, 0.0000],\n",
              "         [0.0118, 0.7922, 0.8941, 0.8784, 0.8667, 0.8275, 0.8275, 0.8392,\n",
              "          0.8039, 0.8039, 0.8039, 0.8627, 0.9412, 0.3137, 0.5882, 1.0000,\n",
              "          0.8980, 0.8667, 0.7373, 0.6039, 0.7490, 0.8235, 0.8000, 0.8196,\n",
              "          0.8706, 0.8941, 0.8824, 0.0000],\n",
              "         [0.3843, 0.9137, 0.7765, 0.8235, 0.8706, 0.8980, 0.8980, 0.9176,\n",
              "          0.9765, 0.8627, 0.7608, 0.8431, 0.8510, 0.9451, 0.2549, 0.2863,\n",
              "          0.4157, 0.4588, 0.6588, 0.8588, 0.8667, 0.8431, 0.8510, 0.8745,\n",
              "          0.8745, 0.8784, 0.8980, 0.1137],\n",
              "         [0.2941, 0.8000, 0.8314, 0.8000, 0.7569, 0.8039, 0.8275, 0.8824,\n",
              "          0.8471, 0.7255, 0.7725, 0.8078, 0.7765, 0.8353, 0.9412, 0.7647,\n",
              "          0.8902, 0.9608, 0.9373, 0.8745, 0.8549, 0.8314, 0.8196, 0.8706,\n",
              "          0.8627, 0.8667, 0.9020, 0.2627],\n",
              "         [0.1882, 0.7961, 0.7176, 0.7608, 0.8353, 0.7725, 0.7255, 0.7451,\n",
              "          0.7608, 0.7529, 0.7922, 0.8392, 0.8588, 0.8667, 0.8627, 0.9255,\n",
              "          0.8824, 0.8471, 0.7804, 0.8078, 0.7294, 0.7098, 0.6941, 0.6745,\n",
              "          0.7098, 0.8039, 0.8078, 0.4510],\n",
              "         [0.0000, 0.4784, 0.8588, 0.7569, 0.7020, 0.6706, 0.7176, 0.7686,\n",
              "          0.8000, 0.8235, 0.8353, 0.8118, 0.8275, 0.8235, 0.7843, 0.7686,\n",
              "          0.7608, 0.7490, 0.7647, 0.7490, 0.7765, 0.7529, 0.6902, 0.6118,\n",
              "          0.6549, 0.6941, 0.8235, 0.3608],\n",
              "         [0.0000, 0.0000, 0.2902, 0.7412, 0.8314, 0.7490, 0.6863, 0.6745,\n",
              "          0.6863, 0.7098, 0.7255, 0.7373, 0.7412, 0.7373, 0.7569, 0.7765,\n",
              "          0.8000, 0.8196, 0.8235, 0.8235, 0.8275, 0.7373, 0.7373, 0.7608,\n",
              "          0.7529, 0.8471, 0.6667, 0.0000],\n",
              "         [0.0078, 0.0000, 0.0000, 0.0000, 0.2588, 0.7843, 0.8706, 0.9294,\n",
              "          0.9373, 0.9490, 0.9647, 0.9529, 0.9569, 0.8667, 0.8627, 0.7569,\n",
              "          0.7490, 0.7020, 0.7137, 0.7137, 0.7098, 0.6902, 0.6510, 0.6588,\n",
              "          0.3882, 0.2275, 0.0000, 0.0000],\n",
              "         [0.0000, 0.0000, 0.0000, 0.0000, 0.0000, 0.0000, 0.0000, 0.1569,\n",
              "          0.2392, 0.1725, 0.2824, 0.1608, 0.1373, 0.0000, 0.0000, 0.0000,\n",
              "          0.0000, 0.0000, 0.0000, 0.0000, 0.0000, 0.0000, 0.0000, 0.0000,\n",
              "          0.0000, 0.0000, 0.0000, 0.0000],\n",
              "         [0.0000, 0.0000, 0.0000, 0.0000, 0.0000, 0.0000, 0.0000, 0.0000,\n",
              "          0.0000, 0.0000, 0.0000, 0.0000, 0.0000, 0.0000, 0.0000, 0.0000,\n",
              "          0.0000, 0.0000, 0.0000, 0.0000, 0.0000, 0.0000, 0.0000, 0.0000,\n",
              "          0.0000, 0.0000, 0.0000, 0.0000],\n",
              "         [0.0000, 0.0000, 0.0000, 0.0000, 0.0000, 0.0000, 0.0000, 0.0000,\n",
              "          0.0000, 0.0000, 0.0000, 0.0000, 0.0000, 0.0000, 0.0000, 0.0000,\n",
              "          0.0000, 0.0000, 0.0000, 0.0000, 0.0000, 0.0000, 0.0000, 0.0000,\n",
              "          0.0000, 0.0000, 0.0000, 0.0000]]])"
            ]
          },
          "metadata": {},
          "execution_count": 6
        }
      ]
    },
    {
      "cell_type": "code",
      "source": [
        "print(f\"Image shape: {image.shape}\")"
      ],
      "metadata": {
        "colab": {
          "base_uri": "https://localhost:8080/"
        },
        "id": "LeAZ6CU0gDhS",
        "outputId": "29be370d-8d90-4b96-cffa-ce3e80a86020"
      },
      "execution_count": 7,
      "outputs": [
        {
          "output_type": "stream",
          "name": "stdout",
          "text": [
            "Image shape: torch.Size([1, 28, 28])\n"
          ]
        }
      ]
    },
    {
      "cell_type": "markdown",
      "source": [
        "this is\n",
        "`[color_channels = 1 , height = 28, width = 28]`\n",
        "\n",
        "Color chanel = 1, means that the image is grayscale"
      ],
      "metadata": {
        "id": "kj4iRkWCgM2p"
      }
    },
    {
      "cell_type": "markdown",
      "source": [
        "#### Input and Output shapes of a computer vision model"
      ],
      "metadata": {
        "id": "vO34Qq4if9fX"
      }
    },
    {
      "cell_type": "markdown",
      "source": [
        "Various problems will have various input and output shapes, but the premise remains:\n",
        "- encode data into numbers\n",
        "- build a model to find pattenrs in those numbers\n",
        "- convert those patterns into something meaningful\n",
        "\n",
        "\n",
        "If the color channel = 3, then the image is in RGB. Typically in pytorch we have `NCHW` or `NHWC` format, where `N` stands for number of images. PyToch explains that using `NHWC` i.e. Channels last performs better and is considered a better practice.\n",
        "\n",
        "\n",
        "Since we are dealing with a small dataset, it won't matter for now, but we will deal with this in later exaamples."
      ],
      "metadata": {
        "id": "4GNTmdjQgB61"
      }
    },
    {
      "cell_type": "code",
      "source": [
        "# let's see the train data\n",
        "\n",
        "print(f\"Number of train data : {len(train_data.data)}\")\n",
        "print(f\"Number of test data : {len(test_data.data)}\")\n",
        "\n",
        "# now the targets\n",
        "\n",
        "print(f\"Number of train targets : {len(train_data.targets)}\")\n",
        "print(f\"Number of test targets : {len(test_data.targets)}\")"
      ],
      "metadata": {
        "colab": {
          "base_uri": "https://localhost:8080/"
        },
        "id": "dI2olFhyf6rd",
        "outputId": "ca14333e-8e14-4424-cec1-84da1f5ef578"
      },
      "execution_count": 8,
      "outputs": [
        {
          "output_type": "stream",
          "name": "stdout",
          "text": [
            "Number of train data : 60000\n",
            "Number of test data : 10000\n",
            "Number of train targets : 60000\n",
            "Number of test targets : 10000\n"
          ]
        }
      ]
    },
    {
      "cell_type": "markdown",
      "source": [
        "So we have `60,000` training samples and `10,000` testing samples"
      ],
      "metadata": {
        "id": "mL4fYGUJhn29"
      }
    },
    {
      "cell_type": "code",
      "source": [
        "# what are the labels/classes\n",
        "class_name = train_data.classes\n",
        "class_name"
      ],
      "metadata": {
        "colab": {
          "base_uri": "https://localhost:8080/"
        },
        "id": "0rSvIfSthSeD",
        "outputId": "96a4b61d-8974-4834-95c1-6a55273f0e67"
      },
      "execution_count": 9,
      "outputs": [
        {
          "output_type": "execute_result",
          "data": {
            "text/plain": [
              "['T-shirt/top',\n",
              " 'Trouser',\n",
              " 'Pullover',\n",
              " 'Dress',\n",
              " 'Coat',\n",
              " 'Sandal',\n",
              " 'Shirt',\n",
              " 'Sneaker',\n",
              " 'Bag',\n",
              " 'Ankle boot']"
            ]
          },
          "metadata": {},
          "execution_count": 9
        }
      ]
    },
    {
      "cell_type": "markdown",
      "source": [
        "So we are dealing with `10` different kind of clothing, hence a `multi-class classification`"
      ],
      "metadata": {
        "id": "qaphd0i3h1Ta"
      }
    },
    {
      "cell_type": "markdown",
      "source": [
        "### **Visualizing our data**"
      ],
      "metadata": {
        "id": "dPIswUFyh8Jo"
      }
    },
    {
      "cell_type": "code",
      "source": [
        "image,label = train_data[0]\n",
        "\n",
        "print(f\"Image Shape: {image.shape}\")\n",
        "print(f\"Label: {label}\")\n",
        "\n",
        "plt.imshow(image.squeeze())\n",
        "plt.title(label)"
      ],
      "metadata": {
        "colab": {
          "base_uri": "https://localhost:8080/",
          "height": 506
        },
        "id": "urOdrSl3hyBa",
        "outputId": "b4dd7b5e-6622-41b3-9453-e7cd392ad13f"
      },
      "execution_count": 10,
      "outputs": [
        {
          "output_type": "stream",
          "name": "stdout",
          "text": [
            "Image Shape: torch.Size([1, 28, 28])\n",
            "Label: 9\n"
          ]
        },
        {
          "output_type": "execute_result",
          "data": {
            "text/plain": [
              "Text(0.5, 1.0, '9')"
            ]
          },
          "metadata": {},
          "execution_count": 10
        },
        {
          "output_type": "display_data",
          "data": {
            "text/plain": [
              "<Figure size 640x480 with 1 Axes>"
            ],
            "image/png": "[encoded data removed]"
          },
          "metadata": {}
        }
      ]
    },
    {
      "cell_type": "markdown",
      "source": [
        "`9` means ankle boots.\n",
        "\n",
        "\n",
        "We can make this image into grayscale as well"
      ],
      "metadata": {
        "id": "UDC2UD50iNjN"
      }
    },
    {
      "cell_type": "code",
      "source": [
        "plt.imshow(image.squeeze(), cmap=\"gray\")\n",
        "plt.title(class_name[label])"
      ],
      "metadata": {
        "colab": {
          "base_uri": "https://localhost:8080/",
          "height": 470
        },
        "id": "dlLn9XC9iKI1",
        "outputId": "b4a2b253-026a-4546-de47-6b9df99d5c4e"
      },
      "execution_count": 11,
      "outputs": [
        {
          "output_type": "execute_result",
          "data": {
            "text/plain": [
              "Text(0.5, 1.0, 'Ankle boot')"
            ]
          },
          "metadata": {},
          "execution_count": 11
        },
        {
          "output_type": "display_data",
          "data": {
            "text/plain": [
              "<Figure size 640x480 with 1 Axes>"
            ],
            "image/png": "[encoded data removed]"
          },
          "metadata": {}
        }
      ]
    },
    {
      "cell_type": "markdown",
      "source": [
        "Let's view a few more"
      ],
      "metadata": {
        "id": "2fnyuN19iePh"
      }
    },
    {
      "cell_type": "code",
      "source": [
        "torch.manual_seed(135)\n",
        "\n",
        "fig = plt.figure(figsize=(9,9))\n",
        "rows, cols = 4,4\n",
        "\n",
        "for i in range(1, rows*cols + 1):\n",
        "  random_idx = torch.randint(0, len(train_data), size = [1]).item()\n",
        "  image, label = train_data[random_idx]\n",
        "  fig.add_subplot(rows, cols, i)\n",
        "  plt.imshow(image.squeeze(), cmap=\"gray\")\n",
        "  plt.title(class_name[label])\n",
        "  plt.axis(False)\n"
      ],
      "metadata": {
        "colab": {
          "base_uri": "https://localhost:8080/",
          "height": 752
        },
        "id": "t2bb43JXibSR",
        "outputId": "1d84781e-dec6-47b8-daa3-47f88e126dab"
      },
      "execution_count": 12,
      "outputs": [
        {
          "output_type": "display_data",
          "data": {
            "text/plain": [
              "<Figure size 900x900 with 16 Axes>"
            ],
            "image/png": "[encoded data removed]"
          },
          "metadata": {}
        }
      ]
    },
    {
      "cell_type": "markdown",
      "source": [
        "The model take pixel values, and then find patterns in them to use on future pixel values"
      ],
      "metadata": {
        "id": "8EOWJCPejmk4"
      }
    },
    {
      "cell_type": "markdown",
      "source": [
        "### **Preparing DataLoader**"
      ],
      "metadata": {
        "id": "2qzb-7-kjwJ-"
      }
    },
    {
      "cell_type": "markdown",
      "source": [
        "We need to prepare data using `torch.utils.data.Dataloader` , it helps load data into a model for training and for inference. It turns a large `Dataset` into a Python iterable of smaller chunks. The smaller chunks are called `batches` and can be set by `batch_size` parameter.\n",
        "\n",
        "\n",
        "It's computationally efficient to do this, since we have a very large dataset, it also gives our model more opportunities to improve.\n",
        "\n",
        "With mini-batches, gradient descent is performed more often per epoch ( once per mini-batch rather than once per epoch)\n",
        "\n",
        "Value of `batch_size` is an hyperparameter, and we can try all different kinds of values, but usually some powers of 2 are most common choices"
      ],
      "metadata": {
        "id": "sxGohesqjzJV"
      }
    },
    {
      "cell_type": "code",
      "source": [
        "from torch.utils.data import DataLoader\n",
        "# setting up the hyperparameter\n",
        "\n",
        "BATCH_SIZE = 32\n",
        "\n",
        "train_dataloader = DataLoader(dataset=train_data,  # the training data to make it iterable\n",
        "                              batch_size=BATCH_SIZE, # how many samples per batch\n",
        "                              shuffle=True) # everyday I am shuffling\n",
        "\n",
        "\n",
        "\n",
        "test_dataloader = DataLoader(dataset=test_data, batch_size=BATCH_SIZE, shuffle=False) # we don't have to shuffle the test data\n",
        "\n",
        "\n",
        "\n",
        "train_dataloader, test_dataloader"
      ],
      "metadata": {
        "colab": {
          "base_uri": "https://localhost:8080/"
        },
        "id": "k8m8yDLUi05r",
        "outputId": "8d5fa29a-1b03-41a2-fc33-c6fe635a19c4"
      },
      "execution_count": 13,
      "outputs": [
        {
          "output_type": "execute_result",
          "data": {
            "text/plain": [
              "(<torch.utils.data.dataloader.DataLoader at 0x7ad136627550>,\n",
              " <torch.utils.data.dataloader.DataLoader at 0x7ad1341e7e10>)"
            ]
          },
          "metadata": {},
          "execution_count": 13
        }
      ]
    },
    {
      "cell_type": "code",
      "source": [
        "print(f\"Length of train dataloader: {len(train_dataloader)} batches of {BATCH_SIZE}\")\n",
        "print(f\"Length of test dataloader: {len(test_dataloader)} batches of {BATCH_SIZE}\")"
      ],
      "metadata": {
        "colab": {
          "base_uri": "https://localhost:8080/"
        },
        "id": "CcfyYBoGks8g",
        "outputId": "c36b6725-05fe-421c-c8e1-e953fe168b6b"
      },
      "execution_count": 14,
      "outputs": [
        {
          "output_type": "stream",
          "name": "stdout",
          "text": [
            "Length of train dataloader: 1875 batches of 32\n",
            "Length of test dataloader: 313 batches of 32\n"
          ]
        }
      ]
    },
    {
      "cell_type": "code",
      "source": [
        "print(1875*32, 312*32, 313*32)"
      ],
      "metadata": {
        "colab": {
          "base_uri": "https://localhost:8080/"
        },
        "id": "HN3HcJOslHms",
        "outputId": "bc18b376-4e9e-4ea5-fa80-40353e175c65"
      },
      "execution_count": 15,
      "outputs": [
        {
          "output_type": "stream",
          "name": "stdout",
          "text": [
            "60000 9984 10016\n"
          ]
        }
      ]
    },
    {
      "cell_type": "code",
      "source": [
        "# what's inside\n",
        "\n",
        "train_features_batch, train_labels_batch = next(iter(train_dataloader))\n",
        "train_features_batch.shape, train_labels_batch.shape"
      ],
      "metadata": {
        "colab": {
          "base_uri": "https://localhost:8080/"
        },
        "id": "ST1j8C7RlLUo",
        "outputId": "f21baf74-e055-495a-d569-52230b494439"
      },
      "execution_count": 16,
      "outputs": [
        {
          "output_type": "execute_result",
          "data": {
            "text/plain": [
              "(torch.Size([32, 1, 28, 28]), torch.Size([32]))"
            ]
          },
          "metadata": {},
          "execution_count": 16
        }
      ]
    },
    {
      "cell_type": "markdown",
      "source": [
        "and we can see that data remains unchanged"
      ],
      "metadata": {
        "id": "5_-1BDYZlptG"
      }
    },
    {
      "cell_type": "code",
      "source": [
        "torch.manual_seed(135)\n",
        "\n",
        "random_idx = torch.randint(0,len(train_features_batch), size = [1]).item()\n",
        "\n",
        "image, label = train_features_batch[random_idx], train_labels_batch[random_idx]\n",
        "\n",
        "plt.imshow(image.squeeze(), cmap=\"gray\")\n",
        "plt.title(class_name[label])\n",
        "\n",
        "print(f\"Image shape: {image.shape}\")\n",
        "print(f\"Label: {label}\")"
      ],
      "metadata": {
        "colab": {
          "base_uri": "https://localhost:8080/",
          "height": 488
        },
        "id": "AgkQEGG7ljOn",
        "outputId": "5fa2e9ea-696d-47b5-ff19-21398a76a57e"
      },
      "execution_count": 17,
      "outputs": [
        {
          "output_type": "stream",
          "name": "stdout",
          "text": [
            "Image shape: torch.Size([1, 28, 28])\n",
            "Label: 6\n"
          ]
        },
        {
          "output_type": "display_data",
          "data": {
            "text/plain": [
              "<Figure size 640x480 with 1 Axes>"
            ],
            "image/png": "[encoded data removed]"
          },
          "metadata": {}
        }
      ]
    },
    {
      "cell_type": "markdown",
      "source": [
        "### **Building a Baseline model**"
      ],
      "metadata": {
        "id": "n3DXtgOpmJMy"
      }
    },
    {
      "cell_type": "markdown",
      "source": [
        "We build a baseline model using `nn.Module`, it's the simplest model we can imagine, we use this as a starting point and then improve upon it with subsequent and more complicated models.  The baseline model will be two `nn.Linear()` layers, and since we are working with image data, we will have to flatten the data using `nn.Flatten()` layer"
      ],
      "metadata": {
        "id": "iAtwzcyzmMLW"
      }
    },
    {
      "cell_type": "code",
      "source": [
        "flatten_model = nn.Flatten()\n",
        "\n",
        "# let's take one sample\n",
        "x = train_features_batch[0]\n",
        "\n",
        "# flatten it\n",
        "output = flatten_model(x)\n",
        "\n",
        "print(f\"Shape before flatten: {x.shape} -> [color_channels, height, width]\")\n",
        "print(f\"Shape after flatten: {output.shape}-> [color_channels, height*width\")"
      ],
      "metadata": {
        "colab": {
          "base_uri": "https://localhost:8080/"
        },
        "id": "i2SsyXSBl_-x",
        "outputId": "487a976e-8a5b-47bc-e415-02b71dc0ffee"
      },
      "execution_count": 18,
      "outputs": [
        {
          "output_type": "stream",
          "name": "stdout",
          "text": [
            "Shape before flatten: torch.Size([1, 28, 28]) -> [color_channels, height, width]\n",
            "Shape after flatten: torch.Size([1, 784])-> [color_channels, height*width\n"
          ]
        }
      ]
    },
    {
      "cell_type": "markdown",
      "source": [
        "We turn the pixel ddata from height and width dimensions into one long feature vector, and `nn.Linear()` layers likes their input to be feature vectors."
      ],
      "metadata": {
        "id": "iAEveoTKniCh"
      }
    },
    {
      "cell_type": "code",
      "source": [
        "class FashionMNISTModelv0(nn.Module):\n",
        "  def __init__(self,input_shape: int, hidden_units: int, output_shape: int):\n",
        "    super().__init__()\n",
        "    self.layer_stack = nn.Sequential(\n",
        "        nn.Flatten(),\n",
        "        nn.Linear(in_features=input_shape, out_features=hidden_units),\n",
        "        nn.Linear(in_features=hidden_units, out_features=output_shape)\n",
        "    )\n",
        "\n",
        "\n",
        "  def forward(self,x):\n",
        "    return self.layer_stack(x)\n",
        "\n"
      ],
      "metadata": {
        "id": "jPYg-t-InfGw"
      },
      "execution_count": 19,
      "outputs": []
    },
    {
      "cell_type": "markdown",
      "source": [
        "- `input_shape = 784` : Why? These are the features going into our model, it's every pixel in the target image( 28 pixels high by 28 pixels wide = 784 features)\n",
        "\n",
        "- `hidden_units=10` : Number of units/neurons in the hidden layers, this number can be anything\n",
        "\n",
        "- `output_shape = len(class_name)` : Since we are working with a multi-class classification problem, we need one neuron per class"
      ],
      "metadata": {
        "id": "bEvOYy6UoRo8"
      }
    },
    {
      "cell_type": "code",
      "source": [
        "torch.manual_seed(135)\n",
        "\n",
        "\n",
        "model_v0 = FashionMNISTModelv0(input_shape=784, hidden_units=20, output_shape=len(class_name))\n",
        "model_v0.to(\"cpu\")\n",
        "\n"
      ],
      "metadata": {
        "colab": {
          "base_uri": "https://localhost:8080/"
        },
        "id": "qyxHOVFhoD87",
        "outputId": "29d057d7-c049-4658-e3e0-f4356ee69148"
      },
      "execution_count": 20,
      "outputs": [
        {
          "output_type": "execute_result",
          "data": {
            "text/plain": [
              "FashionMNISTModelv0(\n",
              "  (layer_stack): Sequential(\n",
              "    (0): Flatten(start_dim=1, end_dim=-1)\n",
              "    (1): Linear(in_features=784, out_features=20, bias=True)\n",
              "    (2): Linear(in_features=20, out_features=10, bias=True)\n",
              "  )\n",
              ")"
            ]
          },
          "metadata": {},
          "execution_count": 20
        }
      ]
    },
    {
      "cell_type": "markdown",
      "source": [
        "#### Setup loss, optimizer and evaluation metrics"
      ],
      "metadata": {
        "id": "rKt9ietQpFdi"
      }
    },
    {
      "cell_type": "markdown",
      "source": [
        "Let's bring back our `helper_functions`"
      ],
      "metadata": {
        "id": "BaBRb5HxpIgi"
      }
    },
    {
      "cell_type": "code",
      "source": [
        "### Helper function\n",
        "\n",
        "\"\"\"\n",
        "A series of helper functions used throughout the course.\n",
        "\n",
        "If a function gets defined once and could be used over and over, it'll go in here.\n",
        "\"\"\"\n",
        "import torch\n",
        "import matplotlib.pyplot as plt\n",
        "import numpy as np\n",
        "\n",
        "from torch import nn\n",
        "\n",
        "import os\n",
        "import zipfile\n",
        "\n",
        "from pathlib import Path\n",
        "\n",
        "import requests\n",
        "\n",
        "# Walk through an image classification directory and find out how many files (images)\n",
        "# are in each subdirectory.\n",
        "import os\n",
        "\n",
        "def walk_through_dir(dir_path):\n",
        "    \"\"\"\n",
        "    Walks through dir_path returning its contents.\n",
        "    Args:\n",
        "    dir_path (str): target directory\n",
        "\n",
        "    Returns:\n",
        "    A print out of:\n",
        "      number of subdiretories in dir_path\n",
        "      number of images (files) in each subdirectory\n",
        "      name of each subdirectory\n",
        "    \"\"\"\n",
        "    for dirpath, dirnames, filenames in os.walk(dir_path):\n",
        "        print(f\"There are {len(dirnames)} directories and {len(filenames)} images in '{dirpath}'.\")\n",
        "\n",
        "def plot_decision_boundary(model: torch.nn.Module, X: torch.Tensor, y: torch.Tensor):\n",
        "    \"\"\"Plots decision boundaries of model predicting on X in comparison to y.\n",
        "\n",
        "    Source - https://madewithml.com/courses/foundations/neural-networks/ (with modifications)\n",
        "    \"\"\"\n",
        "    # Put everything to CPU (works better with NumPy + Matplotlib)\n",
        "    model.to(\"cpu\")\n",
        "    X, y = X.to(\"cpu\"), y.to(\"cpu\")\n",
        "\n",
        "    # Setup prediction boundaries and grid\n",
        "    x_min, x_max = X[:, 0].min() - 0.1, X[:, 0].max() + 0.1\n",
        "    y_min, y_max = X[:, 1].min() - 0.1, X[:, 1].max() + 0.1\n",
        "    xx, yy = np.meshgrid(np.linspace(x_min, x_max, 101), np.linspace(y_min, y_max, 101))\n",
        "\n",
        "    # Make features\n",
        "    # Adjusted to handle multi-dimensional input by taking only the first two features for plotting\n",
        "    X_to_pred_on = torch.from_numpy(np.column_stack((xx.ravel(), yy.ravel()))).float()\n",
        "\n",
        "    # Determine the number of input features expected by the model\n",
        "    try:\n",
        "        # Try accessing in_features for models with a linear_layer_stack (like BlobModelv1)\n",
        "        in_features = model.linear_layer_stack[0].in_features\n",
        "    except AttributeError:\n",
        "        try:\n",
        "            # If linear_layer_stack is not found, assume it's a Sequential model\n",
        "            # and access the in_features of the first layer directly\n",
        "             in_features = model[0].in_features\n",
        "        except TypeError:\n",
        "            # If it's a custom model with layers as attributes (like CircleModelv1)\n",
        "            in_features = model.layer_1.in_features\n",
        "\n",
        "\n",
        "    # Make predictions\n",
        "    model.eval()\n",
        "    with torch.inference_mode():\n",
        "        # Pass only the first two features to the model if the model expects 2 features\n",
        "        # Otherwise, pass the original X_to_pred_on (which will fail if model expects > 2 features)\n",
        "        if in_features == 2:\n",
        "            y_logits = model(X_to_pred_on)\n",
        "        else:\n",
        "             # For models with more than 2 input features, we can't directly plot the decision boundary in 2D.\n",
        "             # Let's predict on the original X data for visualization purposes.\n",
        "             y_logits = model(X[:, :in_features])\n",
        "\n",
        "\n",
        "    # Test for multi-class or binary and adjust logits to prediction labels\n",
        "    if len(torch.unique(y)) > 2:\n",
        "        y_pred = torch.softmax(y_logits, dim=1).argmax(dim=1)  # mutli-class\n",
        "    else:\n",
        "        y_pred = torch.round(torch.sigmoid(y_logits))  # binary\n",
        "\n",
        "    # Reshape preds and plot\n",
        "    # Need to handle cases where y_pred is not reshaped due to predicting on original X\n",
        "    if y_pred.shape[0] == xx.ravel().shape[0]:\n",
        "        y_pred = y_pred.reshape(xx.shape).detach().numpy()\n",
        "        plt.contourf(xx, yy, y_pred, cmap=plt.cm.RdYlBu, alpha=0.7)\n",
        "        plt.scatter(X[:, 0], X[:, 1], c=y, s=40, cmap=plt.cm.RdYlBu)\n",
        "        plt.xlim(xx.min(), xx.max())\n",
        "        plt.ylim(yy.min(), yy.max())\n",
        "    else:\n",
        "        # If we predicted on the original X, just plot the scatter points with predictions\n",
        "        plt.scatter(X[:, 0], X[:, 1], c=y_pred, s=40, cmap=plt.cm.RdYlBu)\n",
        "\n",
        "\n",
        "# Plot linear data or training and test and predictions (optional)\n",
        "def plot_predictions(\n",
        "    train_data, train_labels, test_data, test_labels, predictions=None\n",
        "):\n",
        "    \"\"\"\n",
        "  Plots linear training data and test data and compares predictions.\n",
        "  \"\"\"\n",
        "    plt.figure(figsize=(10, 7))\n",
        "\n",
        "    # Plot training data in blue\n",
        "    plt.scatter(train_data, train_labels, c=\"b\", s=4, label=\"Training data\")\n",
        "\n",
        "    # Plot test data in green\n",
        "    plt.scatter(test_data, test_labels, c=\"g\", s=4, label=\"Testing data\")\n",
        "\n",
        "    if predictions is not None:\n",
        "        # Plot the predictions in red (predictions were made on the test data)\n",
        "        plt.scatter(test_data, predictions, c=\"r\", s=4, label=\"Predictions\")\n",
        "\n",
        "    # Show the legend\n",
        "    plt.legend(prop={\"size\": 14})\n",
        "\n",
        "\n",
        "# Calculate accuracy (a classification metric)\n",
        "def accuracy_fn(y_true, y_pred):\n",
        "    \"\"\"Calculates accuracy between truth labels and predictions.\n",
        "\n",
        "    Args:\n",
        "        y_true (torch.Tensor): Truth labels for predictions.\n",
        "        y_pred (torch.Tensor): Predictions to be compared to predictions.\n",
        "\n",
        "    Returns:\n",
        "        [torch.float]: Accuracy value between y_true and y_pred, e.g. 78.45\n",
        "    \"\"\"\n",
        "    correct = torch.eq(y_true, y_pred).sum().item()\n",
        "    acc = (correct / len(y_pred)) * 100\n",
        "    return acc\n",
        "\n",
        "\n",
        "def print_train_time(start, end, device=None):\n",
        "    \"\"\"Prints difference between start and end time.\n",
        "\n",
        "    Args:\n",
        "        start (float): Start time of computation (preferred in timeit format).\n",
        "        end (float): End time of computation.\n",
        "        device ([type], optional): Device that compute is running on. Defaults to None.\n",
        "\n",
        "    Returns:\n",
        "        float: time between start and end in seconds (higher is longer).\n",
        "    \"\"\"\n",
        "    total_time = end - start\n",
        "    print(f\"\\nTrain time on {device}: {total_time:.3f} seconds\")\n",
        "    return total_time\n",
        "\n",
        "\n",
        "# Plot loss curves of a model\n",
        "def plot_loss_curves(results):\n",
        "    \"\"\"Plots training curves of a results dictionary.\n",
        "\n",
        "    Args:\n",
        "        results (dict): dictionary containing list of values, e.g.\n",
        "            {\"train_loss\": [...],\n",
        "             \"train_acc\": [...],\n",
        "             \"test_loss\": [...],\n",
        "             \"test_acc\": [...]}\n",
        "    \"\"\"\n",
        "    loss = results[\"train_loss\"]\n",
        "    test_loss = results[\"test_loss\"]\n",
        "\n",
        "    accuracy = results[\"train_acc\"]\n",
        "    test_accuracy = results[\"test_acc\"]\n",
        "\n",
        "    epochs = range(len(results[\"train_loss\"]))\n",
        "\n",
        "    plt.figure(figsize=(15, 7))\n",
        "\n",
        "    # Plot loss\n",
        "    plt.subplot(1, 2, 1)\n",
        "    plt.plot(epochs, loss, label=\"train_loss\")\n",
        "    plt.plot(epochs, test_loss, label=\"test_loss\")\n",
        "    plt.title(\"Loss\")\n",
        "    plt.xlabel(\"Epochs\")\n",
        "    plt.legend()\n",
        "\n",
        "    # Plot accuracy\n",
        "    plt.subplot(1, 2, 2)\n",
        "    plt.plot(epochs, accuracy, label=\"train_accuracy\")\n",
        "    plt.plot(epochs, test_accuracy, label=\"test_accuracy\")\n",
        "    plt.title(\"Accuracy\")\n",
        "    plt.xlabel(\"Epochs\")\n",
        "    plt.legend()\n",
        "\n",
        "\n",
        "# Pred and plot image function from notebook 04\n",
        "# See creation: https://www.learnpytorch.io/04_pytorch_custom_datasets/#113-putting-custom-image-prediction-together-building-a-function\n",
        "from typing import List\n",
        "import torchvision\n",
        "\n",
        "\n",
        "def pred_and_plot_image(\n",
        "    model: torch.nn.Module,\n",
        "    image_path: str,\n",
        "    class_names: List[str] = None,\n",
        "    transform=None,\n",
        "    device: torch.device = \"cuda\" if torch.cuda.is_available() else \"cpu\",\n",
        "):\n",
        "    \"\"\"Makes a prediction on a target image with a trained model and plots the image.\n",
        "\n",
        "    Args:\n",
        "        model (torch.nn.Module): trained PyTorch image classification model.\n",
        "        image_path (str): filepath to target image.\n",
        "        class_names (List[str], optional): different class names for target image. Defaults to None.\n",
        "        transform (_type_, optional): transform of target image. Defaults to None.\n",
        "        device (torch.device, optional): target device to compute on. Defaults to \"cuda\" if torch.cuda.is_available() else \"cpu\".\n",
        "\n",
        "    Returns:\n",
        "        Matplotlib plot of target image and model prediction as title.\n",
        "\n",
        "    Example usage:\n",
        "        pred_and_plot_image(model=model,\n",
        "                            image=\"some_image.jpeg\",\n",
        "                            class_names=[\"class_1\", \"class_2\", \"class_3\"],\n",
        "                            transform=torchvision.transforms.ToTensor(),\n",
        "                            device=device)\n",
        "    \"\"\"\n",
        "\n",
        "    # 1. Load in image and convert the tensor values to float32\n",
        "    target_image = torchvision.io.read_image(str(image_path)).type(torch.float32)\n",
        "\n",
        "    # 2. Divide the image pixel values by 255 to get them between [0, 1]\n",
        "    target_image = target_image / 255.0\n",
        "\n",
        "    # 3. Transform if necessary\n",
        "    if transform:\n",
        "        target_image = transform(target_image)\n",
        "\n",
        "    # 4. Make sure the model is on the target device\n",
        "    model.to(device)\n",
        "\n",
        "    # 5. Turn on model evaluation mode and inference mode\n",
        "    model.eval()\n",
        "    with torch.inference_mode():\n",
        "        # Add an extra dimension to the image\n",
        "        target_image = target_image.unsqueeze(dim=0)\n",
        "\n",
        "        # Make a prediction on image with an extra dimension and send it to the target device\n",
        "        target_image_pred = model(target_image.to(device))\n",
        "\n",
        "    # 6. Convert logits -> prediction probabilities (using torch.softmax() for multi-class classification)\n",
        "    target_image_pred_probs = torch.softmax(target_image_pred, dim=1)\n",
        "\n",
        "    # 7. Convert prediction probabilities -> prediction labels\n",
        "    target_image_pred_label = torch.argmax(target_image_pred_probs, dim=1)\n",
        "\n",
        "    # 8. Plot the image alongside the prediction and prediction probability\n",
        "    plt.imshow(\n",
        "        target_image.squeeze().permute(1, 2, 0)\n",
        "    )  # make sure it's the right size for matplotlib\n",
        "    if class_names:\n",
        "        title = f\"Pred: {class_names[target_image_pred_label.cpu()]} | Prob: {target_image_pred_probs.max().cpu():.3f}\"\n",
        "    else:\n",
        "        title = f\"Pred: {target_image_pred_label} | Prob: {target_image_pred_probs.max().cpu():.3f}\"\n",
        "    plt.title(title)\n",
        "    plt.axis(False)\n",
        "\n",
        "def set_seeds(seed: int=42):\n",
        "    \"\"\"Sets random sets for torch operations.\n",
        "\n",
        "    Args:\n",
        "        seed (int, optional): Random seed to set. Defaults to 42.\n",
        "    \"\"\"\n",
        "    # Set the seed for general torch operations\n",
        "    torch.manual_seed(seed)\n",
        "    # Set the seed for CUDA torch operations (ones that happen on the GPU)\n",
        "    torch.cuda.manual_seed(seed)\n",
        "\n",
        "def download_data(source: str,\n",
        "                  destination: str,\n",
        "                  remove_source: bool = True) -> Path:\n",
        "    \"\"\"Downloads a zipped dataset from source and unzips to destination.\n",
        "\n",
        "    Args:\n",
        "        source (str): A link to a zipped file containing data.\n",
        "        destination (str): A target directory to unzip data to.\n",
        "        remove_source (bool): Whether to remove the source after downloading and extracting.\n",
        "\n",
        "    Returns:\n",
        "        pathlib.Path to downloaded data.\n",
        "\n",
        "    Example usage:\n",
        "        download_data(source=\"https://github.com/mrdbourke/pytorch-deep-learning/raw/main/data/pizza_steak_sushi.zip\",\n",
        "                      destination=\"pizza_steak_sushi\")\n",
        "    \"\"\"\n",
        "    # Setup path to data folder\n",
        "    data_path = Path(\"data/\")\n",
        "    image_path = data_path / destination\n",
        "\n",
        "    # If the image folder doesn't exist, download it and prepare it...\n",
        "    if image_path.is_dir():\n",
        "        print(f\"[INFO] {image_path} directory exists, skipping download.\")\n",
        "    else:\n",
        "        print(f\"[INFO] Did not find {image_path} directory, creating one...\")\n",
        "        image_path.mkdir(parents=True, exist_ok=True)\n",
        "\n",
        "        # Download pizza, steak, sushi data\n",
        "        target_file = Path(source).name\n",
        "        with open(data_path / target_file, \"wb\") as f:\n",
        "            request = requests.get(source)\n",
        "            print(f\"[INFO] Downloading {target_file} from {source}...\")\n",
        "            f.write(request.content)\n",
        "\n",
        "        # Unzip pizza, steak, sushi data\n",
        "        with zipfile.ZipFile(data_path / target_file, \"r\") as zip_ref:\n",
        "            print(f\"[INFO] Unzipping {target_file} data...\")\n",
        "            zip_ref.extractall(image_path)\n",
        "\n",
        "        # Remove .zip file\n",
        "        if remove_source:\n",
        "            os.remove(data_path / target_file)\n",
        "\n",
        "    return image_path"
      ],
      "metadata": {
        "id": "I40nj_o7pDcQ"
      },
      "execution_count": 21,
      "outputs": []
    },
    {
      "cell_type": "code",
      "source": [
        "loss_fn = nn.CrossEntropyLoss()\n",
        "\n",
        "optimizer = torch.optim.SGD(params=model_v0.parameters(), lr = 0.2)"
      ],
      "metadata": {
        "id": "OqrV5le8pVEv"
      },
      "execution_count": 22,
      "outputs": []
    },
    {
      "cell_type": "markdown",
      "source": [
        "### Time our experiments"
      ],
      "metadata": {
        "id": "tDa1gZpSpiad"
      }
    },
    {
      "cell_type": "markdown",
      "source": [
        "Let's compare the time it takes for CPU to train as compared to GPU to train"
      ],
      "metadata": {
        "id": "sTn1j3ptpkYN"
      }
    },
    {
      "cell_type": "code",
      "source": [
        "from timeit import default_timer as timer\n",
        "\n",
        "def print_train_time(start:float, end:float, device: torch.device = None):\n",
        "\n",
        "  total_time = end - start\n",
        "  print(f\"Train time on {device}: {end-start:.3f} seconds\")\n",
        "\n",
        "  return total_time"
      ],
      "metadata": {
        "id": "s9nvdiVypgdt"
      },
      "execution_count": 23,
      "outputs": []
    },
    {
      "cell_type": "markdown",
      "source": [
        "### **Training Loop**"
      ],
      "metadata": {
        "id": "rMNd7DfhqBrK"
      }
    },
    {
      "cell_type": "markdown",
      "source": [
        "Let's create a training loop and a testing loop to evaluate our model. Our batches are contained within `DataLoader`, `train_dataloader` and `test_dataloader` for training and testing data splits.\n",
        "\n",
        "And since we are computing on batches of data, our loss and evaluation metrics will be calculated per batch, rather than the whole dataset.\n",
        "\n",
        "\n",
        "This means we have to divide our loss and accuracy values by the number of batches in each dataset's respective dataloader.\n",
        "\n",
        "\n",
        "- Loop through epochs\n",
        "  - Loop through training batches, performing training steps, calculate the train loss per batch\n",
        "  - Loop through teseting batches, perform testing steps, calculate the test loss per batch\n",
        "- print out what's happening\n",
        "= time it all"
      ],
      "metadata": {
        "id": "QxV992Q9qL6a"
      }
    },
    {
      "cell_type": "code",
      "source": [
        "from tqdm.auto import tqdm\n",
        "\n",
        "# random seed\n",
        "torch.manual_seed(135)\n",
        "\n",
        "train_time_start_on_cpu = timer()\n",
        "epochs = 5\n",
        "\n",
        "for epoch in tqdm(range(epochs)):\n",
        "    print(f\"Epoch: {epoch}\\n---------\")\n",
        "\n",
        "    ### Training\n",
        "    model_v0.train()\n",
        "    train_loss = 0.0\n",
        "\n",
        "    for batch, (X, y) in enumerate(train_dataloader):\n",
        "        y_pred = model_v0(X)\n",
        "        loss   = loss_fn(y_pred, y)\n",
        "        train_loss += loss.item()\n",
        "\n",
        "        optimizer.zero_grad()\n",
        "        loss.backward()\n",
        "        optimizer.step()\n",
        "\n",
        "        if batch % 400 == 0:\n",
        "            seen = batch * X.size(0)\n",
        "            total = len(train_dataloader.dataset)\n",
        "            print(f\"Looked at {seen}/{total} samples\")\n",
        "\n",
        "    train_loss /= len(train_dataloader)\n",
        "\n",
        "    ### Testing\n",
        "    model_v0.eval()\n",
        "    test_loss, test_acc = 0.0, 0.0\n",
        "\n",
        "    with torch.inference_mode():\n",
        "        for X, y in test_dataloader:\n",
        "            test_pred = model_v0(X)\n",
        "            test_loss += loss_fn(test_pred, y).item()\n",
        "            test_acc  += accuracy_fn(y_true=y,\n",
        "                                     y_pred=test_pred.argmax(dim=1))\n",
        "\n",
        "    test_loss /= len(test_dataloader)\n",
        "    test_acc  /= len(test_dataloader)\n",
        "\n",
        "    print(f\"\\nTrain loss: {train_loss:.5f} | \"\n",
        "          f\"Test loss: {test_loss:.5f}, \"\n",
        "          f\"Test acc: {test_acc:.2f}%\\n\")\n",
        "\n",
        "train_time_end_on_cpu = timer()\n",
        "total_train_time_model_0 = print_train_time(\n",
        "    start=train_time_start_on_cpu,\n",
        "    end=train_time_end_on_cpu,\n",
        "    device=str(next(model_v0.parameters()).device)\n",
        ")\n"
      ],
      "metadata": {
        "colab": {
          "base_uri": "https://localhost:8080/",
          "height": 960,
          "referenced_widgets": [
            "68f4a34925ad4e88b064a3c84756d573",
            "c1d0a4b504f9483caa10c1c30801af0f",
            "39ecc142675446229ce0a9434598f1af",
            "e871846b64fd42abbfed629c43529d18",
            "3b8a4f61baf040f6a5042f0a741d3490",
            "b2a9a2b2f8db408a80567b16aa73ce5c",
            "1f6b474f8c0742efbe02c9448db2e9d4",
            "4ad35cbe6adf47d1b3d74d645a08af8b",
            "c0869063ba2b41c3b73e6e9683011329",
            "8b5667a08a6e4d1eaef2ac4e9d242e5c",
            "66fcbbb3c327450dba81712995dbea5f"
          ]
        },
        "id": "g_8Gx8FKv4it",
        "outputId": "a555c40e-ec1d-4bf3-b57e-9910f2cf89e6"
      },
      "execution_count": 24,
      "outputs": [
        {
          "output_type": "display_data",
          "data": {
            "text/plain": [
              "  0%|          | 0/5 [00:00<?, ?it/s]"
            ],
            "application/vnd.jupyter.widget-view+json": {
              "version_major": 2,
              "version_minor": 0,
              "model_id": "68f4a34925ad4e88b064a3c84756d573"
            }
          },
          "metadata": {}
        },
        {
          "output_type": "stream",
          "name": "stdout",
          "text": [
            "Epoch: 0\n",
            "---------\n",
            "Looked at 0/60000 samples\n",
            "Looked at 12800/60000 samples\n",
            "Looked at 25600/60000 samples\n",
            "Looked at 38400/60000 samples\n",
            "Looked at 51200/60000 samples\n",
            "\n",
            "Train loss: 0.61488 | Test loss: 0.56004, Test acc: 80.14%\n",
            "\n",
            "Epoch: 1\n",
            "---------\n",
            "Looked at 0/60000 samples\n",
            "Looked at 12800/60000 samples\n",
            "Looked at 25600/60000 samples\n",
            "Looked at 38400/60000 samples\n",
            "Looked at 51200/60000 samples\n",
            "\n",
            "Train loss: 0.51101 | Test loss: 0.52961, Test acc: 80.33%\n",
            "\n",
            "Epoch: 2\n",
            "---------\n",
            "Looked at 0/60000 samples\n",
            "Looked at 12800/60000 samples\n",
            "Looked at 25600/60000 samples\n",
            "Looked at 38400/60000 samples\n",
            "Looked at 51200/60000 samples\n",
            "\n",
            "Train loss: 0.63866 | Test loss: 0.48728, Test acc: 83.02%\n",
            "\n",
            "Epoch: 3\n",
            "---------\n",
            "Looked at 0/60000 samples\n",
            "Looked at 12800/60000 samples\n",
            "Looked at 25600/60000 samples\n",
            "Looked at 38400/60000 samples\n",
            "Looked at 51200/60000 samples\n",
            "\n",
            "Train loss: 0.48409 | Test loss: 0.48928, Test acc: 82.77%\n",
            "\n",
            "Epoch: 4\n",
            "---------\n",
            "Looked at 0/60000 samples\n",
            "Looked at 12800/60000 samples\n",
            "Looked at 25600/60000 samples\n",
            "Looked at 38400/60000 samples\n",
            "Looked at 51200/60000 samples\n",
            "\n",
            "Train loss: 0.47523 | Test loss: 0.48554, Test acc: 83.10%\n",
            "\n",
            "Train time on cpu: 42.852 seconds\n"
          ]
        }
      ]
    },
    {
      "cell_type": "markdown",
      "source": [
        "#### Debugging"
      ],
      "metadata": {
        "id": "Jwnv4qf5v8Uf"
      }
    },
    {
      "cell_type": "code",
      "source": [
        "# torch.manual_seed(135)\n",
        "# epochs = 5\n",
        "\n",
        "# # turn on anomaly detection to pinpoint bad ops\n",
        "# torch.autograd.set_detect_anomaly(True)\n",
        "\n",
        "# for epoch in tqdm(range(epochs)):\n",
        "#     print(f\"Epoch: {epoch}\\n---------\")\n",
        "\n",
        "#     model_v0.train()\n",
        "#     train_loss = 0.0\n",
        "\n",
        "#     for batch, (X, y) in enumerate(train_dataloader):\n",
        "#         # -- DEBUG the very first batch --\n",
        "#         if epoch == 0 and batch == 0:\n",
        "#             print(\"⚠️  Debug batch 0  ⚠️\")\n",
        "#             print(\"  X dtype:\", X.dtype,\n",
        "#                   \"| min:\", X.min().item(),\n",
        "#                   \"| max:\", X.max().item(),\n",
        "#                   \"| mean:\", X.float().mean().item())\n",
        "#             out = model_v0(X)\n",
        "#             print(\"  out min:\", out.min().item(),\n",
        "#                   \"| max:\", out.max().item(),\n",
        "#                   \"| any NaN?\", torch.isnan(out).any().item())\n",
        "#         # ---------------------------------\n",
        "\n",
        "#         optimizer.zero_grad()\n",
        "#         y_pred = model_v0(X)\n",
        "#         loss   = loss_fn(y_pred, y)\n",
        "\n",
        "#         # check if loss is already NaN\n",
        "#         if torch.isnan(loss):\n",
        "#             raise RuntimeError(f\"❌ NaN loss at epoch {epoch}, batch {batch}\")\n",
        "\n",
        "#         loss.backward()\n",
        "#         # optional gradient clipping\n",
        "#         torch.nn.utils.clip_grad_norm_(model_v0.parameters(), 1.0)\n",
        "#         optimizer.step()\n",
        "\n",
        "#         train_loss += loss.item()\n",
        "\n",
        "#         if batch % 400 == 0:\n",
        "#             seen = batch * X.size(0)\n",
        "#             total = len(train_dataloader.dataset)\n",
        "#             print(f\"Looked at {seen}/{total} samples\")\n",
        "\n",
        "#     train_loss /= len(train_dataloader)\n",
        "\n",
        "#     # Testing (make sure to .item() your test_loss too)\n",
        "#     model_v0.eval()\n",
        "#     test_loss, test_acc = 0.0, 0.0\n",
        "#     with torch.inference_mode():\n",
        "#         for X, y in test_dataloader:\n",
        "#             test_pred = model_v0(X)\n",
        "#             test_loss += loss_fn(test_pred, y).item()\n",
        "#             test_acc  += accuracy_fn(y_true=y,\n",
        "#                                      y_pred=test_pred.argmax(dim=1))\n",
        "#     test_loss /= len(test_dataloader)\n",
        "#     test_acc  /= len(test_dataloader)\n",
        "\n",
        "#     print(f\"\\nTrain loss: {train_loss:.5f} | \"\n",
        "#           f\"Test loss: {test_loss:.5f}, \"\n",
        "#           f\"Test acc: {test_acc:.2f}%\\n\")"
      ],
      "metadata": {
        "id": "s2Sc4S4Bp9D6"
      },
      "execution_count": 25,
      "outputs": []
    },
    {
      "cell_type": "code",
      "source": [
        "# nan_layers = []\n",
        "\n",
        "# def find_nan_hook(module, inp, out):\n",
        "#     if torch.isnan(out).any():\n",
        "#         nan_layers.append((module, out))\n",
        "\n",
        "# # register hooks\n",
        "# handles = []\n",
        "# for module in model_v0.modules():\n",
        "#     handles.append(module.register_forward_hook(find_nan_hook))\n",
        "\n",
        "# # run one batch to trigger the hooks\n",
        "# X, _ = next(iter(train_dataloader))\n",
        "# model_v0.train()\n",
        "# _ = model_v0(X)\n",
        "\n",
        "# # remove hooks\n",
        "# for h in handles:\n",
        "#     h.remove()\n",
        "\n",
        "# # report\n",
        "# if nan_layers:\n",
        "#     print(\"⚠️ NaNs found in these modules (in order):\")\n",
        "#     for module, out in nan_layers:\n",
        "#         print(f\" - {module.__class__.__name__}\")\n",
        "# else:\n",
        "#     print(\"No NaNs detected by hooks. Weird…\")\n"
      ],
      "metadata": {
        "id": "JXhiodl0rIzB"
      },
      "execution_count": 26,
      "outputs": []
    },
    {
      "cell_type": "markdown",
      "source": [
        "### Making Predictions"
      ],
      "metadata": {
        "id": "0SbMrvJRv-_c"
      }
    },
    {
      "cell_type": "markdown",
      "source": [
        "It's good idea to write some code to evaluate the models. Since we are going to build a few models, it's a good idea to write some code to evaluate them all in similar ways.\n",
        "\n",
        "\n",
        "We will make a function that takes in a trained model, a `DataLoader`, a loss function and an accuracy function. This function will use the model to make predictions on the data in the `DataLoader` and then we can evaluate those predictions using the loss function and accuracy function"
      ],
      "metadata": {
        "id": "TMaX_aw8wKvS"
      }
    },
    {
      "cell_type": "code",
      "source": [
        "torch.manual_seed(135)\n",
        "def eval_model(model: torch.nn.Module,\n",
        "               data_loader: torch.utils.data.DataLoader,\n",
        "               loss_func: torch.nn.Module,\n",
        "               accuracy_fn):\n",
        "\n",
        "\n",
        "  \"\"\"\n",
        "  Returns a dictionary containing the results of model predicting on data_loader.\n",
        "\n",
        "  Args:\n",
        "    model (torch.nn.Module): A trained (or untrained) PyTorch capable of making predicitons\n",
        "    data_loader (torch.utils.data.DataLoader): The target dataset to prediction on\n",
        "    loss_func (torch.nn.Module): The loss function of model\n",
        "    accuracy_fn: An accuracy function to compare the models predicitons\n",
        "\n",
        "  Returns:\n",
        "    (dict): Results of model making predictions on data_loader\n",
        "  \"\"\"\n",
        "\n",
        "\n",
        "  loss, acc = 0,0\n",
        "\n",
        "  model.eval()  # evaluate the model\n",
        "\n",
        "  with torch.inference_mode():\n",
        "    for X, y in data_loader:\n",
        "      y_pred = model(X)  # make the predictions\n",
        "      loss += loss_func(y_pred, y) # aacumulate the loss\n",
        "\n",
        "      acc += accuracy_fn(y_true=y, y_pred=y_pred.argmax(dim=1)) # accumulate the accuracy\n",
        "\n",
        "\n",
        "    # scale the loss and accuracy to find the average loss/acc per batch\n",
        "    loss /= len(data_loader)\n",
        "    acc /= len(data_loader)\n",
        "\n",
        "\n",
        "\n",
        "  return {\"model_name\": model.__class__.__name__,\n",
        "          \"model_loss\": loss.item(),\n",
        "          \"model_acc\": acc}\n",
        "\n",
        "\n"
      ],
      "metadata": {
        "id": "QepngySLvcq3"
      },
      "execution_count": 27,
      "outputs": []
    },
    {
      "cell_type": "code",
      "source": [
        "# let's test for model 0\n",
        "\n",
        "model_v0_results = eval_model(model=model_v0,\n",
        "                              data_loader=test_dataloader,\n",
        "                              loss_func=loss_fn,\n",
        "                              accuracy_fn=accuracy_fn)\n",
        "\n",
        "model_v0_results"
      ],
      "metadata": {
        "colab": {
          "base_uri": "https://localhost:8080/"
        },
        "id": "6DsJJaboh0z7",
        "outputId": "8785a56a-3dfd-48b8-e3ad-e4869f98fe01"
      },
      "execution_count": 28,
      "outputs": [
        {
          "output_type": "execute_result",
          "data": {
            "text/plain": [
              "{'model_name': 'FashionMNISTModelv0',\n",
              " 'model_loss': 0.4855427145957947,\n",
              " 'model_acc': 83.09704472843451}"
            ]
          },
          "metadata": {},
          "execution_count": 28
        }
      ]
    },
    {
      "cell_type": "markdown",
      "source": [
        "Works fine, now we can make use of this function to evaluate"
      ],
      "metadata": {
        "id": "NzikM455iHvF"
      }
    },
    {
      "cell_type": "markdown",
      "source": [
        "#### Device Agnostic Code"
      ],
      "metadata": {
        "id": "nafaS-SEiLja"
      }
    },
    {
      "cell_type": "markdown",
      "source": [
        "We know how much does it takes for CPU to train the model, now let's make the code device agnostic and test on GPU"
      ],
      "metadata": {
        "id": "MS2cE8WliNxE"
      }
    },
    {
      "cell_type": "code",
      "source": [
        "\n",
        "device = \"cuda\" if torch.cuda.is_available() else \"cpu\"\n",
        "device"
      ],
      "metadata": {
        "colab": {
          "base_uri": "https://localhost:8080/",
          "height": 35
        },
        "id": "zbW2jaeoh7ks",
        "outputId": "257a5570-2d54-463c-ffda-d240ee2ef59f"
      },
      "execution_count": 29,
      "outputs": [
        {
          "output_type": "execute_result",
          "data": {
            "text/plain": [
              "'cuda'"
            ],
            "application/vnd.google.colaboratory.intrinsic+json": {
              "type": "string"
            }
          },
          "metadata": {},
          "execution_count": 29
        }
      ]
    },
    {
      "cell_type": "markdown",
      "source": [
        "### **Better Model with Non-Linearity**"
      ],
      "metadata": {
        "id": "YO4DiQ40ib4C"
      }
    },
    {
      "cell_type": "markdown",
      "source": [
        "We know that non-linear model worked better in the previous tutorials, seeing the data, do you think we need non-linear functions?\n",
        "\n",
        "let's test this"
      ],
      "metadata": {
        "id": "55ttlkV4iesT"
      }
    },
    {
      "cell_type": "code",
      "source": [
        "# a non-linear model\n",
        "class FashionMNISTModelv1(nn.Module):\n",
        "  def __init__(self, input_shape: int, hidden_units: int, output_shape: int):\n",
        "    super().__init__()\n",
        "\n",
        "    self.layer_stack = nn.Sequential(\n",
        "        nn.Flatten(), # flatten the input into a single vector\n",
        "        nn.Linear(in_features=input_shape, out_features=hidden_units),\n",
        "        nn.ReLU(),\n",
        "        nn.Linear(in_features=hidden_units, out_features=output_shape),\n",
        "        nn.ReLU()\n",
        "    )\n",
        "\n",
        "\n",
        "  def forward(self, x:torch.Tensor):\n",
        "    return self.layer_stack(x)"
      ],
      "metadata": {
        "id": "IVx2e6tiiZ0q"
      },
      "execution_count": 30,
      "outputs": []
    },
    {
      "cell_type": "markdown",
      "source": [
        "Follow the same steps we did for the `FashionMNISTModelv0` and let's see"
      ],
      "metadata": {
        "id": "4BNgBmDzjBy9"
      }
    },
    {
      "cell_type": "code",
      "source": [
        "torch.manual_seed(135)\n",
        "\n",
        "model_v1 = FashionMNISTModelv1(input_shape=784,\n",
        "                               hidden_units=20,\n",
        "                               output_shape=len(class_name)).to(device)\n",
        "\n",
        "\n",
        "next(model_v1.parameters()).device # check the model device"
      ],
      "metadata": {
        "colab": {
          "base_uri": "https://localhost:8080/"
        },
        "id": "lN6Ht3jPi_Ic",
        "outputId": "d7bf6e6f-705c-4d71-e2d3-37d382c2ff45"
      },
      "execution_count": 31,
      "outputs": [
        {
          "output_type": "execute_result",
          "data": {
            "text/plain": [
              "device(type='cuda', index=0)"
            ]
          },
          "metadata": {},
          "execution_count": 31
        }
      ]
    },
    {
      "cell_type": "markdown",
      "source": [
        "### Loss and Optimizer"
      ],
      "metadata": {
        "id": "P-ewTfX-jYYk"
      }
    },
    {
      "cell_type": "code",
      "source": [
        "loss_func = nn.CrossEntropyLoss()\n",
        "optimizer = torch.optim.SGD(params=model_v1.parameters(), lr=0.1)"
      ],
      "metadata": {
        "id": "eYLgQOJejXfd"
      },
      "execution_count": 32,
      "outputs": []
    },
    {
      "cell_type": "markdown",
      "source": [
        "### **Training and Testing Loops**"
      ],
      "metadata": {
        "id": "2_2d5WiAje70"
      }
    },
    {
      "cell_type": "markdown",
      "source": [
        "As we did with the above function, we will also functionize these loops, so that they can be called over and over again. Since we are using device agnostic code, make sure to add `.to(device)` wherever necessary"
      ],
      "metadata": {
        "id": "KjTMqZVnjiJ9"
      }
    },
    {
      "cell_type": "code",
      "source": [
        "def train_step(model: torch.nn.Module, # the pytorch model\n",
        "               data_loader: torch.utils.data.DataLoader, # the trainin and tesintg data\n",
        "               loss_func : torch.nn.Module,\n",
        "               optimizer: torch.optim.Optimizer,\n",
        "               accuracy_fn,\n",
        "               device: torch.device = device):\n",
        "\n",
        "  train_loss, train_acc = 0,0\n",
        "\n",
        "  model.to(device) # shift the model to device\n",
        "\n",
        "  for batch, (X,y) in enumerate(data_loader):\n",
        "    # send the data to GPU\n",
        "    X,y = X.to(device), y.to(device)\n",
        "\n",
        "\n",
        "    # forward pass\n",
        "    y_pred = model(X)\n",
        "\n",
        "    # loss calculation\n",
        "\n",
        "    loss = loss_fn(y_pred, y)\n",
        "    train_loss += loss\n",
        "\n",
        "    # accuracy calculation\n",
        "    train_acc += accuracy_fn(y_true=y, y_pred=y_pred.argmax(dim=1))\n",
        "\n",
        "\n",
        "    # optimizer zero grad\n",
        "    optimizer.zero_grad()\n",
        "\n",
        "\n",
        "    # loss backward\n",
        "    loss.backward()\n",
        "\n",
        "    # optimizer step\n",
        "    optimizer.step()\n",
        "\n",
        "  train_loss /= len(data_loader)\n",
        "  train_acc /= len(data_loader)\n",
        "\n",
        "\n",
        "  print(f\"Train Loss: {train_loss:.5f} | Train accuracy: {train_acc:.2f}%\")\n",
        "\n",
        "\n",
        "def test_step(data_loader: torch.utils.data.DataLoader,\n",
        "              model: torch.nn.Module,\n",
        "              loss_func : torch.nn.Module,\n",
        "              accuracy_fn,\n",
        "              device : torch.device = device):\n",
        "\n",
        "\n",
        "  test_loss, test_acc = 0,0\n",
        "  model.to(device)\n",
        "\n",
        "  model.eval()\n",
        "\n",
        "\n",
        "  # turn on inference\n",
        "  with torch.inference_mode():\n",
        "    for X,y in data_loader:\n",
        "      X, y = X.to(device), y.to(device)\n",
        "\n",
        "      test_pred = model(X)\n",
        "\n",
        "      test_loss += loss_func(test_pred,y)\n",
        "      test_acc += accuracy_fn(y_true=y, y_pred=test_pred.argmax(dim=1))\n",
        "\n",
        "    test_loss /= len(data_loader)\n",
        "    test_acc /= len(data_loader)\n",
        "\n",
        "\n",
        "    print(f\"Test Loss: {test_loss:.5f} | Test accuracy: {test_acc:.2f}%\")"
      ],
      "metadata": {
        "id": "KsNxE_Zvjd8c"
      },
      "execution_count": 33,
      "outputs": []
    },
    {
      "cell_type": "markdown",
      "source": [
        "These functions will run under another `for` loop over the `epochs`"
      ],
      "metadata": {
        "id": "YJSqZMx3lUgH"
      }
    },
    {
      "cell_type": "code",
      "source": [
        "torch.manual_seed(135)\n",
        "\n",
        "# measure time\n",
        "from timeit import default_timer as timer\n",
        "\n",
        "train_time_start_on_gpu = timer()\n",
        "\n",
        "epochs = 5\n",
        "\n",
        "for epoch in tqdm(range(epochs)):\n",
        "  print(f\"Epoch: {epoch}\\n---------\")\n",
        "\n",
        "  train_step(data_loader=train_dataloader,\n",
        "             model = model_v1,\n",
        "             loss_func=loss_func,\n",
        "             optimizer=optimizer,\n",
        "             accuracy_fn=accuracy_fn\n",
        "             )\n",
        "\n",
        "  test_step(data_loader=test_dataloader,\n",
        "            model = model_v1,\n",
        "            loss_func=loss_func,\n",
        "            accuracy_fn=accuracy_fn)\n",
        "\n",
        "\n",
        "train_time_end_on_gpu = timer()\n",
        "\n",
        "total_train_time_model_1 = print_train_time(\n",
        "    start=train_time_start_on_gpu,\n",
        "    end=train_time_end_on_gpu, device=device)"
      ],
      "metadata": {
        "colab": {
          "base_uri": "https://localhost:8080/",
          "height": 424,
          "referenced_widgets": [
            "67429615769249f6893ac80203cc134a",
            "4f560a0e71364986bdb471720ac8ab31",
            "e9ee770495de4026bbc9e131bbdce1e8",
            "4b846b0bc152421ca8fa8733ea4c9ff4",
            "21843cd45a0c47d38a7190cd613d41ac",
            "e37b577b819e450ca62f4a3e84bc0b3a",
            "5158a7bb974a46ffb485c9b3e5cb13d9",
            "2558e39a726544548a4d5fce35f9586e",
            "b808be9d04534d93b31d12243344c8b8",
            "c2adef89de224d47bc92087ab128e722",
            "b2b749b4f31f4240ad31f7676950cb28"
          ]
        },
        "id": "ZM731KZilSJv",
        "outputId": "9b408d80-ae18-4189-cdf7-09df47f042f0"
      },
      "execution_count": 34,
      "outputs": [
        {
          "output_type": "display_data",
          "data": {
            "text/plain": [
              "  0%|          | 0/5 [00:00<?, ?it/s]"
            ],
            "application/vnd.jupyter.widget-view+json": {
              "version_major": 2,
              "version_minor": 0,
              "model_id": "67429615769249f6893ac80203cc134a"
            }
          },
          "metadata": {}
        },
        {
          "output_type": "stream",
          "name": "stdout",
          "text": [
            "Epoch: 0\n",
            "---------\n",
            "Train Loss: 0.75943 | Train accuracy: 74.79%\n",
            "Test Loss: 0.51203 | Test accuracy: 82.06%\n",
            "Epoch: 1\n",
            "---------\n",
            "Train Loss: 0.44555 | Train accuracy: 84.16%\n",
            "Test Loss: 0.47168 | Test accuracy: 82.51%\n",
            "Epoch: 2\n",
            "---------\n",
            "Train Loss: 0.40758 | Train accuracy: 85.24%\n",
            "Test Loss: 0.41731 | Test accuracy: 85.13%\n",
            "Epoch: 3\n",
            "---------\n",
            "Train Loss: 0.38825 | Train accuracy: 85.98%\n",
            "Test Loss: 0.40486 | Test accuracy: 85.51%\n",
            "Epoch: 4\n",
            "---------\n",
            "Train Loss: 0.37648 | Train accuracy: 86.22%\n",
            "Test Loss: 0.41785 | Test accuracy: 85.18%\n",
            "Train time on cuda: 47.184 seconds\n"
          ]
        }
      ]
    },
    {
      "cell_type": "markdown",
      "source": [
        "Sometimes the dataset we are working with is so small, that the benefits of using a GPU are outweighed by the time it actually takes to transfer the data there. There's a small bottleneck between copying data from the CPU memory to the GPY memory"
      ],
      "metadata": {
        "id": "cnwTK6MMmO2a"
      }
    },
    {
      "cell_type": "markdown",
      "source": [
        "Let's evaluate our trained model `model_v1` using `eval_mode()`, but before that, keep in mind that the data and model are set up using device agnostic code, but not the evaluation function, so update it before running"
      ],
      "metadata": {
        "id": "nZJi2wIJmiFf"
      }
    },
    {
      "cell_type": "code",
      "source": [
        "torch.manual_seed(135)\n",
        "def eval_model(model: torch.nn.Module,\n",
        "               data_loader: torch.utils.data.DataLoader,\n",
        "               loss_func: torch.nn.Module,\n",
        "               accuracy_fn,\n",
        "               device : torch.device = device):\n",
        "\n",
        "\n",
        "  \"\"\"\n",
        "  Returns a dictionary containing the results of model predicting on data_loader.\n",
        "\n",
        "  Args:\n",
        "    model (torch.nn.Module): A trained (or untrained) PyTorch capable of making predicitons\n",
        "    data_loader (torch.utils.data.DataLoader): The target dataset to prediction on\n",
        "    loss_func (torch.nn.Module): The loss function of model\n",
        "    accuracy_fn: An accuracy function to compare the models predicitons\n",
        "\n",
        "  Returns:\n",
        "    (dict): Results of model making predictions on data_loader\n",
        "  \"\"\"\n",
        "\n",
        "\n",
        "  loss, acc = 0,0\n",
        "\n",
        "  model.eval()  # evaluate the model\n",
        "\n",
        "  with torch.inference_mode():\n",
        "    for X, y in data_loader:\n",
        "\n",
        "      X, y = X.to(device), y.to(device)\n",
        "      y_pred = model(X)  # make the predictions\n",
        "      loss += loss_func(y_pred, y) # aacumulate the loss\n",
        "\n",
        "      acc += accuracy_fn(y_true=y, y_pred=y_pred.argmax(dim=1)) # accumulate the accuracy\n",
        "\n",
        "\n",
        "    # scale the loss and accuracy to find the average loss/acc per batch\n",
        "    loss /= len(data_loader)\n",
        "    acc /= len(data_loader)\n",
        "\n",
        "\n",
        "\n",
        "  return {\"model_name\": model.__class__.__name__,\n",
        "          \"model_loss\": loss.item(),\n",
        "          \"model_acc\": acc}\n",
        "\n",
        "\n"
      ],
      "metadata": {
        "id": "efKThx0emIgP"
      },
      "execution_count": 35,
      "outputs": []
    },
    {
      "cell_type": "code",
      "source": [
        "model_v1_results = eval_model(model=model_v1,\n",
        "                              data_loader=test_dataloader,\n",
        "                              loss_func=loss_func,\n",
        "                              accuracy_fn=accuracy_fn)\n",
        "\n",
        "model_v1_results"
      ],
      "metadata": {
        "colab": {
          "base_uri": "https://localhost:8080/"
        },
        "id": "pdiI18EvnAvB",
        "outputId": "0b5e5d36-3bd9-4787-c9b6-1f70c4004abc"
      },
      "execution_count": 36,
      "outputs": [
        {
          "output_type": "execute_result",
          "data": {
            "text/plain": [
              "{'model_name': 'FashionMNISTModelv1',\n",
              " 'model_loss': 0.417849600315094,\n",
              " 'model_acc': 85.18370607028754}"
            ]
          },
          "metadata": {},
          "execution_count": 36
        }
      ]
    },
    {
      "cell_type": "code",
      "source": [
        "model_v0_results"
      ],
      "metadata": {
        "colab": {
          "base_uri": "https://localhost:8080/"
        },
        "id": "OiRxdJ3UnDL_",
        "outputId": "3829f12f-3ecb-4923-e81c-1b1287876e37"
      },
      "execution_count": 37,
      "outputs": [
        {
          "output_type": "execute_result",
          "data": {
            "text/plain": [
              "{'model_name': 'FashionMNISTModelv0',\n",
              " 'model_loss': 0.4855427145957947,\n",
              " 'model_acc': 83.09704472843451}"
            ]
          },
          "metadata": {},
          "execution_count": 37
        }
      ]
    },
    {
      "cell_type": "markdown",
      "source": [
        "So adding non-linearities, make it better but just slightly. So now, let's try a different model.\n"
      ],
      "metadata": {
        "id": "uUC2areinMJ4"
      }
    },
    {
      "cell_type": "markdown",
      "source": [
        "### **Convolutional Neural Network (CNN)**"
      ],
      "metadata": {
        "id": "HC3YaAxunW52"
      }
    },
    {
      "cell_type": "markdown",
      "source": [
        "CNN's are known for their capabilities to find patterns in visual data. It follows the following structure:\n",
        "\n",
        "`Input Layer -> [Convolutional layer -> Activation Layer -> Pooling Layer] -> Output Layer`\n",
        "\n",
        "\n",
        "We will make use of the `nn.Conv2d()` and `nn.MaxPool2d()` layers from `torch.nn`"
      ],
      "metadata": {
        "id": "E7rMYmp4neWp"
      }
    },
    {
      "cell_type": "code",
      "source": [
        "# the making of CNNs\n",
        "class FashionMNISTModelv2(nn.Module):\n",
        "  def __init__(self, input_shape: int, hidden_units: int, output_shape: int):\n",
        "    super().__init__()\n",
        "\n",
        "    self.block_1 = nn.Sequential(\n",
        "        nn.Conv2d(in_channels=input_shape,\n",
        "                  out_channels=hidden_units,\n",
        "                  kernel_size=3,  # how big is the matrix going over bigger matrix (watch 3b1b on CNNs)\n",
        "                  stride=1, # how many pixels the convolutional kernel moves\n",
        "                  padding=1),  # adds extra border pixels (usually zeros) around the input, to preserve the origianl input size\n",
        "\n",
        "        nn.ReLU(),\n",
        "        nn.Conv2d(in_channels=hidden_units,\n",
        "                  out_channels=hidden_units,\n",
        "                  kernel_size=3,\n",
        "                  stride =1,\n",
        "                  padding=1),\n",
        "        nn.ReLU(),\n",
        "        nn.MaxPool2d(kernel_size=2,\n",
        "                     stride=2))\n",
        "\n",
        "    self.block_2 = nn.Sequential(\n",
        "        nn.Conv2d(in_channels=hidden_units,\n",
        "                  out_channels=hidden_units,\n",
        "                  kernel_size=3,\n",
        "                  padding=1),\n",
        "        nn.ReLU(),\n",
        "        nn.MaxPool2d(kernel_size=2,\n",
        "                     stride=2))\n",
        "\n",
        "\n",
        "    self.classifier = nn.Sequential(\n",
        "        nn.Flatten(),\n",
        "        nn.Linear(in_features=hidden_units*7*7, # It's because each layer of our network compresses and changes the shape of our input data.\n",
        "                  out_features=output_shape)\n",
        "    )\n",
        "\n",
        "\n",
        "  def forward(self, x: torch.Tensor):\n",
        "    x = self.block_1(x)\n",
        "    x = self.block_2(x)\n",
        "    x = self.classifier(x)\n",
        "\n",
        "    return x\n"
      ],
      "metadata": {
        "id": "BZ9QDkONnGJ_"
      },
      "execution_count": 38,
      "outputs": []
    },
    {
      "cell_type": "markdown",
      "source": [
        "For a convolution layer (2D) the output size is given by\n",
        "\n",
        "$$ \\text{Output Size } = \\bigg \\lfloor \\frac{\\text{Input Size} - \\text{Kernel Size}} {\\text{Stride}}     \\bigg \\rfloor + 1$$\n",
        "\n",
        "with `padding=1` it stays 28x28, because input becomes 30x30\n",
        "\n"
      ],
      "metadata": {
        "id": "UOUDw68VqtU8"
      }
    },
    {
      "cell_type": "code",
      "source": [
        "torch.manual_seed(135)\n",
        "\n",
        "model_v2 = FashionMNISTModelv2(input_shape=1,\n",
        "                               hidden_units=10,\n",
        "                               output_shape=len(class_name)).to(device)\n",
        "\n",
        "\n",
        "next(model_v2.parameters()).device # check the model device\n",
        "\n",
        "print(model_v2)"
      ],
      "metadata": {
        "colab": {
          "base_uri": "https://localhost:8080/"
        },
        "id": "ErFG3FtqpPoo",
        "outputId": "9b692f6a-bb87-41a9-f296-fc7b9b5f29c4"
      },
      "execution_count": 39,
      "outputs": [
        {
          "output_type": "stream",
          "name": "stdout",
          "text": [
            "FashionMNISTModelv2(\n",
            "  (block_1): Sequential(\n",
            "    (0): Conv2d(1, 10, kernel_size=(3, 3), stride=(1, 1), padding=(1, 1))\n",
            "    (1): ReLU()\n",
            "    (2): Conv2d(10, 10, kernel_size=(3, 3), stride=(1, 1), padding=(1, 1))\n",
            "    (3): ReLU()\n",
            "    (4): MaxPool2d(kernel_size=2, stride=2, padding=0, dilation=1, ceil_mode=False)\n",
            "  )\n",
            "  (block_2): Sequential(\n",
            "    (0): Conv2d(10, 10, kernel_size=(3, 3), stride=(1, 1), padding=(1, 1))\n",
            "    (1): ReLU()\n",
            "    (2): MaxPool2d(kernel_size=2, stride=2, padding=0, dilation=1, ceil_mode=False)\n",
            "  )\n",
            "  (classifier): Sequential(\n",
            "    (0): Flatten(start_dim=1, end_dim=-1)\n",
            "    (1): Linear(in_features=490, out_features=10, bias=True)\n",
            "  )\n",
            ")\n"
          ]
        }
      ]
    },
    {
      "cell_type": "markdown",
      "source": [
        "It's always a nice practice to try and replicate a model architecture via code\n"
      ],
      "metadata": {
        "id": "MRUsyNTxpbHu"
      }
    },
    {
      "cell_type": "markdown",
      "source": [
        "#### Stepping through `nn.Conv2d()`"
      ],
      "metadata": {
        "id": "K5MxxZuSrsRm"
      }
    },
    {
      "cell_type": "markdown",
      "source": [
        "1. `nn.Conv2D` also known as the convolutional layer, it applies a set of learnable filters (also called kernels) to a 2D image.\n",
        "\n",
        "Each filter:\n",
        "\n",
        "- Slides over the image.\n",
        "\n",
        "- Computes a dot product between the filter values and the image patch it covers.\n",
        "\n",
        "- Outputs a feature map that highlights specific patterns (like edges, textures, etc).\n",
        "\n",
        "\n",
        "\n",
        "2.  `nn.MaxPool2D` , also known as the max pooling layer, it downsamples the input , it reduces the size by taking the maximum value in each region of the image. It's like sliding a window over the input and keeping only the strongest (max) signal in each area.\n",
        "\n",
        "\n",
        "\n",
        "\n",
        "The 2d is for 2-dimensional data, since our image has two dimensions: height and width, there's also `conv1d` and `conv3d`"
      ],
      "metadata": {
        "id": "Do67eZAdrzUq"
      }
    },
    {
      "cell_type": "markdown",
      "source": [
        "Let's test the layers out:"
      ],
      "metadata": {
        "id": "zX1TPO30ss6T"
      }
    },
    {
      "cell_type": "code",
      "source": [
        "torch.manual_seed(135)\n",
        "\n",
        "images = torch.randn(size=(32,3,64,64)) # [batch_size, color_channels, height, width]\n",
        "\n",
        "test_image = images[0]\n",
        "\n",
        "\n",
        "print(f\"Image batch shape: {images.shape} -> [batch_size, color_channels, height, width]\")\n",
        "print(f\"Single image shape: {test_image.shape} -> [color_channels, height, width]\")\n",
        "print(f\"Single image pixel values:\\n{test_image}\")"
      ],
      "metadata": {
        "colab": {
          "base_uri": "https://localhost:8080/"
        },
        "id": "_kPjf1BWpVSz",
        "outputId": "82d2ca90-b19d-46ec-d3fe-f45ed73ec487"
      },
      "execution_count": 40,
      "outputs": [
        {
          "output_type": "stream",
          "name": "stdout",
          "text": [
            "Image batch shape: torch.Size([32, 3, 64, 64]) -> [batch_size, color_channels, height, width]\n",
            "Single image shape: torch.Size([3, 64, 64]) -> [color_channels, height, width]\n",
            "Single image pixel values:\n",
            "tensor([[[ 0.1277,  1.1594, -1.0206,  ...,  0.9525, -1.5272,  2.4421],\n",
            "         [ 0.1822, -1.0965,  0.1642,  ..., -0.2833, -0.7560,  0.0431],\n",
            "         [-0.9963, -0.7028, -0.2889,  ...,  0.8351,  0.0160,  0.8791],\n",
            "         ...,\n",
            "         [-0.9209,  0.8534, -2.5593,  ..., -0.6133, -0.1741,  1.1659],\n",
            "         [-0.5114, -1.1489,  0.1461,  ...,  3.1705,  1.1335, -0.3697],\n",
            "         [-0.0568, -1.1377, -0.7434,  ..., -0.6021, -0.1900, -0.2692]],\n",
            "\n",
            "        [[-0.8142,  0.9763, -1.0701,  ...,  0.0077, -0.1819,  1.1646],\n",
            "         [-0.7183, -0.6856, -1.4575,  ...,  0.3723, -0.8010,  0.4456],\n",
            "         [-0.8617,  0.7792,  0.4704,  ..., -0.0372, -0.7195,  0.9829],\n",
            "         ...,\n",
            "         [-0.4196,  0.9519,  0.8312,  ...,  1.5692, -0.7693, -0.2562],\n",
            "         [-1.4646,  0.0912,  0.0058,  ..., -1.3299, -0.1682,  0.9198],\n",
            "         [-1.3860, -0.9569,  0.1773,  ...,  0.2512,  0.1517, -0.7070]],\n",
            "\n",
            "        [[-0.9351, -1.3295, -1.4718,  ..., -0.8285, -0.8769, -0.6827],\n",
            "         [ 1.4701,  1.5115,  0.7018,  ...,  0.1553,  0.5098, -1.1067],\n",
            "         [ 1.3485,  0.0943,  0.1548,  ..., -0.5366,  0.1747, -0.1117],\n",
            "         ...,\n",
            "         [-0.1007, -0.3564,  0.3873,  ..., -0.2114,  2.1354, -1.4241],\n",
            "         [-0.3098,  1.1323,  1.0489,  ..., -0.1093,  0.4096,  0.7757],\n",
            "         [-0.3248, -0.2178,  0.7625,  ...,  0.0878,  0.8572, -0.7336]]])\n"
          ]
        }
      ]
    },
    {
      "cell_type": "markdown",
      "source": [
        "Let's create an example `nn.Conv2d()` with various parameters\n",
        "\n",
        "- `in_channels` (int) - Number of channels in the input image\n",
        "- `out_channels` (int) - Number of channels produced by the convolution\n",
        "- `kernel_size` (int or tuple) - Size of the convolving kernel\n",
        "- `stride` (int or tuple) - How big of a step the convolving kernel takes at a time\n",
        "- `padding` (int, tuple, str) - Padding added to all four sides of input"
      ],
      "metadata": {
        "id": "gEVRzzm2uomr"
      }
    },
    {
      "cell_type": "markdown",
      "source": [
        "![Conv2D Layer GIF](https://raw.githubusercontent.com/mrdbourke/pytorch-deep-learning/main/images/03-conv2d-layer.gif)\n"
      ],
      "metadata": {
        "id": "raXfLO9BvHsz"
      }
    },
    {
      "cell_type": "markdown",
      "source": [
        "Gif from [Learn PyTorch](learnpytorch.io)"
      ],
      "metadata": {
        "id": "In_XZ0b9vU-T"
      }
    },
    {
      "cell_type": "markdown",
      "source": [
        "Let's see what happens when we change the hyperparameters of a `nn.Conv2d`"
      ],
      "metadata": {
        "id": "myR4vNDAvcm0"
      }
    },
    {
      "cell_type": "code",
      "source": [
        "conv_layer = nn.Conv2d(in_channels=3,\n",
        "                       out_channels=10,\n",
        "                       kernel_size=3,\n",
        "                       stride=1,\n",
        "                       padding=0)\n",
        "\n",
        "\n",
        "# Add extra dimension to test image\n",
        "print(f\"Test Image shape before: {test_image.unsqueeze(dim=0).shape}\")\n",
        "\n",
        "\n",
        "\n",
        "print(f\"Test Image shape after: {conv_layer(test_image.unsqueeze(dim=0)).shape}\")"
      ],
      "metadata": {
        "colab": {
          "base_uri": "https://localhost:8080/"
        },
        "id": "TwPWzK_Gs-KJ",
        "outputId": "d80326c6-2e42-47c9-955a-1de3439e3def"
      },
      "execution_count": 41,
      "outputs": [
        {
          "output_type": "stream",
          "name": "stdout",
          "text": [
            "Test Image shape before: torch.Size([1, 3, 64, 64])\n",
            "Test Image shape after: torch.Size([1, 10, 62, 62])\n"
          ]
        }
      ]
    },
    {
      "cell_type": "markdown",
      "source": [
        "What if we change the values of `conv_layer`?"
      ],
      "metadata": {
        "id": "kOBNIT-iwMgo"
      }
    },
    {
      "cell_type": "code",
      "source": [
        "conv_layer_2 = nn.Conv2d(in_channels=3,\n",
        "                       out_channels=10,\n",
        "                       kernel_size=(5,5),\n",
        "                       stride=2,\n",
        "                       padding=0)"
      ],
      "metadata": {
        "id": "XM5E2s2dvo2N"
      },
      "execution_count": 42,
      "outputs": []
    },
    {
      "cell_type": "code",
      "source": [
        "# Add extra dimension to test image\n",
        "print(f\"Test Image shape before: {test_image.unsqueeze(dim=0).shape}\")\n",
        "\n",
        "\n",
        "\n",
        "print(f\"Test Image shape after conv layer 1: {conv_layer(test_image.unsqueeze(dim=0)).shape}\")\n",
        "\n",
        "print(f\"Test Image shape after conv layer 2: {conv_layer_2(test_image.unsqueeze(dim=0)).shape}\")"
      ],
      "metadata": {
        "colab": {
          "base_uri": "https://localhost:8080/"
        },
        "id": "GCyOGByJwYhN",
        "outputId": "0897eec0-e998-44fa-c858-b38f368e49e3"
      },
      "execution_count": 43,
      "outputs": [
        {
          "output_type": "stream",
          "name": "stdout",
          "text": [
            "Test Image shape before: torch.Size([1, 3, 64, 64])\n",
            "Test Image shape after conv layer 1: torch.Size([1, 10, 62, 62])\n",
            "Test Image shape after conv layer 2: torch.Size([1, 10, 30, 30])\n"
          ]
        }
      ]
    },
    {
      "cell_type": "markdown",
      "source": [
        "Behind the scenes, our `nn.Conv2d` is compressing the information stored in the image. it does this by performing operations on the input against its internal parameters"
      ],
      "metadata": {
        "id": "ukLkGAe-wki3"
      }
    },
    {
      "cell_type": "code",
      "source": [
        "print(conv_layer_2.state_dict())"
      ],
      "metadata": {
        "colab": {
          "base_uri": "https://localhost:8080/"
        },
        "id": "XRlv1jp9wf3c",
        "outputId": "c0c847aa-c323-4e95-80bc-389ab2fd7919"
      },
      "execution_count": 44,
      "outputs": [
        {
          "output_type": "stream",
          "name": "stdout",
          "text": [
            "OrderedDict([('weight', tensor([[[[ 0.1037,  0.0742,  0.0037, -0.0672, -0.0956],\n",
            "          [-0.0235, -0.0935,  0.1042,  0.0521, -0.0499],\n",
            "          [-0.1059, -0.0570,  0.0138, -0.0591, -0.0672],\n",
            "          [ 0.0104, -0.0818, -0.0058,  0.0430,  0.0485],\n",
            "          [-0.0707, -0.0679,  0.1136, -0.0827,  0.0224]],\n",
            "\n",
            "         [[ 0.1018, -0.0079, -0.0725, -0.1069, -0.1000],\n",
            "          [-0.0802,  0.1102, -0.0944, -0.0279, -0.0357],\n",
            "          [ 0.1021, -0.0454, -0.0304, -0.0878, -0.0282],\n",
            "          [-0.0239, -0.0891,  0.0494,  0.0433,  0.1029],\n",
            "          [ 0.0377, -0.0270,  0.0338, -0.0140,  0.0518]],\n",
            "\n",
            "         [[-0.0992,  0.0638,  0.1149, -0.0376,  0.0130],\n",
            "          [-0.0170,  0.1099,  0.0278,  0.0095,  0.0761],\n",
            "          [-0.0186,  0.0523, -0.1062,  0.0302,  0.0012],\n",
            "          [-0.0853, -0.1065, -0.0191, -0.0901,  0.0081],\n",
            "          [-0.0505,  0.1111, -0.0248, -0.0347, -0.0341]]],\n",
            "\n",
            "\n",
            "        [[[-0.1005,  0.0393,  0.0502, -0.0017, -0.0490],\n",
            "          [-0.0028,  0.0375, -0.0238, -0.0669,  0.0052],\n",
            "          [ 0.1099,  0.0557, -0.1149,  0.1051,  0.0423],\n",
            "          [ 0.0777,  0.0742,  0.0326, -0.0380, -0.0203],\n",
            "          [-0.0437,  0.0874,  0.0740, -0.0434, -0.0961]],\n",
            "\n",
            "         [[ 0.1013, -0.0194, -0.0712,  0.0322,  0.0092],\n",
            "          [ 0.0714,  0.0946, -0.0656, -0.0150,  0.0423],\n",
            "          [-0.0247, -0.0723,  0.0263,  0.0097, -0.0685],\n",
            "          [ 0.1002, -0.0027,  0.0961,  0.0992,  0.0922],\n",
            "          [ 0.0057,  0.0027, -0.0315,  0.0257, -0.0847]],\n",
            "\n",
            "         [[ 0.0051,  0.0908, -0.1071, -0.1142, -0.0560],\n",
            "          [-0.1127, -0.0921,  0.0121, -0.0380,  0.0793],\n",
            "          [-0.0499,  0.0888,  0.1128,  0.0319, -0.0517],\n",
            "          [-0.1054,  0.0959, -0.1018,  0.0151, -0.1100],\n",
            "          [-0.0138, -0.0304, -0.0011,  0.0478,  0.0575]]],\n",
            "\n",
            "\n",
            "        [[[ 0.0082,  0.1012,  0.0088,  0.0442, -0.0711],\n",
            "          [-0.1066,  0.0818, -0.0742, -0.1058, -0.0634],\n",
            "          [ 0.0857,  0.1025, -0.0524,  0.0539, -0.0008],\n",
            "          [-0.0497,  0.0205,  0.0089,  0.0893, -0.0369],\n",
            "          [ 0.0542,  0.0232,  0.0778, -0.0235, -0.0579]],\n",
            "\n",
            "         [[ 0.0695,  0.0261, -0.0772,  0.0844,  0.0109],\n",
            "          [-0.0206,  0.0371, -0.0408,  0.0044,  0.0027],\n",
            "          [-0.0065,  0.0448,  0.0056, -0.0966, -0.0019],\n",
            "          [-0.0073, -0.0505, -0.0680,  0.0554, -0.0870],\n",
            "          [-0.0399,  0.0805,  0.0697, -0.0997,  0.1052]],\n",
            "\n",
            "         [[ 0.0429, -0.0398, -0.0475, -0.0329,  0.0063],\n",
            "          [-0.0913, -0.0364, -0.0758, -0.0155,  0.0042],\n",
            "          [ 0.1090,  0.0445, -0.0181,  0.1028,  0.1033],\n",
            "          [-0.0941, -0.0887, -0.0169,  0.0273,  0.0827],\n",
            "          [-0.0932, -0.0693,  0.0186,  0.0314,  0.0223]]],\n",
            "\n",
            "\n",
            "        [[[ 0.0021, -0.0337, -0.0912,  0.1046,  0.0267],\n",
            "          [-0.0954, -0.0058, -0.0784, -0.0611, -0.0422],\n",
            "          [ 0.0404, -0.0151, -0.0880, -0.1114, -0.0745],\n",
            "          [ 0.0422, -0.0021, -0.0299, -0.0627, -0.0550],\n",
            "          [-0.0367,  0.0726,  0.0438,  0.0816,  0.0438]],\n",
            "\n",
            "         [[ 0.1050, -0.0450,  0.0331,  0.1138, -0.0518],\n",
            "          [-0.0989,  0.0339, -0.0565, -0.0356,  0.0006],\n",
            "          [-0.0905, -0.1039,  0.0139, -0.1111, -0.0773],\n",
            "          [ 0.0308, -0.1143, -0.0778,  0.0414,  0.0915],\n",
            "          [ 0.0193, -0.0959, -0.0887, -0.0545, -0.0798]],\n",
            "\n",
            "         [[-0.0152,  0.0490, -0.0693,  0.0889,  0.0047],\n",
            "          [-0.0503,  0.0364,  0.0157,  0.0665, -0.1036],\n",
            "          [-0.0470,  0.0604,  0.0428,  0.1020, -0.0669],\n",
            "          [-0.0551, -0.0061, -0.0321,  0.0282, -0.0039],\n",
            "          [-0.1005, -0.0678,  0.0088, -0.0596,  0.0840]]],\n",
            "\n",
            "\n",
            "        [[[-0.0664,  0.0913, -0.0759,  0.1111,  0.0459],\n",
            "          [-0.0612,  0.0490, -0.0469,  0.0990,  0.0775],\n",
            "          [-0.0593,  0.0621, -0.0129, -0.0487, -0.0100],\n",
            "          [-0.0694,  0.0721,  0.1033, -0.0224,  0.0595],\n",
            "          [-0.0008,  0.1058, -0.0678, -0.0216,  0.0015]],\n",
            "\n",
            "         [[ 0.0218, -0.0797, -0.0066,  0.1039, -0.0717],\n",
            "          [-0.0120,  0.0129, -0.0341, -0.0521,  0.1003],\n",
            "          [-0.0006,  0.1051, -0.0250,  0.0873,  0.0257],\n",
            "          [-0.0743,  0.0473,  0.1047,  0.0424,  0.1122],\n",
            "          [-0.0197,  0.0090, -0.0068,  0.0185,  0.0275]],\n",
            "\n",
            "         [[ 0.0447,  0.0595, -0.1110,  0.0601, -0.0050],\n",
            "          [-0.0285,  0.0772, -0.0508,  0.0088, -0.0908],\n",
            "          [ 0.0164,  0.0741,  0.1153, -0.0406,  0.1143],\n",
            "          [ 0.0413,  0.0963,  0.0856,  0.0447, -0.0005],\n",
            "          [-0.0686,  0.1114,  0.0638, -0.1009,  0.0190]]],\n",
            "\n",
            "\n",
            "        [[[-0.0256, -0.1032,  0.0018,  0.0781, -0.1076],\n",
            "          [-0.0133, -0.0936,  0.1144, -0.0535, -0.0893],\n",
            "          [-0.0448,  0.1042, -0.0379, -0.0559,  0.1030],\n",
            "          [-0.0809, -0.0123, -0.0695,  0.1003,  0.0922],\n",
            "          [-0.0441, -0.0309,  0.0936,  0.0355, -0.0412]],\n",
            "\n",
            "         [[ 0.0137,  0.0972,  0.0319,  0.1065,  0.0800],\n",
            "          [ 0.0253,  0.0330, -0.0705,  0.0058, -0.0074],\n",
            "          [-0.0326, -0.0005, -0.0116, -0.0583, -0.0233],\n",
            "          [-0.0225,  0.0881,  0.0879, -0.0023, -0.0155],\n",
            "          [ 0.0862,  0.1031, -0.1059, -0.0395, -0.0933]],\n",
            "\n",
            "         [[ 0.1036,  0.1017, -0.0451, -0.0504, -0.0204],\n",
            "          [ 0.1136,  0.0084,  0.0452,  0.0445, -0.0606],\n",
            "          [ 0.0354, -0.1058, -0.0728,  0.0500, -0.0996],\n",
            "          [-0.0815, -0.0361,  0.0216, -0.0081, -0.0827],\n",
            "          [-0.0914, -0.1031,  0.0707,  0.0588, -0.0130]]],\n",
            "\n",
            "\n",
            "        [[[ 0.0544, -0.0544,  0.0808, -0.0390,  0.0978],\n",
            "          [ 0.1130, -0.0539, -0.0327,  0.0254,  0.0192],\n",
            "          [ 0.0932,  0.1069,  0.0409,  0.0610, -0.0712],\n",
            "          [-0.0284, -0.0898,  0.0024, -0.0265, -0.0167],\n",
            "          [ 0.0887,  0.0643,  0.0690, -0.0388,  0.0805]],\n",
            "\n",
            "         [[-0.0757, -0.0993,  0.0795, -0.0140, -0.0728],\n",
            "          [-0.0258,  0.0133, -0.0487,  0.0241, -0.0142],\n",
            "          [ 0.0636, -0.0687,  0.0921,  0.0635, -0.1039],\n",
            "          [ 0.0845, -0.0949, -0.0422,  0.0105,  0.0890],\n",
            "          [ 0.0531, -0.0529, -0.0925, -0.1060, -0.0592]],\n",
            "\n",
            "         [[-0.0654,  0.0352,  0.1003, -0.0268,  0.0028],\n",
            "          [-0.0172, -0.0353,  0.0104,  0.0377, -0.0839],\n",
            "          [ 0.0898,  0.0026, -0.0074, -0.0122, -0.0438],\n",
            "          [-0.0639, -0.1019,  0.0742,  0.0102, -0.0927],\n",
            "          [-0.0250, -0.0378, -0.0943,  0.0956,  0.0322]]],\n",
            "\n",
            "\n",
            "        [[[ 0.1087, -0.0377, -0.0269,  0.0579,  0.0193],\n",
            "          [-0.0061, -0.0881, -0.0242, -0.0066,  0.0807],\n",
            "          [-0.1011,  0.0030,  0.0369,  0.0513, -0.0137],\n",
            "          [ 0.0281, -0.1008, -0.0343,  0.0095,  0.0297],\n",
            "          [-0.0976,  0.0151,  0.0942,  0.0197,  0.0562]],\n",
            "\n",
            "         [[-0.0897, -0.0151, -0.0323, -0.0848, -0.0394],\n",
            "          [-0.0710, -0.1021, -0.0290, -0.0033,  0.0372],\n",
            "          [-0.0733,  0.0319,  0.1101, -0.0169, -0.0694],\n",
            "          [-0.1041, -0.0574,  0.0770, -0.0188,  0.0888],\n",
            "          [-0.1123,  0.0888, -0.0967,  0.0807, -0.0492]],\n",
            "\n",
            "         [[-0.0272, -0.0126, -0.0624,  0.0195, -0.0186],\n",
            "          [ 0.1112, -0.0097,  0.0502, -0.0613, -0.0835],\n",
            "          [-0.0852, -0.0195, -0.0749,  0.0791, -0.0890],\n",
            "          [-0.0503, -0.0325,  0.0207,  0.0469,  0.0957],\n",
            "          [-0.1121,  0.0657,  0.0850, -0.0612, -0.0896]]],\n",
            "\n",
            "\n",
            "        [[[-0.0964,  0.0500,  0.1149,  0.0667, -0.0841],\n",
            "          [-0.0259,  0.0918,  0.0513, -0.0530, -0.0987],\n",
            "          [ 0.1037,  0.0604, -0.0298, -0.0229,  0.0997],\n",
            "          [-0.0114, -0.1028,  0.1016,  0.0987,  0.0357],\n",
            "          [ 0.0836,  0.0606,  0.0495, -0.0579, -0.0938]],\n",
            "\n",
            "         [[ 0.0462, -0.0230,  0.0727,  0.0636,  0.0247],\n",
            "          [-0.0536,  0.0654,  0.0070,  0.1095, -0.0790],\n",
            "          [ 0.0321, -0.0867,  0.0427,  0.0335,  0.1065],\n",
            "          [ 0.0114, -0.0881, -0.0120,  0.0872, -0.1015],\n",
            "          [-0.0265,  0.0009,  0.1133, -0.0709,  0.0004]],\n",
            "\n",
            "         [[ 0.1103, -0.0664, -0.0735, -0.0489, -0.1007],\n",
            "          [ 0.0540, -0.0940,  0.0763,  0.0170,  0.1005],\n",
            "          [-0.1072, -0.0972,  0.0254,  0.0434, -0.1153],\n",
            "          [-0.1119,  0.0300,  0.0403, -0.0769,  0.0411],\n",
            "          [ 0.0237,  0.0794,  0.0875,  0.0988, -0.0029]]],\n",
            "\n",
            "\n",
            "        [[[-0.0268, -0.0546, -0.0498,  0.0869,  0.0199],\n",
            "          [-0.0643,  0.0436,  0.0194,  0.0172,  0.0712],\n",
            "          [ 0.0599, -0.0493, -0.0510,  0.0117, -0.0501],\n",
            "          [ 0.0286, -0.0722,  0.0238, -0.0443,  0.0663],\n",
            "          [-0.0741, -0.0832, -0.0854,  0.0895,  0.0121]],\n",
            "\n",
            "         [[-0.0452,  0.0326,  0.0261,  0.1001, -0.0063],\n",
            "          [ 0.0851, -0.0186, -0.0690,  0.0999,  0.0913],\n",
            "          [ 0.0129, -0.0102,  0.0118,  0.0206, -0.0794],\n",
            "          [ 0.0669,  0.1154,  0.0065, -0.0924, -0.0955],\n",
            "          [-0.0326, -0.0388, -0.0204, -0.0813, -0.0936]],\n",
            "\n",
            "         [[ 0.0735, -0.0207, -0.0536, -0.0781, -0.0369],\n",
            "          [-0.0242,  0.0546,  0.0085,  0.0594, -0.0148],\n",
            "          [ 0.0707,  0.0257,  0.0039, -0.0599, -0.0859],\n",
            "          [ 0.0167,  0.1006,  0.0107, -0.0556, -0.0498],\n",
            "          [ 0.1000, -0.0101,  0.0538, -0.0908, -0.0322]]]])), ('bias', tensor([ 0.0247,  0.0370,  0.0654, -0.0363,  0.0981, -0.0476,  0.0080,  0.0417,\n",
            "        -0.0926, -0.0487]))])\n"
          ]
        }
      ]
    },
    {
      "cell_type": "markdown",
      "source": [
        "Let's check the shape"
      ],
      "metadata": {
        "id": "nVgXjuEzyMPw"
      }
    },
    {
      "cell_type": "code",
      "source": [
        "# Get shapes of weight and bias tensors within conv_layer_2\n",
        "print(f\"conv_layer_2 weight shape: \\n{conv_layer_2.weight.shape} -> [out_channels=10, in_channels=3, kernel_size=5, kernel_size=5]\")\n",
        "print(f\"\\nconv_layer_2 bias shape: \\n{conv_layer_2.bias.shape} -> [out_channels=10]\")"
      ],
      "metadata": {
        "colab": {
          "base_uri": "https://localhost:8080/"
        },
        "id": "gsbX7d8FyIfO",
        "outputId": "7fb64611-df08-47c0-9712-295c965e962c"
      },
      "execution_count": 45,
      "outputs": [
        {
          "output_type": "stream",
          "name": "stdout",
          "text": [
            "conv_layer_2 weight shape: \n",
            "torch.Size([10, 3, 5, 5]) -> [out_channels=10, in_channels=3, kernel_size=5, kernel_size=5]\n",
            "\n",
            "conv_layer_2 bias shape: \n",
            "torch.Size([10]) -> [out_channels=10]\n"
          ]
        }
      ]
    },
    {
      "cell_type": "markdown",
      "source": [
        "#### Stepping through `nn.MaxPool2d()`"
      ],
      "metadata": {
        "id": "jfyMMUC-yT4w"
      }
    },
    {
      "cell_type": "code",
      "source": [
        "print(f\"Test image original shape: {test_image.shape}\")\n",
        "\n",
        "print(f\"Test image unsqueezed shape: {test_image.unsqueeze(dim=0).shape}\")\n",
        "\n",
        "\n",
        "\n",
        "# now make a nn.MaxPool2d() layer\n",
        "max_pool_2d = nn.MaxPool2d(kernel_size=2)\n",
        "test_image_through_conv = conv_layer(test_image.unsqueeze(dim=0))\n",
        "print(f\"Test image shape after conv: {test_image_through_conv.shape}\")\n",
        "\n",
        "\n",
        "test_image_through_max_pool = max_pool_2d(test_image_through_conv)\n",
        "print(f\"Test image shape after max pooling: {test_image_through_max_pool.shape}\")\n"
      ],
      "metadata": {
        "colab": {
          "base_uri": "https://localhost:8080/"
        },
        "id": "zrxtM6xYyPSf",
        "outputId": "ad2aaa91-b9fe-4d67-cbd2-9aabecfee3a9"
      },
      "execution_count": 46,
      "outputs": [
        {
          "output_type": "stream",
          "name": "stdout",
          "text": [
            "Test image original shape: torch.Size([3, 64, 64])\n",
            "Test image unsqueezed shape: torch.Size([1, 3, 64, 64])\n",
            "Test image shape after conv: torch.Size([1, 10, 62, 62])\n",
            "Test image shape after max pooling: torch.Size([1, 10, 31, 31])\n"
          ]
        }
      ]
    },
    {
      "cell_type": "markdown",
      "source": [
        "Let's see this work with a small tensor"
      ],
      "metadata": {
        "id": "PrDEw2egy82T"
      }
    },
    {
      "cell_type": "code",
      "source": [
        "torch.manual_seed(135)\n",
        "# Create a random tensor with a similar number of dimensions to our images\n",
        "random_tensor = torch.randn(size=(1, 1, 2, 2))\n",
        "print(f\"Random tensor:\\n{random_tensor}\")\n",
        "print(f\"Random tensor shape: {random_tensor.shape}\")\n",
        "\n",
        "# Create a max pool layer\n",
        "max_pool_layer = nn.MaxPool2d(kernel_size=2) # see what happens when you change the kernel_size value\n",
        "\n",
        "# Pass the random tensor through the max pool layer\n",
        "max_pool_tensor = max_pool_layer(random_tensor)\n",
        "print(f\"\\nMax pool tensor:\\n{max_pool_tensor} <- this is the maximum value from random_tensor\")\n",
        "print(f\"Max pool tensor shape: {max_pool_tensor.shape}\")"
      ],
      "metadata": {
        "colab": {
          "base_uri": "https://localhost:8080/"
        },
        "id": "pPvmNYQPyuBT",
        "outputId": "5e692b61-1d03-4ea2-a5e4-598ab514f6b3"
      },
      "execution_count": 47,
      "outputs": [
        {
          "output_type": "stream",
          "name": "stdout",
          "text": [
            "Random tensor:\n",
            "tensor([[[[-0.4099,  0.2912],\n",
            "          [ 0.4471,  0.8840]]]])\n",
            "Random tensor shape: torch.Size([1, 1, 2, 2])\n",
            "\n",
            "Max pool tensor:\n",
            "tensor([[[[0.8840]]]]) <- this is the maximum value from random_tensor\n",
            "Max pool tensor shape: torch.Size([1, 1, 1, 1])\n"
          ]
        }
      ]
    },
    {
      "cell_type": "markdown",
      "source": [
        "Essentially, every layer in a neural network is trying to compress data from higher dimensional space to lower dimensional space\n",
        "\n",
        "\n",
        "![image](https://raw.githubusercontent.com/mrdbourke/pytorch-deep-learning/main/images/03-conv-net-as-compression.png)"
      ],
      "metadata": {
        "id": "V0YYAO0mzKqw"
      }
    },
    {
      "cell_type": "markdown",
      "source": [
        "This means, that from the point of view of a neural network, intelligence is compression. In essence, lowering the dimensionality of a tesnor whilst still retaining a significant portion of the information"
      ],
      "metadata": {
        "id": "Rb3KEJyOzYEa"
      }
    },
    {
      "cell_type": "markdown",
      "source": [
        "### **Loss Function and Optimizer**"
      ],
      "metadata": {
        "id": "XxyTuL-DznYp"
      }
    },
    {
      "cell_type": "code",
      "source": [
        "loss_func = nn.CrossEntropyLoss()\n",
        "\n",
        "optimizer = torch.optim.SGD(params=model_v2.parameters(), lr=0.1)"
      ],
      "metadata": {
        "id": "rIF_AmluzAyB"
      },
      "execution_count": 48,
      "outputs": []
    },
    {
      "cell_type": "markdown",
      "source": [
        "### **Training and Testing**"
      ],
      "metadata": {
        "id": "mexKpgQpz0Ai"
      }
    },
    {
      "cell_type": "code",
      "source": [
        "torch.manual_seed(135)\n",
        "\n",
        "\n",
        "from timeit import default_timer as timer\n",
        "train_time_start_model_v2 = timer()\n",
        "\n",
        "\n",
        "\n",
        "epochs = 5\n",
        "for epoch in tqdm(range(epochs)):\n",
        "  print(f\"Epoch: {epoch} \\n---------------\")\n",
        "\n",
        "\n",
        "  train_step(data_loader=train_dataloader,\n",
        "             model= model_v2,\n",
        "             loss_func=loss_func,\n",
        "             optimizer=optimizer,\n",
        "             accuracy_fn=accuracy_fn,\n",
        "             device= device)\n",
        "\n",
        "\n",
        "  test_step(data_loader=test_dataloader,\n",
        "            model= model_v2,\n",
        "            loss_func=loss_func,\n",
        "            accuracy_fn=accuracy_fn,\n",
        "            device= device)\n",
        "\n",
        "\n",
        "train_time_end_model_v2 = timer()\n",
        "\n",
        "total_train_time_model_2 = print_train_time(\n",
        "    start=train_time_start_model_v2,\n",
        "    end=train_time_end_model_v2, device=device)\n"
      ],
      "metadata": {
        "colab": {
          "base_uri": "https://localhost:8080/",
          "height": 424,
          "referenced_widgets": [
            "8c75da49a8e04178b729d70927247cd8",
            "3cb130cf420845ed960051380ff54c46",
            "bae8fec329e440588e52910e9d099361",
            "e67db17066c24b5297268d7cf416edea",
            "1ffe94dfd1c04c9aa5b9350872996899",
            "b1e5bffd3cf848d1b3c58e6bda55c19c",
            "96665c93fdc244e399fb505c349fcfa4",
            "50fc8b12ea6d4b8e95f783df6ed13a2d",
            "31cea56a8d5c482f83595212458a07b2",
            "63865ed53f8e4fcf97a4c5c1789523cd",
            "16ebfd8b260946109ce2a17e6624e12b"
          ]
        },
        "id": "mhVi9bUAzyxT",
        "outputId": "94750638-2286-4add-c092-3d86c3948926"
      },
      "execution_count": 49,
      "outputs": [
        {
          "output_type": "display_data",
          "data": {
            "text/plain": [
              "  0%|          | 0/5 [00:00<?, ?it/s]"
            ],
            "application/vnd.jupyter.widget-view+json": {
              "version_major": 2,
              "version_minor": 0,
              "model_id": "8c75da49a8e04178b729d70927247cd8"
            }
          },
          "metadata": {}
        },
        {
          "output_type": "stream",
          "name": "stdout",
          "text": [
            "Epoch: 0 \n",
            "---------------\n",
            "Train Loss: 0.54808 | Train accuracy: 80.27%\n",
            "Test Loss: 0.40847 | Test accuracy: 85.76%\n",
            "Epoch: 1 \n",
            "---------------\n",
            "Train Loss: 0.35071 | Train accuracy: 87.34%\n",
            "Test Loss: 0.32798 | Test accuracy: 88.09%\n",
            "Epoch: 2 \n",
            "---------------\n",
            "Train Loss: 0.31010 | Train accuracy: 88.80%\n",
            "Test Loss: 0.31519 | Test accuracy: 88.77%\n",
            "Epoch: 3 \n",
            "---------------\n",
            "Train Loss: 0.28929 | Train accuracy: 89.63%\n",
            "Test Loss: 0.30670 | Test accuracy: 88.76%\n",
            "Epoch: 4 \n",
            "---------------\n",
            "Train Loss: 0.27453 | Train accuracy: 90.15%\n",
            "Test Loss: 0.30381 | Test accuracy: 88.96%\n",
            "Train time on cuda: 54.979 seconds\n"
          ]
        }
      ]
    },
    {
      "cell_type": "markdown",
      "source": [
        "Looks like the performance improved a little bit. Let's evaluate `model_v2` result with `eval_model()` function"
      ],
      "metadata": {
        "id": "QwVxZB5Z0lDV"
      }
    },
    {
      "cell_type": "code",
      "source": [
        "model_v2_results = eval_model(\n",
        "    model=model_v2,\n",
        "    data_loader=test_dataloader,\n",
        "    loss_func=loss_func,\n",
        "    accuracy_fn=accuracy_fn,\n",
        "    device=device\n",
        ")\n",
        "\n",
        "model_v2_results"
      ],
      "metadata": {
        "colab": {
          "base_uri": "https://localhost:8080/"
        },
        "id": "Xfo6olUa0iID",
        "outputId": "931f2562-c23f-4550-f6a8-b3a4eb430a35"
      },
      "execution_count": 50,
      "outputs": [
        {
          "output_type": "execute_result",
          "data": {
            "text/plain": [
              "{'model_name': 'FashionMNISTModelv2',\n",
              " 'model_loss': 0.3038133382797241,\n",
              " 'model_acc': 88.9576677316294}"
            ]
          },
          "metadata": {},
          "execution_count": 50
        }
      ]
    },
    {
      "cell_type": "markdown",
      "source": [
        "### **Comparing Model Results and Training Time**"
      ],
      "metadata": {
        "id": "zvHGJAc802Hf"
      }
    },
    {
      "cell_type": "markdown",
      "source": [
        "- `model_v0` the baseline model with two `nn.Linear()` layer\n",
        "- `model_v1` - the same setup as our baseline model except with `nn.RelU()` layers in between\n",
        "\n",
        "- `model_v2` - CNN model"
      ],
      "metadata": {
        "id": "x9FjvnZk05l9"
      }
    },
    {
      "cell_type": "code",
      "source": [
        "import pandas as pd\n",
        "compare_results = pd.DataFrame(data=[model_v0_results,\n",
        "                                      model_v1_results,\n",
        "                                      model_v2_results])\n",
        "\n",
        "\n",
        "compare_results"
      ],
      "metadata": {
        "colab": {
          "base_uri": "https://localhost:8080/",
          "height": 143
        },
        "id": "XfLY_79n00my",
        "outputId": "414ae0ec-2ed1-43e4-8bfb-5c257fea45d6"
      },
      "execution_count": 51,
      "outputs": [
        {
          "output_type": "execute_result",
          "data": {
            "text/plain": [
              "            model_name  model_loss  model_acc\n",
              "0  FashionMNISTModelv0    0.485543  83.097045\n",
              "1  FashionMNISTModelv1    0.417850  85.183706\n",
              "2  FashionMNISTModelv2    0.303813  88.957668"
            ],
            "text/html": [
              "\n",
              "  <div id=\"df-ce5fe86c-337c-4724-bb80-63be466b4546\" class=\"colab-df-container\">\n",
              "    <div>\n",
              "<style scoped>\n",
              "    .dataframe tbody tr th:only-of-type {\n",
              "        vertical-align: middle;\n",
              "    }\n",
              "\n",
              "    .dataframe tbody tr th {\n",
              "        vertical-align: top;\n",
              "    }\n",
              "\n",
              "    .dataframe thead th {\n",
              "        text-align: right;\n",
              "    }\n",
              "</style>\n",
              "<table border=\"1\" class=\"dataframe\">\n",
              "  <thead>\n",
              "    <tr style=\"text-align: right;\">\n",
              "      <th></th>\n",
              "      <th>model_name</th>\n",
              "      <th>model_loss</th>\n",
              "      <th>model_acc</th>\n",
              "    </tr>\n",
              "  </thead>\n",
              "  <tbody>\n",
              "    <tr>\n",
              "      <th>0</th>\n",
              "      <td>FashionMNISTModelv0</td>\n",
              "      <td>0.485543</td>\n",
              "      <td>83.097045</td>\n",
              "    </tr>\n",
              "    <tr>\n",
              "      <th>1</th>\n",
              "      <td>FashionMNISTModelv1</td>\n",
              "      <td>0.417850</td>\n",
              "      <td>85.183706</td>\n",
              "    </tr>\n",
              "    <tr>\n",
              "      <th>2</th>\n",
              "      <td>FashionMNISTModelv2</td>\n",
              "      <td>0.303813</td>\n",
              "      <td>88.957668</td>\n",
              "    </tr>\n",
              "  </tbody>\n",
              "</table>\n",
              "</div>\n",
              "    <div class=\"colab-df-buttons\">\n",
              "\n",
              "  <div class=\"colab-df-container\">\n",
              "    <button class=\"colab-df-convert\" onclick=\"convertToInteractive('df-ce5fe86c-337c-4724-bb80-63be466b4546')\"\n",
              "            title=\"Convert this dataframe to an interactive table.\"\n",
              "            style=\"display:none;\">\n",
              "\n",
              "  <svg xmlns=\"http://www.w3.org/2000/svg\" height=\"24px\" viewBox=\"0 -960 960 960\">\n",
              "    <path d=\"M120-120v-720h720v720H120Zm60-500h600v-160H180v160Zm220 220h160v-160H400v160Zm0 220h160v-160H400v160ZM180-400h160v-160H180v160Zm440 0h160v-160H620v160ZM180-180h160v-160H180v160Zm440 0h160v-160H620v160Z\"/>\n",
              "  </svg>\n",
              "    </button>\n",
              "\n",
              "  <style>\n",
              "    .colab-df-container {\n",
              "      display:flex;\n",
              "      gap: 12px;\n",
              "    }\n",
              "\n",
              "    .colab-df-convert {\n",
              "      background-color: #E8F0FE;\n",
              "      border: none;\n",
              "      border-radius: 50%;\n",
              "      cursor: pointer;\n",
              "      display: none;\n",
              "      fill: #1967D2;\n",
              "      height: 32px;\n",
              "      padding: 0 0 0 0;\n",
              "      width: 32px;\n",
              "    }\n",
              "\n",
              "    .colab-df-convert:hover {\n",
              "      background-color: #E2EBFA;\n",
              "      box-shadow: 0px 1px 2px rgba(60, 64, 67, 0.3), 0px 1px 3px 1px rgba(60, 64, 67, 0.15);\n",
              "      fill: #174EA6;\n",
              "    }\n",
              "\n",
              "    .colab-df-buttons div {\n",
              "      margin-bottom: 4px;\n",
              "    }\n",
              "\n",
              "    [theme=dark] .colab-df-convert {\n",
              "      background-color: #3B4455;\n",
              "      fill: #D2E3FC;\n",
              "    }\n",
              "\n",
              "    [theme=dark] .colab-df-convert:hover {\n",
              "      background-color: #434B5C;\n",
              "      box-shadow: 0px 1px 3px 1px rgba(0, 0, 0, 0.15);\n",
              "      filter: drop-shadow(0px 1px 2px rgba(0, 0, 0, 0.3));\n",
              "      fill: #FFFFFF;\n",
              "    }\n",
              "  </style>\n",
              "\n",
              "    <script>\n",
              "      const buttonEl =\n",
              "        document.querySelector('#df-ce5fe86c-337c-4724-bb80-63be466b4546 button.colab-df-convert');\n",
              "      buttonEl.style.display =\n",
              "        google.colab.kernel.accessAllowed ? 'block' : 'none';\n",
              "\n",
              "      async function convertToInteractive(key) {\n",
              "        const element = document.querySelector('#df-ce5fe86c-337c-4724-bb80-63be466b4546');\n",
              "        const dataTable =\n",
              "          await google.colab.kernel.invokeFunction('convertToInteractive',\n",
              "                                                    [key], {});\n",
              "        if (!dataTable) return;\n",
              "\n",
              "        const docLinkHtml = 'Like what you see? Visit the ' +\n",
              "          '<a target=\"_blank\" href=https://colab.research.google.com/notebooks/data_table.ipynb>data table notebook</a>'\n",
              "          + ' to learn more about interactive tables.';\n",
              "        element.innerHTML = '';\n",
              "        dataTable['output_type'] = 'display_data';\n",
              "        await google.colab.output.renderOutput(dataTable, element);\n",
              "        const docLink = document.createElement('div');\n",
              "        docLink.innerHTML = docLinkHtml;\n",
              "        element.appendChild(docLink);\n",
              "      }\n",
              "    </script>\n",
              "  </div>\n",
              "\n",
              "\n",
              "    <div id=\"df-2b210a5d-c38f-4790-b0e4-2f56e1002ca9\">\n",
              "      <button class=\"colab-df-quickchart\" onclick=\"quickchart('df-2b210a5d-c38f-4790-b0e4-2f56e1002ca9')\"\n",
              "                title=\"Suggest charts\"\n",
              "                style=\"display:none;\">\n",
              "\n",
              "<svg xmlns=\"http://www.w3.org/2000/svg\" height=\"24px\"viewBox=\"0 0 24 24\"\n",
              "     width=\"24px\">\n",
              "    <g>\n",
              "        <path d=\"M19 3H5c-1.1 0-2 .9-2 2v14c0 1.1.9 2 2 2h14c1.1 0 2-.9 2-2V5c0-1.1-.9-2-2-2zM9 17H7v-7h2v7zm4 0h-2V7h2v10zm4 0h-2v-4h2v4z\"/>\n",
              "    </g>\n",
              "</svg>\n",
              "      </button>\n",
              "\n",
              "<style>\n",
              "  .colab-df-quickchart {\n",
              "      --bg-color: #E8F0FE;\n",
              "      --fill-color: #1967D2;\n",
              "      --hover-bg-color: #E2EBFA;\n",
              "      --hover-fill-color: #174EA6;\n",
              "      --disabled-fill-color: #AAA;\n",
              "      --disabled-bg-color: #DDD;\n",
              "  }\n",
              "\n",
              "  [theme=dark] .colab-df-quickchart {\n",
              "      --bg-color: #3B4455;\n",
              "      --fill-color: #D2E3FC;\n",
              "      --hover-bg-color: #434B5C;\n",
              "      --hover-fill-color: #FFFFFF;\n",
              "      --disabled-bg-color: #3B4455;\n",
              "      --disabled-fill-color: #666;\n",
              "  }\n",
              "\n",
              "  .colab-df-quickchart {\n",
              "    background-color: var(--bg-color);\n",
              "    border: none;\n",
              "    border-radius: 50%;\n",
              "    cursor: pointer;\n",
              "    display: none;\n",
              "    fill: var(--fill-color);\n",
              "    height: 32px;\n",
              "    padding: 0;\n",
              "    width: 32px;\n",
              "  }\n",
              "\n",
              "  .colab-df-quickchart:hover {\n",
              "    background-color: var(--hover-bg-color);\n",
              "    box-shadow: 0 1px 2px rgba(60, 64, 67, 0.3), 0 1px 3px 1px rgba(60, 64, 67, 0.15);\n",
              "    fill: var(--button-hover-fill-color);\n",
              "  }\n",
              "\n",
              "  .colab-df-quickchart-complete:disabled,\n",
              "  .colab-df-quickchart-complete:disabled:hover {\n",
              "    background-color: var(--disabled-bg-color);\n",
              "    fill: var(--disabled-fill-color);\n",
              "    box-shadow: none;\n",
              "  }\n",
              "\n",
              "  .colab-df-spinner {\n",
              "    border: 2px solid var(--fill-color);\n",
              "    border-color: transparent;\n",
              "    border-bottom-color: var(--fill-color);\n",
              "    animation:\n",
              "      spin 1s steps(1) infinite;\n",
              "  }\n",
              "\n",
              "  @keyframes spin {\n",
              "    0% {\n",
              "      border-color: transparent;\n",
              "      border-bottom-color: var(--fill-color);\n",
              "      border-left-color: var(--fill-color);\n",
              "    }\n",
              "    20% {\n",
              "      border-color: transparent;\n",
              "      border-left-color: var(--fill-color);\n",
              "      border-top-color: var(--fill-color);\n",
              "    }\n",
              "    30% {\n",
              "      border-color: transparent;\n",
              "      border-left-color: var(--fill-color);\n",
              "      border-top-color: var(--fill-color);\n",
              "      border-right-color: var(--fill-color);\n",
              "    }\n",
              "    40% {\n",
              "      border-color: transparent;\n",
              "      border-right-color: var(--fill-color);\n",
              "      border-top-color: var(--fill-color);\n",
              "    }\n",
              "    60% {\n",
              "      border-color: transparent;\n",
              "      border-right-color: var(--fill-color);\n",
              "    }\n",
              "    80% {\n",
              "      border-color: transparent;\n",
              "      border-right-color: var(--fill-color);\n",
              "      border-bottom-color: var(--fill-color);\n",
              "    }\n",
              "    90% {\n",
              "      border-color: transparent;\n",
              "      border-bottom-color: var(--fill-color);\n",
              "    }\n",
              "  }\n",
              "</style>\n",
              "\n",
              "      <script>\n",
              "        async function quickchart(key) {\n",
              "          const quickchartButtonEl =\n",
              "            document.querySelector('#' + key + ' button');\n",
              "          quickchartButtonEl.disabled = true;  // To prevent multiple clicks.\n",
              "          quickchartButtonEl.classList.add('colab-df-spinner');\n",
              "          try {\n",
              "            const charts = await google.colab.kernel.invokeFunction(\n",
              "                'suggestCharts', [key], {});\n",
              "          } catch (error) {\n",
              "            console.error('Error during call to suggestCharts:', error);\n",
              "          }\n",
              "          quickchartButtonEl.classList.remove('colab-df-spinner');\n",
              "          quickchartButtonEl.classList.add('colab-df-quickchart-complete');\n",
              "        }\n",
              "        (() => {\n",
              "          let quickchartButtonEl =\n",
              "            document.querySelector('#df-2b210a5d-c38f-4790-b0e4-2f56e1002ca9 button');\n",
              "          quickchartButtonEl.style.display =\n",
              "            google.colab.kernel.accessAllowed ? 'block' : 'none';\n",
              "        })();\n",
              "      </script>\n",
              "    </div>\n",
              "\n",
              "  <div id=\"id_d6ac8e47-324d-406c-8472-750bf4a65913\">\n",
              "    <style>\n",
              "      .colab-df-generate {\n",
              "        background-color: #E8F0FE;\n",
              "        border: none;\n",
              "        border-radius: 50%;\n",
              "        cursor: pointer;\n",
              "        display: none;\n",
              "        fill: #1967D2;\n",
              "        height: 32px;\n",
              "        padding: 0 0 0 0;\n",
              "        width: 32px;\n",
              "      }\n",
              "\n",
              "      .colab-df-generate:hover {\n",
              "        background-color: #E2EBFA;\n",
              "        box-shadow: 0px 1px 2px rgba(60, 64, 67, 0.3), 0px 1px 3px 1px rgba(60, 64, 67, 0.15);\n",
              "        fill: #174EA6;\n",
              "      }\n",
              "\n",
              "      [theme=dark] .colab-df-generate {\n",
              "        background-color: #3B4455;\n",
              "        fill: #D2E3FC;\n",
              "      }\n",
              "\n",
              "      [theme=dark] .colab-df-generate:hover {\n",
              "        background-color: #434B5C;\n",
              "        box-shadow: 0px 1px 3px 1px rgba(0, 0, 0, 0.15);\n",
              "        filter: drop-shadow(0px 1px 2px rgba(0, 0, 0, 0.3));\n",
              "        fill: #FFFFFF;\n",
              "      }\n",
              "    </style>\n",
              "    <button class=\"colab-df-generate\" onclick=\"generateWithVariable('compare_results')\"\n",
              "            title=\"Generate code using this dataframe.\"\n",
              "            style=\"display:none;\">\n",
              "\n",
              "  <svg xmlns=\"http://www.w3.org/2000/svg\" height=\"24px\"viewBox=\"0 0 24 24\"\n",
              "       width=\"24px\">\n",
              "    <path d=\"M7,19H8.4L18.45,9,17,7.55,7,17.6ZM5,21V16.75L18.45,3.32a2,2,0,0,1,2.83,0l1.4,1.43a1.91,1.91,0,0,1,.58,1.4,1.91,1.91,0,0,1-.58,1.4L9.25,21ZM18.45,9,17,7.55Zm-12,3A5.31,5.31,0,0,0,4.9,8.1,5.31,5.31,0,0,0,1,6.5,5.31,5.31,0,0,0,4.9,4.9,5.31,5.31,0,0,0,6.5,1,5.31,5.31,0,0,0,8.1,4.9,5.31,5.31,0,0,0,12,6.5,5.46,5.46,0,0,0,6.5,12Z\"/>\n",
              "  </svg>\n",
              "    </button>\n",
              "    <script>\n",
              "      (() => {\n",
              "      const buttonEl =\n",
              "        document.querySelector('#id_d6ac8e47-324d-406c-8472-750bf4a65913 button.colab-df-generate');\n",
              "      buttonEl.style.display =\n",
              "        google.colab.kernel.accessAllowed ? 'block' : 'none';\n",
              "\n",
              "      buttonEl.onclick = () => {\n",
              "        google.colab.notebook.generateWithVariable('compare_results');\n",
              "      }\n",
              "      })();\n",
              "    </script>\n",
              "  </div>\n",
              "\n",
              "    </div>\n",
              "  </div>\n"
            ],
            "application/vnd.google.colaboratory.intrinsic+json": {
              "type": "dataframe",
              "variable_name": "compare_results",
              "summary": "{\n  \"name\": \"compare_results\",\n  \"rows\": 3,\n  \"fields\": [\n    {\n      \"column\": \"model_name\",\n      \"properties\": {\n        \"dtype\": \"string\",\n        \"num_unique_values\": 3,\n        \"samples\": [\n          \"FashionMNISTModelv0\",\n          \"FashionMNISTModelv1\",\n          \"FashionMNISTModelv2\"\n        ],\n        \"semantic_type\": \"\",\n        \"description\": \"\"\n      }\n    },\n    {\n      \"column\": \"model_loss\",\n      \"properties\": {\n        \"dtype\": \"number\",\n        \"std\": 0.09184424586970372,\n        \"min\": 0.3038133382797241,\n        \"max\": 0.4855427145957947,\n        \"num_unique_values\": 3,\n        \"samples\": [\n          0.4855427145957947,\n          0.417849600315094,\n          0.3038133382797241\n        ],\n        \"semantic_type\": \"\",\n        \"description\": \"\"\n      }\n    },\n    {\n      \"column\": \"model_acc\",\n      \"properties\": {\n        \"dtype\": \"number\",\n        \"std\": 2.9705174678956516,\n        \"min\": 83.09704472843451,\n        \"max\": 88.9576677316294,\n        \"num_unique_values\": 3,\n        \"samples\": [\n          83.09704472843451,\n          85.18370607028754,\n          88.9576677316294\n        ],\n        \"semantic_type\": \"\",\n        \"description\": \"\"\n      }\n    }\n  ]\n}"
            }
          },
          "metadata": {},
          "execution_count": 51
        }
      ]
    },
    {
      "cell_type": "code",
      "source": [
        "compare_results[\"training_time\"] = [total_train_time_model_0,\n",
        "                                   total_train_time_model_1,\n",
        "                                   total_train_time_model_2]\n",
        "\n",
        "compare_results"
      ],
      "metadata": {
        "colab": {
          "base_uri": "https://localhost:8080/",
          "height": 143
        },
        "id": "szQ4xmOp1MhX",
        "outputId": "6373371a-87e2-4c35-9862-01d2f9c4a7da"
      },
      "execution_count": 52,
      "outputs": [
        {
          "output_type": "execute_result",
          "data": {
            "text/plain": [
              "            model_name  model_loss  model_acc  training_time\n",
              "0  FashionMNISTModelv0    0.485543  83.097045      42.852333\n",
              "1  FashionMNISTModelv1    0.417850  85.183706      47.183935\n",
              "2  FashionMNISTModelv2    0.303813  88.957668      54.978568"
            ],
            "text/html": [
              "\n",
              "  <div id=\"df-6207cdab-a626-4eb6-9832-ff96db6b38b9\" class=\"colab-df-container\">\n",
              "    <div>\n",
              "<style scoped>\n",
              "    .dataframe tbody tr th:only-of-type {\n",
              "        vertical-align: middle;\n",
              "    }\n",
              "\n",
              "    .dataframe tbody tr th {\n",
              "        vertical-align: top;\n",
              "    }\n",
              "\n",
              "    .dataframe thead th {\n",
              "        text-align: right;\n",
              "    }\n",
              "</style>\n",
              "<table border=\"1\" class=\"dataframe\">\n",
              "  <thead>\n",
              "    <tr style=\"text-align: right;\">\n",
              "      <th></th>\n",
              "      <th>model_name</th>\n",
              "      <th>model_loss</th>\n",
              "      <th>model_acc</th>\n",
              "      <th>training_time</th>\n",
              "    </tr>\n",
              "  </thead>\n",
              "  <tbody>\n",
              "    <tr>\n",
              "      <th>0</th>\n",
              "      <td>FashionMNISTModelv0</td>\n",
              "      <td>0.485543</td>\n",
              "      <td>83.097045</td>\n",
              "      <td>42.852333</td>\n",
              "    </tr>\n",
              "    <tr>\n",
              "      <th>1</th>\n",
              "      <td>FashionMNISTModelv1</td>\n",
              "      <td>0.417850</td>\n",
              "      <td>85.183706</td>\n",
              "      <td>47.183935</td>\n",
              "    </tr>\n",
              "    <tr>\n",
              "      <th>2</th>\n",
              "      <td>FashionMNISTModelv2</td>\n",
              "      <td>0.303813</td>\n",
              "      <td>88.957668</td>\n",
              "      <td>54.978568</td>\n",
              "    </tr>\n",
              "  </tbody>\n",
              "</table>\n",
              "</div>\n",
              "    <div class=\"colab-df-buttons\">\n",
              "\n",
              "  <div class=\"colab-df-container\">\n",
              "    <button class=\"colab-df-convert\" onclick=\"convertToInteractive('df-6207cdab-a626-4eb6-9832-ff96db6b38b9')\"\n",
              "            title=\"Convert this dataframe to an interactive table.\"\n",
              "            style=\"display:none;\">\n",
              "\n",
              "  <svg xmlns=\"http://www.w3.org/2000/svg\" height=\"24px\" viewBox=\"0 -960 960 960\">\n",
              "    <path d=\"M120-120v-720h720v720H120Zm60-500h600v-160H180v160Zm220 220h160v-160H400v160Zm0 220h160v-160H400v160ZM180-400h160v-160H180v160Zm440 0h160v-160H620v160ZM180-180h160v-160H180v160Zm440 0h160v-160H620v160Z\"/>\n",
              "  </svg>\n",
              "    </button>\n",
              "\n",
              "  <style>\n",
              "    .colab-df-container {\n",
              "      display:flex;\n",
              "      gap: 12px;\n",
              "    }\n",
              "\n",
              "    .colab-df-convert {\n",
              "      background-color: #E8F0FE;\n",
              "      border: none;\n",
              "      border-radius: 50%;\n",
              "      cursor: pointer;\n",
              "      display: none;\n",
              "      fill: #1967D2;\n",
              "      height: 32px;\n",
              "      padding: 0 0 0 0;\n",
              "      width: 32px;\n",
              "    }\n",
              "\n",
              "    .colab-df-convert:hover {\n",
              "      background-color: #E2EBFA;\n",
              "      box-shadow: 0px 1px 2px rgba(60, 64, 67, 0.3), 0px 1px 3px 1px rgba(60, 64, 67, 0.15);\n",
              "      fill: #174EA6;\n",
              "    }\n",
              "\n",
              "    .colab-df-buttons div {\n",
              "      margin-bottom: 4px;\n",
              "    }\n",
              "\n",
              "    [theme=dark] .colab-df-convert {\n",
              "      background-color: #3B4455;\n",
              "      fill: #D2E3FC;\n",
              "    }\n",
              "\n",
              "    [theme=dark] .colab-df-convert:hover {\n",
              "      background-color: #434B5C;\n",
              "      box-shadow: 0px 1px 3px 1px rgba(0, 0, 0, 0.15);\n",
              "      filter: drop-shadow(0px 1px 2px rgba(0, 0, 0, 0.3));\n",
              "      fill: #FFFFFF;\n",
              "    }\n",
              "  </style>\n",
              "\n",
              "    <script>\n",
              "      const buttonEl =\n",
              "        document.querySelector('#df-6207cdab-a626-4eb6-9832-ff96db6b38b9 button.colab-df-convert');\n",
              "      buttonEl.style.display =\n",
              "        google.colab.kernel.accessAllowed ? 'block' : 'none';\n",
              "\n",
              "      async function convertToInteractive(key) {\n",
              "        const element = document.querySelector('#df-6207cdab-a626-4eb6-9832-ff96db6b38b9');\n",
              "        const dataTable =\n",
              "          await google.colab.kernel.invokeFunction('convertToInteractive',\n",
              "                                                    [key], {});\n",
              "        if (!dataTable) return;\n",
              "\n",
              "        const docLinkHtml = 'Like what you see? Visit the ' +\n",
              "          '<a target=\"_blank\" href=https://colab.research.google.com/notebooks/data_table.ipynb>data table notebook</a>'\n",
              "          + ' to learn more about interactive tables.';\n",
              "        element.innerHTML = '';\n",
              "        dataTable['output_type'] = 'display_data';\n",
              "        await google.colab.output.renderOutput(dataTable, element);\n",
              "        const docLink = document.createElement('div');\n",
              "        docLink.innerHTML = docLinkHtml;\n",
              "        element.appendChild(docLink);\n",
              "      }\n",
              "    </script>\n",
              "  </div>\n",
              "\n",
              "\n",
              "    <div id=\"df-003fc0ef-8ee0-43a3-8d2f-c530e59e90af\">\n",
              "      <button class=\"colab-df-quickchart\" onclick=\"quickchart('df-003fc0ef-8ee0-43a3-8d2f-c530e59e90af')\"\n",
              "                title=\"Suggest charts\"\n",
              "                style=\"display:none;\">\n",
              "\n",
              "<svg xmlns=\"http://www.w3.org/2000/svg\" height=\"24px\"viewBox=\"0 0 24 24\"\n",
              "     width=\"24px\">\n",
              "    <g>\n",
              "        <path d=\"M19 3H5c-1.1 0-2 .9-2 2v14c0 1.1.9 2 2 2h14c1.1 0 2-.9 2-2V5c0-1.1-.9-2-2-2zM9 17H7v-7h2v7zm4 0h-2V7h2v10zm4 0h-2v-4h2v4z\"/>\n",
              "    </g>\n",
              "</svg>\n",
              "      </button>\n",
              "\n",
              "<style>\n",
              "  .colab-df-quickchart {\n",
              "      --bg-color: #E8F0FE;\n",
              "      --fill-color: #1967D2;\n",
              "      --hover-bg-color: #E2EBFA;\n",
              "      --hover-fill-color: #174EA6;\n",
              "      --disabled-fill-color: #AAA;\n",
              "      --disabled-bg-color: #DDD;\n",
              "  }\n",
              "\n",
              "  [theme=dark] .colab-df-quickchart {\n",
              "      --bg-color: #3B4455;\n",
              "      --fill-color: #D2E3FC;\n",
              "      --hover-bg-color: #434B5C;\n",
              "      --hover-fill-color: #FFFFFF;\n",
              "      --disabled-bg-color: #3B4455;\n",
              "      --disabled-fill-color: #666;\n",
              "  }\n",
              "\n",
              "  .colab-df-quickchart {\n",
              "    background-color: var(--bg-color);\n",
              "    border: none;\n",
              "    border-radius: 50%;\n",
              "    cursor: pointer;\n",
              "    display: none;\n",
              "    fill: var(--fill-color);\n",
              "    height: 32px;\n",
              "    padding: 0;\n",
              "    width: 32px;\n",
              "  }\n",
              "\n",
              "  .colab-df-quickchart:hover {\n",
              "    background-color: var(--hover-bg-color);\n",
              "    box-shadow: 0 1px 2px rgba(60, 64, 67, 0.3), 0 1px 3px 1px rgba(60, 64, 67, 0.15);\n",
              "    fill: var(--button-hover-fill-color);\n",
              "  }\n",
              "\n",
              "  .colab-df-quickchart-complete:disabled,\n",
              "  .colab-df-quickchart-complete:disabled:hover {\n",
              "    background-color: var(--disabled-bg-color);\n",
              "    fill: var(--disabled-fill-color);\n",
              "    box-shadow: none;\n",
              "  }\n",
              "\n",
              "  .colab-df-spinner {\n",
              "    border: 2px solid var(--fill-color);\n",
              "    border-color: transparent;\n",
              "    border-bottom-color: var(--fill-color);\n",
              "    animation:\n",
              "      spin 1s steps(1) infinite;\n",
              "  }\n",
              "\n",
              "  @keyframes spin {\n",
              "    0% {\n",
              "      border-color: transparent;\n",
              "      border-bottom-color: var(--fill-color);\n",
              "      border-left-color: var(--fill-color);\n",
              "    }\n",
              "    20% {\n",
              "      border-color: transparent;\n",
              "      border-left-color: var(--fill-color);\n",
              "      border-top-color: var(--fill-color);\n",
              "    }\n",
              "    30% {\n",
              "      border-color: transparent;\n",
              "      border-left-color: var(--fill-color);\n",
              "      border-top-color: var(--fill-color);\n",
              "      border-right-color: var(--fill-color);\n",
              "    }\n",
              "    40% {\n",
              "      border-color: transparent;\n",
              "      border-right-color: var(--fill-color);\n",
              "      border-top-color: var(--fill-color);\n",
              "    }\n",
              "    60% {\n",
              "      border-color: transparent;\n",
              "      border-right-color: var(--fill-color);\n",
              "    }\n",
              "    80% {\n",
              "      border-color: transparent;\n",
              "      border-right-color: var(--fill-color);\n",
              "      border-bottom-color: var(--fill-color);\n",
              "    }\n",
              "    90% {\n",
              "      border-color: transparent;\n",
              "      border-bottom-color: var(--fill-color);\n",
              "    }\n",
              "  }\n",
              "</style>\n",
              "\n",
              "      <script>\n",
              "        async function quickchart(key) {\n",
              "          const quickchartButtonEl =\n",
              "            document.querySelector('#' + key + ' button');\n",
              "          quickchartButtonEl.disabled = true;  // To prevent multiple clicks.\n",
              "          quickchartButtonEl.classList.add('colab-df-spinner');\n",
              "          try {\n",
              "            const charts = await google.colab.kernel.invokeFunction(\n",
              "                'suggestCharts', [key], {});\n",
              "          } catch (error) {\n",
              "            console.error('Error during call to suggestCharts:', error);\n",
              "          }\n",
              "          quickchartButtonEl.classList.remove('colab-df-spinner');\n",
              "          quickchartButtonEl.classList.add('colab-df-quickchart-complete');\n",
              "        }\n",
              "        (() => {\n",
              "          let quickchartButtonEl =\n",
              "            document.querySelector('#df-003fc0ef-8ee0-43a3-8d2f-c530e59e90af button');\n",
              "          quickchartButtonEl.style.display =\n",
              "            google.colab.kernel.accessAllowed ? 'block' : 'none';\n",
              "        })();\n",
              "      </script>\n",
              "    </div>\n",
              "\n",
              "  <div id=\"id_17647996-c0a1-44c6-88bc-483ab2db5245\">\n",
              "    <style>\n",
              "      .colab-df-generate {\n",
              "        background-color: #E8F0FE;\n",
              "        border: none;\n",
              "        border-radius: 50%;\n",
              "        cursor: pointer;\n",
              "        display: none;\n",
              "        fill: #1967D2;\n",
              "        height: 32px;\n",
              "        padding: 0 0 0 0;\n",
              "        width: 32px;\n",
              "      }\n",
              "\n",
              "      .colab-df-generate:hover {\n",
              "        background-color: #E2EBFA;\n",
              "        box-shadow: 0px 1px 2px rgba(60, 64, 67, 0.3), 0px 1px 3px 1px rgba(60, 64, 67, 0.15);\n",
              "        fill: #174EA6;\n",
              "      }\n",
              "\n",
              "      [theme=dark] .colab-df-generate {\n",
              "        background-color: #3B4455;\n",
              "        fill: #D2E3FC;\n",
              "      }\n",
              "\n",
              "      [theme=dark] .colab-df-generate:hover {\n",
              "        background-color: #434B5C;\n",
              "        box-shadow: 0px 1px 3px 1px rgba(0, 0, 0, 0.15);\n",
              "        filter: drop-shadow(0px 1px 2px rgba(0, 0, 0, 0.3));\n",
              "        fill: #FFFFFF;\n",
              "      }\n",
              "    </style>\n",
              "    <button class=\"colab-df-generate\" onclick=\"generateWithVariable('compare_results')\"\n",
              "            title=\"Generate code using this dataframe.\"\n",
              "            style=\"display:none;\">\n",
              "\n",
              "  <svg xmlns=\"http://www.w3.org/2000/svg\" height=\"24px\"viewBox=\"0 0 24 24\"\n",
              "       width=\"24px\">\n",
              "    <path d=\"M7,19H8.4L18.45,9,17,7.55,7,17.6ZM5,21V16.75L18.45,3.32a2,2,0,0,1,2.83,0l1.4,1.43a1.91,1.91,0,0,1,.58,1.4,1.91,1.91,0,0,1-.58,1.4L9.25,21ZM18.45,9,17,7.55Zm-12,3A5.31,5.31,0,0,0,4.9,8.1,5.31,5.31,0,0,0,1,6.5,5.31,5.31,0,0,0,4.9,4.9,5.31,5.31,0,0,0,6.5,1,5.31,5.31,0,0,0,8.1,4.9,5.31,5.31,0,0,0,12,6.5,5.46,5.46,0,0,0,6.5,12Z\"/>\n",
              "  </svg>\n",
              "    </button>\n",
              "    <script>\n",
              "      (() => {\n",
              "      const buttonEl =\n",
              "        document.querySelector('#id_17647996-c0a1-44c6-88bc-483ab2db5245 button.colab-df-generate');\n",
              "      buttonEl.style.display =\n",
              "        google.colab.kernel.accessAllowed ? 'block' : 'none';\n",
              "\n",
              "      buttonEl.onclick = () => {\n",
              "        google.colab.notebook.generateWithVariable('compare_results');\n",
              "      }\n",
              "      })();\n",
              "    </script>\n",
              "  </div>\n",
              "\n",
              "    </div>\n",
              "  </div>\n"
            ],
            "application/vnd.google.colaboratory.intrinsic+json": {
              "type": "dataframe",
              "variable_name": "compare_results",
              "summary": "{\n  \"name\": \"compare_results\",\n  \"rows\": 3,\n  \"fields\": [\n    {\n      \"column\": \"model_name\",\n      \"properties\": {\n        \"dtype\": \"string\",\n        \"num_unique_values\": 3,\n        \"samples\": [\n          \"FashionMNISTModelv0\",\n          \"FashionMNISTModelv1\",\n          \"FashionMNISTModelv2\"\n        ],\n        \"semantic_type\": \"\",\n        \"description\": \"\"\n      }\n    },\n    {\n      \"column\": \"model_loss\",\n      \"properties\": {\n        \"dtype\": \"number\",\n        \"std\": 0.09184424586970372,\n        \"min\": 0.3038133382797241,\n        \"max\": 0.4855427145957947,\n        \"num_unique_values\": 3,\n        \"samples\": [\n          0.4855427145957947,\n          0.417849600315094,\n          0.3038133382797241\n        ],\n        \"semantic_type\": \"\",\n        \"description\": \"\"\n      }\n    },\n    {\n      \"column\": \"model_acc\",\n      \"properties\": {\n        \"dtype\": \"number\",\n        \"std\": 2.9705174678956516,\n        \"min\": 83.09704472843451,\n        \"max\": 88.9576677316294,\n        \"num_unique_values\": 3,\n        \"samples\": [\n          83.09704472843451,\n          85.18370607028754,\n          88.9576677316294\n        ],\n        \"semantic_type\": \"\",\n        \"description\": \"\"\n      }\n    },\n    {\n      \"column\": \"training_time\",\n      \"properties\": {\n        \"dtype\": \"number\",\n        \"std\": 6.144979797820035,\n        \"min\": 42.852332891999936,\n        \"max\": 54.97856801700004,\n        \"num_unique_values\": 3,\n        \"samples\": [\n          42.852332891999936,\n          47.18393481299995,\n          54.97856801700004\n        ],\n        \"semantic_type\": \"\",\n        \"description\": \"\"\n      }\n    }\n  ]\n}"
            }
          },
          "metadata": {},
          "execution_count": 52
        }
      ]
    },
    {
      "cell_type": "markdown",
      "source": [
        "Looks like our CNN model performed the best, but it took the most time"
      ],
      "metadata": {
        "id": "BkA5tumX1emz"
      }
    },
    {
      "cell_type": "markdown",
      "source": [
        "### **Performance Speed Tradeoff**"
      ],
      "metadata": {
        "id": "W_mUc5LZ1eg1"
      }
    },
    {
      "cell_type": "markdown",
      "source": [
        "Generally we get a better performance out of a larger, more complex model, however this performance increase often comes at a sacrifice of training speed and inference speed"
      ],
      "metadata": {
        "id": "qHkH1H8y1nqF"
      }
    },
    {
      "cell_type": "code",
      "source": [
        "compare_results.set_index(\"model_name\")[\"model_acc\"].plot(kind=\"barh\")\n",
        "plt.xlabel(\"Accurcy (%)\")\n",
        "plt.ylabel(\"Model\")"
      ],
      "metadata": {
        "colab": {
          "base_uri": "https://localhost:8080/",
          "height": 467
        },
        "id": "oKpAzBGt1aio",
        "outputId": "cfff9e0c-6340-46cd-a903-83a030906bcc"
      },
      "execution_count": 53,
      "outputs": [
        {
          "output_type": "execute_result",
          "data": {
            "text/plain": [
              "Text(0, 0.5, 'Model')"
            ]
          },
          "metadata": {},
          "execution_count": 53
        },
        {
          "output_type": "display_data",
          "data": {
            "text/plain": [
              "<Figure size 640x480 with 1 Axes>"
            ],
            "image/png": "[encoded data removed]"
          },
          "metadata": {}
        }
      ]
    },
    {
      "cell_type": "markdown",
      "source": [
        "### **Make and Evaluate Random Predictions with Best Model**"
      ],
      "metadata": {
        "id": "_mYb02Z_2DU5"
      }
    },
    {
      "cell_type": "markdown",
      "source": [
        "Let's evaluate our best performing model `model_v2`, and make a function for that"
      ],
      "metadata": {
        "id": "XogJVKBn2ITr"
      }
    },
    {
      "cell_type": "code",
      "source": [
        "def make_predictions(model: torch.nn.Module,\n",
        "                     data: list,\n",
        "                     device:torch.device):\n",
        "  pred_probs= []\n",
        "  model.eval()\n",
        "\n",
        "  with torch.inference_mode():\n",
        "    for sample in data:\n",
        "      sample = torch.unsqueeze(sample, dim=0).to(device)\n",
        "\n",
        "      pred_logit = model(sample)\n",
        "\n",
        "      pred_prob = torch.softmax(pred_logit.squeeze(), dim =0)\n",
        "\n",
        "\n",
        "      pred_probs.append(pred_prob.cpu())\n",
        "\n",
        "\n",
        "    return torch.stack(pred_probs)"
      ],
      "metadata": {
        "id": "9cl4jXHd18L0"
      },
      "execution_count": 54,
      "outputs": []
    },
    {
      "cell_type": "code",
      "source": [
        "import random\n",
        "random.seed(135)\n",
        "\n",
        "test_samples = []\n",
        "test_labels = []\n",
        "\n",
        "\n",
        "for sample, label in random.sample(list(test_data), k= 9):\n",
        "  test_samples.append(sample)\n",
        "  test_labels.append(label)\n",
        "\n",
        "\n",
        "print(f\"Test Sample image shape: {test_samples[0].shape}\")\n",
        "print(f\"Test Sample label: {test_labels[0]}\")"
      ],
      "metadata": {
        "colab": {
          "base_uri": "https://localhost:8080/"
        },
        "id": "ux9RAz753ASH",
        "outputId": "b413d5e3-d15b-478b-fc52-46993c31648b"
      },
      "execution_count": 55,
      "outputs": [
        {
          "output_type": "stream",
          "name": "stdout",
          "text": [
            "Test Sample image shape: torch.Size([1, 28, 28])\n",
            "Test Sample label: 6\n"
          ]
        }
      ]
    },
    {
      "cell_type": "code",
      "source": [
        "# View the first test sample shape and label\n",
        "print(f\"Test sample image shape: {test_samples[0].shape}\\nTest sample label: {test_labels[0]} ({class_name[test_labels[0]]})\")\n"
      ],
      "metadata": {
        "colab": {
          "base_uri": "https://localhost:8080/"
        },
        "id": "i5XZPUz53WzX",
        "outputId": "0a7a7d18-864c-401c-afb4-10a3f9bcd9c8"
      },
      "execution_count": 56,
      "outputs": [
        {
          "output_type": "stream",
          "name": "stdout",
          "text": [
            "Test sample image shape: torch.Size([1, 28, 28])\n",
            "Test sample label: 6 (Shirt)\n"
          ]
        }
      ]
    },
    {
      "cell_type": "code",
      "source": [
        "# make predicitons\n",
        "pred_probs = make_predictions(model=model_v2,\n",
        "                              data=test_samples,\n",
        "                              device=device)\n",
        "\n",
        "print(f\"Predictions shape: {pred_probs.shape}\")"
      ],
      "metadata": {
        "colab": {
          "base_uri": "https://localhost:8080/"
        },
        "id": "_1guZ0Cc3bz3",
        "outputId": "6fda3996-08d9-4c3a-8d33-7b0be4db36eb"
      },
      "execution_count": 57,
      "outputs": [
        {
          "output_type": "stream",
          "name": "stdout",
          "text": [
            "Predictions shape: torch.Size([9, 10])\n"
          ]
        }
      ]
    },
    {
      "cell_type": "code",
      "source": [
        "pred_probs[:2]"
      ],
      "metadata": {
        "colab": {
          "base_uri": "https://localhost:8080/"
        },
        "id": "_Ms2PpcI3jdW",
        "outputId": "0a44d9d8-6770-4b69-b241-d039d651ec45"
      },
      "execution_count": 58,
      "outputs": [
        {
          "output_type": "execute_result",
          "data": {
            "text/plain": [
              "tensor([[9.8109e-03, 1.5590e-06, 8.3024e-04, 2.9102e-04, 1.0164e-03, 2.6510e-07,\n",
              "         9.8768e-01, 6.6404e-07, 3.7071e-04, 1.3495e-07],\n",
              "        [8.5648e-03, 8.6200e-01, 5.1667e-02, 4.8296e-04, 7.0465e-03, 9.5843e-04,\n",
              "         6.4296e-02, 1.0216e-05, 7.8470e-04, 4.1890e-03]])"
            ]
          },
          "metadata": {},
          "execution_count": 58
        }
      ]
    },
    {
      "cell_type": "code",
      "source": [
        "# probabilites to predicitons\n",
        "pred_classes = pred_probs.argmax(dim=1)\n",
        "pred_classes"
      ],
      "metadata": {
        "colab": {
          "base_uri": "https://localhost:8080/"
        },
        "id": "Jk4Pcwkj3k_V",
        "outputId": "87738543-3d23-49a5-dfab-2d6ec0919151"
      },
      "execution_count": 59,
      "outputs": [
        {
          "output_type": "execute_result",
          "data": {
            "text/plain": [
              "tensor([6, 1, 2, 5, 5, 0, 0, 5, 2])"
            ]
          },
          "metadata": {},
          "execution_count": 59
        }
      ]
    },
    {
      "cell_type": "code",
      "source": [
        "test_labels, pred_classes"
      ],
      "metadata": {
        "colab": {
          "base_uri": "https://localhost:8080/"
        },
        "id": "cMZrGP9f32BG",
        "outputId": "4a3b4730-b1f8-4e5d-88f3-0230f955eed6"
      },
      "execution_count": 60,
      "outputs": [
        {
          "output_type": "execute_result",
          "data": {
            "text/plain": [
              "([6, 1, 2, 5, 5, 0, 0, 5, 2], tensor([6, 1, 2, 5, 5, 0, 0, 5, 2]))"
            ]
          },
          "metadata": {},
          "execution_count": 60
        }
      ]
    },
    {
      "cell_type": "markdown",
      "source": [
        "### Visualize"
      ],
      "metadata": {
        "id": "lAmbDaXK3-Qg"
      }
    },
    {
      "cell_type": "code",
      "source": [
        "# Plot predictions\n",
        "plt.figure(figsize=(9, 9))\n",
        "nrows = 3\n",
        "ncols = 3\n",
        "for i, sample in enumerate(test_samples):\n",
        "  # Create a subplot\n",
        "  plt.subplot(nrows, ncols, i+1)\n",
        "\n",
        "  # Plot the target image\n",
        "  plt.imshow(sample.squeeze(), cmap=\"gray\")\n",
        "\n",
        "  # Find the prediction label (in text form, e.g. \"Sandal\")\n",
        "  pred_label = class_name[pred_classes[i]]\n",
        "\n",
        "  # Get the truth label (in text form, e.g. \"T-shirt\")\n",
        "  truth_label = class_name[test_labels[i]]\n",
        "\n",
        "  # Create the title text of the plot\n",
        "  title_text = f\"Pred: {pred_label} | Truth: {truth_label}\"\n",
        "\n",
        "  # Check for equality and change title colour accordingly\n",
        "  if pred_label == truth_label:\n",
        "      plt.title(title_text, fontsize=10, c=\"g\") # green text if correct\n",
        "  else:\n",
        "      plt.title(title_text, fontsize=10, c=\"r\") # red text if wrong\n",
        "  plt.axis(False);"
      ],
      "metadata": {
        "colab": {
          "base_uri": "https://localhost:8080/",
          "height": 749
        },
        "id": "IyCdjDlK38Oq",
        "outputId": "e921cdc3-7cc6-4a01-9d88-64e772928d98"
      },
      "execution_count": 61,
      "outputs": [
        {
          "output_type": "display_data",
          "data": {
            "text/plain": [
              "<Figure size 900x900 with 9 Axes>"
            ],
            "image/png": "[encoded data removed]"
          },
          "metadata": {}
        }
      ]
    },
    {
      "cell_type": "markdown",
      "source": [
        "### Making Confusion Matrix"
      ],
      "metadata": {
        "id": "lqnaw_lU4Gxa"
      }
    },
    {
      "cell_type": "markdown",
      "source": [
        "One of the many visuals you can make is the confusion matrix, it tells you where does your model got confused between predictions and truth"
      ],
      "metadata": {
        "id": "9z3KKrcG4KIi"
      }
    },
    {
      "cell_type": "code",
      "source": [
        "# Import tqdm for progress bar\n",
        "from tqdm.auto import tqdm\n",
        "\n",
        "# 1. Make predictions with trained model\n",
        "y_preds = []\n",
        "model_v2.eval()\n",
        "with torch.inference_mode():\n",
        "  for X, y in tqdm(test_dataloader, desc=\"Making predictions\"):\n",
        "    # Send data and targets to target device\n",
        "    X, y = X.to(device), y.to(device)\n",
        "    # Do the forward pass\n",
        "    y_logit = model_v2(X)\n",
        "    # Turn predictions from logits -> prediction probabilities -> predictions labels\n",
        "    y_pred = torch.softmax(y_logit, dim=1).argmax(dim=1) # note: perform softmax on the \"logits\" dimension, not \"batch\" dimension (in this case we have a batch size of 32, so can perform on dim=1)\n",
        "    # Put predictions on CPU for evaluation\n",
        "    y_preds.append(y_pred.cpu())\n",
        "# Concatenate list of predictions into a tensor\n",
        "y_pred_tensor = torch.cat(y_preds)"
      ],
      "metadata": {
        "colab": {
          "base_uri": "https://localhost:8080/",
          "height": 49,
          "referenced_widgets": [
            "118a2821fd06445a8b7163f4b9e3e3cd",
            "2f0fdafc9f8c4c60a46887526b1a11db",
            "2afe9b526a6d46c990923b598b3dda2d",
            "43964131f69f45c8b58658a55839f588",
            "cdc9fe4e61b84d00b5b9a277fd1ca4d1",
            "182b8d527ed5429bb53a16563f72fe8a",
            "b11be3f0784b46c9838d280f2c64a0e8",
            "cf87659f330f4ac1a1c6664311df0a45",
            "3b247170b2b84c45ac04e2edcfefc754",
            "87e5909390a34e50906b2a115929685d",
            "ddcbb52c9ec54d7fa3398426efed4bb2"
          ]
        },
        "id": "OMVfNXV04A6e",
        "outputId": "a8e39085-b3cd-4662-ab74-a1b463a9f9fe"
      },
      "execution_count": 62,
      "outputs": [
        {
          "output_type": "display_data",
          "data": {
            "text/plain": [
              "Making predictions:   0%|          | 0/313 [00:00<?, ?it/s]"
            ],
            "application/vnd.jupyter.widget-view+json": {
              "version_major": 2,
              "version_minor": 0,
              "model_id": "118a2821fd06445a8b7163f4b9e3e3cd"
            }
          },
          "metadata": {}
        }
      ]
    },
    {
      "cell_type": "markdown",
      "source": [
        "Now, we have the predicitons, we will make a confusion matrix using `torchmetrics.ConfusionMatrix` and plot it using `mlxtend.plotting.plot_confusion_matrix()`"
      ],
      "metadata": {
        "id": "nwvJqo-w4XxL"
      }
    },
    {
      "cell_type": "code",
      "source": [
        "\n",
        "# See if torchmetrics exists, if not, install it\n",
        "try:\n",
        "    import torchmetrics, mlxtend\n",
        "    print(f\"mlxtend version: {mlxtend.__version__}\")\n",
        "    assert int(mlxtend.__version__.split(\".\")[1]) >= 19, \"mlxtend verison should be 0.19.0 or higher\"\n",
        "except:\n",
        "    !pip install -q torchmetrics -U mlxtend # <- Note: If you're using Google Colab, this may require restarting the runtime\n",
        "    import torchmetrics, mlxtend\n",
        "    print(f\"mlxtend version: {mlxtend.__version__}\")\n",
        "# Import mlxtend upgraded version\n",
        "import mlxtend\n",
        "print(mlxtend.__version__)"
      ],
      "metadata": {
        "colab": {
          "base_uri": "https://localhost:8080/"
        },
        "id": "-CiIhXd14V8H",
        "outputId": "ea14ea89-e651-4dbc-c573-36ceb35f4e8a"
      },
      "execution_count": 63,
      "outputs": [
        {
          "output_type": "stream",
          "name": "stdout",
          "text": [
            "\u001b[?25l   \u001b[90m━━━━━━━━━━━━━━━━━━━━━━━━━━━━━━━━━━━━━━━━\u001b[0m \u001b[32m0.0/963.5 kB\u001b[0m \u001b[31m?\u001b[0m eta \u001b[36m-:--:--\u001b[0m\r\u001b[2K   \u001b[90m━━━━━━━━━━━━━━━━━━━━━━━━━━━━━━━━━━━━━━━━\u001b[0m \u001b[32m963.5/963.5 kB\u001b[0m \u001b[31m47.4 MB/s\u001b[0m eta \u001b[36m0:00:00\u001b[0m\n",
            "\u001b[?25hmlxtend version: 0.23.4\n",
            "0.23.4\n"
          ]
        }
      ]
    },
    {
      "cell_type": "code",
      "source": [
        "from torchmetrics import ConfusionMatrix\n",
        "from mlxtend.plotting import plot_confusion_matrix\n",
        "\n",
        "# 2. Setup confusion matrix instance and compare predictions to targets\n",
        "confmat = ConfusionMatrix(num_classes=len(class_name), task='multiclass')\n",
        "confmat_tensor = confmat(preds=y_pred_tensor,\n",
        "                         target=test_data.targets)\n",
        "\n",
        "# 3. Plot the confusion matrix\n",
        "fig, ax = plot_confusion_matrix(\n",
        "    conf_mat=confmat_tensor.numpy(), # matplotlib likes working with NumPy\n",
        "    class_names=class_name, # turn the row and column labels into class names\n",
        "    figsize=(10, 7)\n",
        ");"
      ],
      "metadata": {
        "colab": {
          "base_uri": "https://localhost:8080/",
          "height": 667
        },
        "id": "S_Wol4Dm4pJo",
        "outputId": "2506061c-de5f-4136-b765-37fe159e448d"
      },
      "execution_count": 64,
      "outputs": [
        {
          "output_type": "display_data",
          "data": {
            "text/plain": [
              "<Figure size 1000x700 with 1 Axes>"
            ],
            "image/png": "[encoded data removed]"
          },
          "metadata": {}
        }
      ]
    },
    {
      "cell_type": "markdown",
      "source": [
        "### Save and Load best performing model"
      ],
      "metadata": {
        "id": "5uKD7UXB46Aq"
      }
    },
    {
      "cell_type": "code",
      "source": [
        "from pathlib import Path\n",
        "\n",
        "# Create models directory (if it doesn't already exist), see: https://docs.python.org/3/library/pathlib.html#pathlib.Path.mkdir\n",
        "MODEL_PATH = Path(\"models\")\n",
        "MODEL_PATH.mkdir(parents=True, # create parent directories if needed\n",
        "                 exist_ok=True # if models directory already exists, don't error\n",
        ")\n",
        "\n",
        "# Create model save path\n",
        "MODEL_NAME = \"03_pytorch_computer_vision_model_2.pth\"\n",
        "MODEL_SAVE_PATH = MODEL_PATH / MODEL_NAME\n",
        "\n",
        "# Save the model state dict\n",
        "print(f\"Saving model to: {MODEL_SAVE_PATH}\")\n",
        "torch.save(obj=model_v2.state_dict(), # only saving the state_dict() only saves the learned parameters\n",
        "           f=MODEL_SAVE_PATH)"
      ],
      "metadata": {
        "colab": {
          "base_uri": "https://localhost:8080/"
        },
        "id": "vDvZKXI94s5Y",
        "outputId": "e3bedf7f-217e-4e3c-a250-003ce5a760b8"
      },
      "execution_count": 65,
      "outputs": [
        {
          "output_type": "stream",
          "name": "stdout",
          "text": [
            "Saving model to: models/03_pytorch_computer_vision_model_2.pth\n"
          ]
        }
      ]
    },
    {
      "cell_type": "markdown",
      "source": [
        "Since we have saved the learned parameters, we can bring it back as well"
      ],
      "metadata": {
        "id": "AU9NqEz65C8r"
      }
    },
    {
      "cell_type": "code",
      "source": [
        "# Create a new instance of FashionMNISTModelV2 (the same class as our saved state_dict())\n",
        "# Note: loading model will error if the shapes here aren't the same as the saved version\n",
        "loaded_model_2 = FashionMNISTModelv2(input_shape=1,\n",
        "                                    hidden_units=10, # try changing this to 128 and seeing what happens\n",
        "                                    output_shape=10)\n",
        "\n",
        "# Load in the saved state_dict()\n",
        "loaded_model_2.load_state_dict(torch.load(f=MODEL_SAVE_PATH))\n",
        "\n",
        "# Send model to GPU\n",
        "loaded_model_2 = loaded_model_2.to(device)"
      ],
      "metadata": {
        "id": "GGHh6z-q5A_b"
      },
      "execution_count": 66,
      "outputs": []
    },
    {
      "cell_type": "code",
      "source": [
        "# Evaluate loaded model\n",
        "torch.manual_seed(42)\n",
        "\n",
        "loaded_model_2_results = eval_model(\n",
        "    model=loaded_model_2,\n",
        "    data_loader=test_dataloader,\n",
        "    loss_func=loss_func,\n",
        "    accuracy_fn=accuracy_fn,\n",
        "    device=device\n",
        ")\n",
        "\n",
        "loaded_model_2_results"
      ],
      "metadata": {
        "colab": {
          "base_uri": "https://localhost:8080/"
        },
        "id": "S2-R2lQ95Jst",
        "outputId": "79e7b318-9c5d-44aa-fe07-7f599a5172cd"
      },
      "execution_count": 67,
      "outputs": [
        {
          "output_type": "execute_result",
          "data": {
            "text/plain": [
              "{'model_name': 'FashionMNISTModelv2',\n",
              " 'model_loss': 0.3038133382797241,\n",
              " 'model_acc': 88.9576677316294}"
            ]
          },
          "metadata": {},
          "execution_count": 67
        }
      ]
    },
    {
      "cell_type": "code",
      "source": [
        "model_v2_results"
      ],
      "metadata": {
        "colab": {
          "base_uri": "https://localhost:8080/"
        },
        "id": "BxmpcNwM5RE3",
        "outputId": "9e5d0b9f-d67b-4680-8627-1a112e4c291f"
      },
      "execution_count": 68,
      "outputs": [
        {
          "output_type": "execute_result",
          "data": {
            "text/plain": [
              "{'model_name': 'FashionMNISTModelv2',\n",
              " 'model_loss': 0.3038133382797241,\n",
              " 'model_acc': 88.9576677316294}"
            ]
          },
          "metadata": {},
          "execution_count": 68
        }
      ]
    }
  ]
}