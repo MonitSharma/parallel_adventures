{
  "cells": [
    {
      "cell_type": "markdown",
      "id": "54e3abcc",
      "metadata": {
        "id": "54e3abcc"
      },
      "source": [
        "## **PyTorch Going Modular**"
      ]
    },
    {
      "cell_type": "markdown",
      "id": "05e75ce1",
      "metadata": {
        "id": "05e75ce1"
      },
      "source": [
        "In this we will basically talk about, *how to turn the notebook code into python scripts?*"
      ]
    },
    {
      "cell_type": "markdown",
      "id": "0f11e730",
      "metadata": {
        "id": "0f11e730"
      },
      "source": [
        "#### Going Modular\n",
        "\n",
        "It involves turning notebook code into a series of different python scripts that offer similar functionality. For example, we can trun our notebook code from a series of cells into the followinh python files:\n",
        "\n",
        "-  `data_setup.py` - a file to prepare and download data if needed.\n",
        "- `engine.py` - a file containing various training functions\n",
        "- `model_builder.py` or `model.py` - a file to create a PyTorch model\n",
        "- `train.py` - a file to leverage all other files and train a target PyTorch model\n",
        "- `utils.py` - a file dedicated to helpful utility functions"
      ]
    },
    {
      "cell_type": "markdown",
      "id": "d10b348d",
      "metadata": {
        "id": "d10b348d"
      },
      "source": [
        "#### Why go modular?\n",
        "\n",
        "Notebooks are nice for teaching and learning and visualizing, but for larger scale projects, python scripts are more reproducible and easier to run. **Production code** is the code that runs to offer a service to someone or something, and libraries like FASTAI's `nb-dev ` enable you to write whole python libraries with Jupyter notebooks\n",
        "\n",
        "Usually, in my projects as well, where I do RL + QC , i also use python scripts, where to run the code from the terminal, you have to type something like:\n",
        "\n",
        "\n",
        "```python\n",
        "python train.py --model MODEL_NAME --batch_size BATCH_SIZE --lr LEARNING_RATE --num_epochs NUM_EPOCHS\n",
        "```\n",
        "\n",
        "it's much better and modular, and is nicer to use.\n"
      ]
    },
    {
      "cell_type": "markdown",
      "id": "3449557e",
      "metadata": {
        "id": "3449557e"
      },
      "source": [
        "Let's begin:"
      ]
    },
    {
      "cell_type": "code",
      "execution_count": 11,
      "id": "TRBHU3yuYTXm",
      "metadata": {
        "colab": {
          "base_uri": "https://localhost:8080/"
        },
        "id": "TRBHU3yuYTXm",
        "outputId": "82d1dc0a-0c73-4c5f-8ff4-268f0e17a77a"
      },
      "outputs": [
        {
          "name": "stdout",
          "output_type": "stream",
          "text": [
            "/home/monitsharma/parallel_adventures/.venv/bin/python: No module named pip\n",
            "Note: you may need to restart the kernel to use updated packages.\n"
          ]
        }
      ],
      "source": [
        "%pip install torch torchvision torchaudio"
      ]
    },
    {
      "cell_type": "code",
      "execution_count": 12,
      "id": "PINHtIsbYVV2",
      "metadata": {
        "colab": {
          "base_uri": "https://localhost:8080/",
          "height": 35
        },
        "id": "PINHtIsbYVV2",
        "outputId": "28b2c49e-7f73-47ee-aa88-ecf35d696aef"
      },
      "outputs": [
        {
          "data": {
            "text/plain": [
              "'2.7.1+cu126'"
            ]
          },
          "execution_count": 12,
          "metadata": {},
          "output_type": "execute_result"
        }
      ],
      "source": [
        "\n",
        "\n",
        "\n",
        "import os\n",
        "import torch\n",
        "from torch import nn\n",
        "import matplotlib.pyplot as plt\n",
        "\n",
        "# let's see the pytorch version\n",
        "torch.__version__\n",
        "\n"
      ]
    },
    {
      "cell_type": "code",
      "execution_count": 13,
      "id": "KODfoUorYXln",
      "metadata": {
        "colab": {
          "base_uri": "https://localhost:8080/",
          "height": 35
        },
        "id": "KODfoUorYXln",
        "outputId": "bad914e6-4383-4000-b15c-b659b961952c"
      },
      "outputs": [
        {
          "data": {
            "text/plain": [
              "'cuda'"
            ]
          },
          "execution_count": 13,
          "metadata": {},
          "output_type": "execute_result"
        }
      ],
      "source": [
        "device = \"cuda\" if torch.cuda.is_available() else \"cpu\"\n",
        "device"
      ]
    },
    {
      "cell_type": "markdown",
      "id": "hNHa3achYtvV",
      "metadata": {
        "id": "hNHa3achYtvV"
      },
      "source": [
        "### Getting Data"
      ]
    },
    {
      "cell_type": "markdown",
      "id": "BQEW7EqhYzpm",
      "metadata": {
        "id": "BQEW7EqhYzpm"
      },
      "source": [
        "We will load the same data, we had in the earlier notebook:"
      ]
    },
    {
      "cell_type": "code",
      "execution_count": 14,
      "id": "539205c5",
      "metadata": {
        "colab": {
          "base_uri": "https://localhost:8080/"
        },
        "id": "539205c5",
        "outputId": "39f72117-f0ae-4839-b6f4-170c886a5c91"
      },
      "outputs": [
        {
          "name": "stdout",
          "output_type": "stream",
          "text": [
            "Did not find data/pizza_steak_sushi directory, creating one... \n",
            "Downloading the data\n",
            "Unzipping the data\n"
          ]
        }
      ],
      "source": [
        "import os\n",
        "import requests\n",
        "import zipfile\n",
        "from pathlib import Path\n",
        "\n",
        "\n",
        "# setup path to data folder\n",
        "data_path = Path(\"data/\")\n",
        "image_path = data_path/\"pizza_steak_sushi\"\n",
        "\n",
        "# if the folder doesn't exist, download and prepare it\n",
        "if image_path.is_dir():\n",
        "  print(f\"{image_path} directory exusts. \")\n",
        "else:\n",
        "  print(f\"Did not find {image_path} directory, creating one... \")\n",
        "  image_path.mkdir(parents=True, exist_ok=True)\n",
        "\n",
        "\n",
        "# download it\n",
        "with open(data_path/\"pizza_steak_sushi.zip\", \"wb\") as f:\n",
        "  request = requests.get(\"https://github.com/mrdbourke/pytorch-deep-learning/raw/main/data/pizza_steak_sushi.zip\")\n",
        "  print(\"Downloading the data\")\n",
        "  f.write(request.content)\n",
        "\n",
        "\n",
        "# unzip it\n",
        "with zipfile.ZipFile(data_path/\"pizza_steak_sushi.zip\", \"r\") as zip_ref:\n",
        "  print(\"Unzipping the data\")\n",
        "  zip_ref.extractall(image_path)\n",
        "\n",
        "# remove the zip file\n",
        "os.remove(data_path/\"pizza_steak_sushi.zip\")"
      ]
    },
    {
      "cell_type": "markdown",
      "id": "Uk9B-wevaOpg",
      "metadata": {
        "id": "Uk9B-wevaOpg"
      },
      "source": [
        "The folder structure looks like:\n",
        "\n",
        "```bash\n",
        "data/\n",
        "└── pizza_steak_sushi/\n",
        "    ├── train/\n",
        "    │   ├── pizza/\n",
        "    │   │   ├── train_image01.jpeg\n",
        "    │   │   ├── test_image02.jpeg\n",
        "    │   │   └── ...\n",
        "    │   ├── steak/\n",
        "    │   │   └── ...\n",
        "    │   └── sushi/\n",
        "    │       └── ...\n",
        "    └── test/\n",
        "        ├── pizza/\n",
        "        │   ├── test_image01.jpeg\n",
        "        │   └── test_image02.jpeg\n",
        "        ├── steak/\n",
        "        └── sushi/\n",
        "```"
      ]
    },
    {
      "cell_type": "markdown",
      "id": "B84V7D-EaUWC",
      "metadata": {
        "id": "B84V7D-EaUWC"
      },
      "source": [
        "### Create Datasets and DataLoaders (`data_setup.py`)\n",
        "\n"
      ]
    },
    {
      "cell_type": "markdown",
      "id": "oJuSsegkaax5",
      "metadata": {
        "id": "oJuSsegkaax5"
      },
      "source": [
        "Once we have the data, we can turn it into a PyTorch `Dataset` and then to `DataLoader`, we can convert the useful `Dataset` and `DataLoader` creating code into a function called `create_dataloaders()`\n",
        "\n",
        "\n",
        "And we write it to file using the line `%%writefile going_modular/data_setup.py`"
      ]
    },
    {
      "cell_type": "code",
      "execution_count": 15,
      "id": "tONNkoaHb2ue",
      "metadata": {
        "colab": {
          "base_uri": "https://localhost:8080/"
        },
        "id": "tONNkoaHb2ue",
        "outputId": "f4d360db-55cb-4776-9b58-6eeeccb5e842"
      },
      "outputs": [
        {
          "name": "stdout",
          "output_type": "stream",
          "text": [
            "Overwriting going_modular/data_setup.py\n"
          ]
        }
      ],
      "source": [
        "%%writefile going_modular/data_setup.py\n",
        "\"\"\"\n",
        "Contiains the functionallity for creating PyTorch DataLoaders for\n",
        "image classification data.\n",
        "\"\"\"\n",
        "import os\n",
        "from torchvision import datasets, transforms\n",
        "from torch.utils.data import DataLoader\n",
        "\n",
        "NUM_WORKERS = os.cpu_count()\n",
        "\n",
        "def create_dataloaders(\n",
        "    train_dir: str,\n",
        "    test_dir: str,\n",
        "    transform: transforms.Compose,\n",
        "    batch_size: int,\n",
        "    num_workers: int=NUM_WORKERS):\n",
        "  \"\"\"\n",
        "  Creates training and testing DataLoaders.\n",
        "  \"\"\"\n",
        "\n",
        "  train_data = datasets.ImageFolder(train_dir, transform=transform)\n",
        "  test_data = datasets.ImageFolder(test_dir, transform=transform)\n",
        "\n",
        "  # get the class name\n",
        "  class_names = train_data.classes\n",
        "\n",
        "  # turn images into dataloaders\n",
        "  train_dataloader = DataLoader(\n",
        "      train_data,\n",
        "      batch_size=batch_size,\n",
        "      shuffle=True,\n",
        "      num_workers=num_workers,\n",
        "      pin_memory=True\n",
        "  )\n",
        "\n",
        "  test_dataloader = DataLoader(\n",
        "      test_data,\n",
        "      batch_size=batch_size,\n",
        "      shuffle=False,\n",
        "      num_workers=num_workers,\n",
        "      pin_memory=True\n",
        "  )\n",
        "\n",
        "  return train_dataloader, test_dataloader, class_names\n"
      ]
    },
    {
      "cell_type": "markdown",
      "id": "hG6JCw-UcF0t",
      "metadata": {
        "id": "hG6JCw-UcF0t"
      },
      "source": [
        "Now we can do this:"
      ]
    },
    {
      "cell_type": "markdown",
      "id": "iIqRAZo6cRhz",
      "metadata": {
        "id": "iIqRAZo6cRhz"
      },
      "source": [
        "```python\n",
        "from going_modular import data_setup\n",
        "\n",
        "train_dataloader, test_dataloader, class_names = data_setup.create_dataloaders(\n",
        "    train_dir=image_path/\"train\",\n",
        "    test_dir=image_path/\"test\",\n",
        "    transform=data_transform,\n",
        "    batch_size=32\n",
        ")\n",
        "\n",
        "train_dataloader, test_dataloader, class_names\n",
        "```"
      ]
    },
    {
      "cell_type": "markdown",
      "id": "f0cMfRcscVaU",
      "metadata": {
        "id": "f0cMfRcscVaU"
      },
      "source": [
        "### **Making a Model `model_builder.py`**"
      ]
    },
    {
      "cell_type": "code",
      "execution_count": 16,
      "id": "LzrOXG0Yb2_s",
      "metadata": {
        "colab": {
          "base_uri": "https://localhost:8080/"
        },
        "id": "LzrOXG0Yb2_s",
        "outputId": "68bd8659-41a3-461c-f3d3-f4e2e0530244"
      },
      "outputs": [
        {
          "name": "stdout",
          "output_type": "stream",
          "text": [
            "Overwriting going_modular/model_builder.py\n"
          ]
        }
      ],
      "source": [
        "%%writefile going_modular/model_builder.py\n",
        "\"\"\"\n",
        "Contains PyTorch model code to instantiate a TinyVGG model.\n",
        "\"\"\"\n",
        "import torch\n",
        "from torch import nn\n",
        "\n",
        "class TinyVGG(nn.Module):\n",
        "  \"\"\"\n",
        "  Creates the TinyVGG architecture.\n",
        "  \"\"\"\n",
        "  def __init__(self, input_shape: int, hidden_units: int, output_shape: int) -> None:\n",
        "    super().__init__()\n",
        "    self.conv_block_1 = nn.Sequential(\n",
        "        nn.Conv2d(in_channels=input_shape, out_channels=hidden_units, kernel_size=3,stride=1, padding=0),\n",
        "        nn.ReLU(),\n",
        "        nn.Conv2d(in_channels=hidden_units, out_channels=hidden_units, kernel_size=3,stride=1, padding=0),\n",
        "        nn.ReLU(),\n",
        "        nn.MaxPool2d(kernel_size=2, stride=2)\n",
        "    )\n",
        "\n",
        "\n",
        "    self.conv_block_2 = nn.Sequential(\n",
        "        nn.Conv2d(in_channels=hidden_units, out_channels=hidden_units, kernel_size=3, padding=0),\n",
        "        nn.ReLU(),\n",
        "        nn.Conv2d(in_channels=hidden_units, out_channels=hidden_units, kernel_size=3, padding=0),\n",
        "        nn.ReLU(),\n",
        "        nn.MaxPool2d(2)\n",
        "    )\n",
        "\n",
        "    self.classifier = nn.Sequential(\n",
        "        nn.Flatten(),\n",
        "        nn.Linear(in_features=hidden_units*13*13, out_features=output_shape)\n",
        "    )\n",
        "\n",
        "\n",
        "  def forward(self, x: torch.Tensor):\n",
        "    x = self.conv_block_1(x)\n",
        "    x = self.conv_block_2(x)\n",
        "    x = self.classifier(x)\n",
        "    return x"
      ]
    },
    {
      "cell_type": "markdown",
      "id": "QyBX5TxldiZL",
      "metadata": {
        "id": "QyBX5TxldiZL"
      },
      "source": [
        "Now, instead of coding the TinyVGG model from scratch every time, we can just import it using\n",
        "\n",
        "```python\n",
        "import torch\n",
        "from going_modular import model_builder\n",
        "\n",
        "device = \"cuda\" if torch.cuda.is_available() else \"cpu\"\n",
        "\n",
        "torch.manual_seed(42)\n",
        "model_1 = model_builder.TinyVGG(input_shape=3, hidden_units=10, output_shape=len(class_names)).to(device)\n",
        "```"
      ]
    },
    {
      "cell_type": "markdown",
      "id": "IRkrQMKmeAp7",
      "metadata": {
        "id": "IRkrQMKmeAp7"
      },
      "source": [
        "### Creating `train_step()` and `test_step()` functions and `train()` to combine them"
      ]
    },
    {
      "cell_type": "markdown",
      "id": "TxmjwwrLeN1Z",
      "metadata": {
        "id": "TxmjwwrLeN1Z"
      },
      "source": [
        "1. `train_step()` - takes in a model, a `DataLoader`, a loss function and an optimizer and trains the model on the `DataLoader`\n",
        "\n",
        "2. `test_step()` - takes in a model, a `DataLoader` and a loss function and evaluates the model on the `DataLoader`\n",
        "\n",
        "3. `train()` - performs 1. and 2. together for a given number of epochs and returns a results dictionary"
      ]
    },
    {
      "cell_type": "code",
      "execution_count": 17,
      "id": "GiOzchbocK6c",
      "metadata": {
        "colab": {
          "base_uri": "https://localhost:8080/"
        },
        "id": "GiOzchbocK6c",
        "outputId": "42e0798b-fac9-4d47-a2ae-5215c6a9f09d"
      },
      "outputs": [
        {
          "name": "stdout",
          "output_type": "stream",
          "text": [
            "Overwriting going_modular/engine.py\n"
          ]
        }
      ],
      "source": [
        "%%writefile going_modular/engine.py\n",
        "\"\"\"\n",
        "Contains function for training and testing\n",
        "\"\"\"\n",
        "\n",
        "import torch\n",
        "from tqdm.auto import tqdm\n",
        "from typing import Dict, List, Tuple\n",
        "\n",
        "def train_step(model: torch.nn.Module,\n",
        "                dataloader: torch.utils.data.DataLoader,\n",
        "                loss_fn: torch.nn.Module,\n",
        "                optimizer: torch.optim.Optimizer,\n",
        "                device: torch.device) -> Tuple[float, float]:\n",
        "\n",
        "                model.train()\n",
        "\n",
        "                train_loss, train_acc = 0, 0\n",
        "\n",
        "                for batch, (X,y) in enumerate(dataloader):\n",
        "                  X,y = X.to(device), y.to(device)\n",
        "\n",
        "                  y_pred = model(X)\n",
        "\n",
        "                  loss = loss_fn(y_pred, y)\n",
        "                  train_loss += loss.item()\n",
        "\n",
        "                  optimizer.zero_grad()\n",
        "\n",
        "                  loss.backward()\n",
        "\n",
        "                  optimizer.step()\n",
        "\n",
        "                  y_pred_class = torch.argmax(torch.softmax(y_pred, dim=1), dim=1)\n",
        "                  train_acc += (y_pred_class == y).sum().item()/len(y_pred)\n",
        "\n",
        "                train_loss = train_loss / len(dataloader)\n",
        "                train_acc = train_acc / len(dataloader)\n",
        "                return train_loss, train_acc\n",
        "\n",
        "\n",
        "\n",
        "def test_step(model: torch.nn.Module,\n",
        "                dataloader: torch.utils.data.DataLoader,\n",
        "                loss_fn: torch.nn.Module,\n",
        "                device: torch.device) -> Tuple[float, float]:\n",
        "\n",
        "                model.eval()\n",
        "\n",
        "                test_loss, test_acc = 0, 0\n",
        "\n",
        "                with torch.inference_mode():\n",
        "                  for batch, (X,y) in enumerate(dataloader):\n",
        "                    X,y = X.to(device), y.to(device)\n",
        "\n",
        "                    test_pred_logits = model(X)\n",
        "\n",
        "                    loss = loss_fn(test_pred_logits, y)\n",
        "                    test_loss += loss.item()\n",
        "\n",
        "                    test_pred_labels = test_pred_logits.argmax(dim=1)\n",
        "                    test_acc += ((test_pred_labels == y).sum().item()/len(test_pred_labels))\n",
        "\n",
        "                test_loss = test_loss / len(dataloader)\n",
        "                test_acc = test_acc / len(dataloader)\n",
        "                return test_loss, test_acc\n",
        "\n",
        "def train(model: torch.nn.Module,\n",
        "          train_dataloader: torch.utils.data.DataLoader,\n",
        "          test_dataloader: torch.utils.data.DataLoader,\n",
        "          optimizer: torch.optim.Optimizer,\n",
        "          loss_fn: torch.nn.Module,\n",
        "          epochs:int,\n",
        "          device: torch.device) -> Dict[str, List]:\n",
        "\n",
        "          results = {\"train_loss\": [],\n",
        "                     \"train_acc\": [],\n",
        "                     \"test_loss\": [],\n",
        "                     \"test_acc\": []\n",
        "                    }\n",
        "\n",
        "\n",
        "          for epoch in tqdm(range(epochs)):\n",
        "            train_loss, train_acc = train_step(model=model,\n",
        "                                                dataloader=train_dataloader,\n",
        "                                                loss_fn=loss_fn,\n",
        "                                                optimizer=optimizer,\n",
        "                                                device=device)\n",
        "\n",
        "            test_loss, test_acc = test_step(model=model,\n",
        "                                            dataloader=test_dataloader,\n",
        "                                            loss_fn=loss_fn,\n",
        "                                            device=device)\n",
        "\n",
        "\n",
        "            # print\n",
        "            print(\n",
        "                f\"Epoch: {epoch+1} | \"\n",
        "                f\"train_loss: {train_loss:.4f} | \"\n",
        "                f\"train_acc: {train_acc:.4f} | \"\n",
        "                f\"test_loss: {test_loss:.4f} | \"\n",
        "                f\"test_acc: {test_acc:.4f}\"\n",
        "            )\n",
        "\n",
        "            # update results dictionary\n",
        "            results[\"train_loss\"].append(train_loss)\n",
        "            results[\"train_acc\"].append(train_acc)\n",
        "            results[\"test_loss\"].append(test_loss)\n",
        "            results[\"test_acc\"].append(test_acc)\n",
        "\n",
        "          return results"
      ]
    },
    {
      "cell_type": "markdown",
      "id": "Zn8UEvhPhFa8",
      "metadata": {
        "id": "Zn8UEvhPhFa8"
      },
      "source": [
        "Now, we have the `engine.py` script, we can make use of\n",
        "\n",
        "```python\n",
        "from going_modular import engine\n",
        "engine.train()\n",
        "```"
      ]
    },
    {
      "cell_type": "markdown",
      "id": "4ZWzAZ9whOGO",
      "metadata": {
        "id": "4ZWzAZ9whOGO"
      },
      "source": [
        "### Creating a function to save the model `utils.py`"
      ]
    },
    {
      "cell_type": "markdown",
      "id": "wv2dHkoNhS1t",
      "metadata": {
        "id": "wv2dHkoNhS1t"
      },
      "source": [
        "Often, we want to save our model whilst it's training or after training. it's common practice to store helper functions in a file called `utils.py`\n",
        "\n",
        "Let's save our model `save_model()` in a file called `utils.py`"
      ]
    },
    {
      "cell_type": "code",
      "execution_count": 18,
      "id": "4NL3eZgTd0pa",
      "metadata": {
        "colab": {
          "base_uri": "https://localhost:8080/"
        },
        "id": "4NL3eZgTd0pa",
        "outputId": "334dfa32-2921-4e14-dde7-507b28cc0852"
      },
      "outputs": [
        {
          "name": "stdout",
          "output_type": "stream",
          "text": [
            "Overwriting going_modular/utils.py\n"
          ]
        }
      ],
      "source": [
        "%%writefile going_modular/utils.py\n",
        "\n",
        "import torch\n",
        "from pathlib import Path\n",
        "\n",
        "def save_model(model: torch.nn.Module,\n",
        "               target_dir: str,\n",
        "               model_name:str):\n",
        "\n",
        "  target_dir_path = Path(target_dir)\n",
        "  target_dir_path.mkdir(parents=True, exist_ok=True)\n",
        "\n",
        "\n",
        "  assert model_name.endswith(\".pth\") or model_name.endswith(\".pt\"), \"model_name should end with '.pt' or '.pth'\"\n",
        "  model_save_path = target_dir_path / model_name\n",
        "\n",
        "\n",
        "\n",
        "  # save the model\n",
        "  print(f\"[INFO] Saving model to: {model_save_path}\")\n",
        "  torch.save(obj=model.state_dict(), f=model_save_path)"
      ]
    },
    {
      "cell_type": "markdown",
      "id": "36x9_a3kiAI8",
      "metadata": {
        "id": "36x9_a3kiAI8"
      },
      "source": [
        "Now, if we wanted to use our `save_model()` function, instead of writing it all over again, we can import it and use it via:\n",
        "\n",
        "```python\n",
        "from going_modular import utils\n",
        "save_model(model=....,\n",
        "            target_dir=...,\n",
        "            model_name=...)\n",
        "```"
      ]
    },
    {
      "cell_type": "markdown",
      "id": "P8JB3TjYiUE7",
      "metadata": {
        "id": "P8JB3TjYiUE7"
      },
      "source": [
        "### Train, evaluate and save the model `train.py`"
      ]
    },
    {
      "cell_type": "markdown",
      "id": "jKIE_V_liahr",
      "metadata": {
        "id": "jKIE_V_liahr"
      },
      "source": [
        "The file is essentially saying \"train the model using whatever data is available\"\n",
        "\n",
        "In our `train.py` file, we'll combine all of the functionality of the other Python scripts we've created and use it totrain a model"
      ]
    },
    {
      "cell_type": "code",
      "execution_count": 19,
      "id": "9miN7-hyi17r",
      "metadata": {
        "id": "9miN7-hyi17r"
      },
      "outputs": [
        {
          "name": "stderr",
          "output_type": "stream",
          "text": [
            "/home/monitsharma/parallel_adventures/.venv/lib/python3.11/site-packages/tqdm/auto.py:21: TqdmWarning: IProgress not found. Please update jupyter and ipywidgets. See https://ipywidgets.readthedocs.io/en/stable/user_install.html\n",
            "  from .autonotebook import tqdm as notebook_tqdm\n"
          ]
        }
      ],
      "source": [
        "from going_modular import data_setup, engine, model_builder, utils"
      ]
    },
    {
      "cell_type": "code",
      "execution_count": 20,
      "id": "zgdMw6Ooh_FU",
      "metadata": {
        "colab": {
          "base_uri": "https://localhost:8080/"
        },
        "id": "zgdMw6Ooh_FU",
        "outputId": "b660f36e-9fcf-4a69-8fe7-02b07b993890"
      },
      "outputs": [
        {
          "name": "stdout",
          "output_type": "stream",
          "text": [
            "Writing going_modular/train.py\n"
          ]
        }
      ],
      "source": [
        "%%writefile going_modular/train.py\n",
        "\n",
        "import os\n",
        "import torch\n",
        "import data_setup, engine, model_builder, utils\n",
        "\n",
        "from torchvision import transforms\n",
        "\n",
        "NUM_EPOCHS = 5\n",
        "BATCH_SIZE = 32\n",
        "HIDDEN_UNITS = 10\n",
        "LEARNING_RATE = 0.001\n",
        "\n",
        "\n",
        "\n",
        "train_dir = \"data/pizza_steak_sushi/train\"\n",
        "test_dir = \"data/pizza_steak_sushi/test\"\n",
        "\n",
        "device = \"cuda\" if torch.cuda.is_available() else \"cpu\"\n",
        "\n",
        "# create transform\n",
        "data_transform = transforms.Compose([\n",
        "    transforms.Resize((64,64)),\n",
        "    transforms.ToTensor()\n",
        "])\n",
        "\n",
        "\n",
        "train_dataloader, test_dataloader, class_names = data_setup.create_dataloaders(\n",
        "    train_dir = train_dir,\n",
        "    test_dir = test_dir,\n",
        "    transform = data_transform,\n",
        "    batch_size = BATCH_SIZE\n",
        ")\n",
        "\n",
        "\n",
        "model = model_builder.TinyVGG(\n",
        "    input_shape=3,\n",
        "    hidden_units= HIDDEN_UNITS,\n",
        "    output_shape=len(class_names)\n",
        ").to(device)\n",
        "\n",
        "\n",
        "loss_fn = torch.nn.CrossEntropyLoss()\n",
        "\n",
        "optimizer = torch.optim.Adam(model.parameters(), lr=LEARNING_RATE)\n",
        "\n",
        "engine.train(model=model,\n",
        "             train_dataloader=train_dataloader,\n",
        "             test_dataloader=test_dataloader,\n",
        "             loss_fn=loss_fn,\n",
        "             optimizer=optimizer,\n",
        "             epochs=NUM_EPOCHS,\n",
        "             device=device)\n",
        "\n",
        "utils.save_model(model=model,\n",
        "                 target_dir=\"models\",\n",
        "                 model_name=\"pytorch_going_modular\")"
      ]
    },
    {
      "cell_type": "markdown",
      "id": "keCtVQ5ykiv6",
      "metadata": {
        "id": "keCtVQ5ykiv6"
      },
      "source": [
        "Now, we can just run al this, with `python train.py`"
      ]
    }
  ],
  "metadata": {
    "accelerator": "GPU",
    "colab": {
      "gpuType": "T4",
      "provenance": []
    },
    "kernelspec": {
      "display_name": "Python 3",
      "language": "python",
      "name": "python3"
    },
    "language_info": {
      "codemirror_mode": {
        "name": "ipython",
        "version": 3
      },
      "file_extension": ".py",
      "mimetype": "text/x-python",
      "name": "python",
      "nbconvert_exporter": "python",
      "pygments_lexer": "ipython3",
      "version": "3.11.5"
    }
  },
  "nbformat": 4,
  "nbformat_minor": 5
}
